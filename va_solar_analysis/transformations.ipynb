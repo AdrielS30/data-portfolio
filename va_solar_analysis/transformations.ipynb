{
 "cells": [
  {
   "cell_type": "markdown",
   "metadata": {},
   "source": [
    "# Transformations\n",
    "This file will create a csv that is optimized for Tableau visualizations.\n"
   ]
  },
  {
   "cell_type": "code",
   "execution_count": 11,
   "metadata": {},
   "outputs": [
    {
     "data": {
      "application/vnd.dataresource+json": {
       "data": [
        {
         "application_received": "4/29/24",
         "brownfield_site": "No",
         "city/county": "Chesterfield County",
         "commercial_operation_commenced": null,
         "construction_commenced": null,
         "disturbance_zone_acres": "450",
         "index": 0,
         "megawatts": 52,
         "mitigation_plan": "YES",
         "noi_received": "7/19/22",
         "pbr_authorization_letter": "7/15/24",
         "permit_name": "360 Solar Center Project",
         "total_acres": "800"
        },
        {
         "application_received": "5/31/19",
         "brownfield_site": "No",
         "city/county": "Campbell County",
         "commercial_operation_commenced": "6/4/21",
         "construction_commenced": "3/11/20",
         "disturbance_zone_acres": "0",
         "index": 1,
         "megawatts": 80,
         "mitigation_plan": "YES",
         "noi_received": "9/12/18",
         "pbr_authorization_letter": "8/8/19",
         "permit_name": "Altavista Solar LLC (FKA Dragonfly)",
         "total_acres": "1,200"
        },
        {
         "application_received": "9/15/20",
         "brownfield_site": "No",
         "city/county": "Halifax County",
         "commercial_operation_commenced": "12/24/24",
         "construction_commenced": "9/20/23",
         "disturbance_zone_acres": "501",
         "index": 2,
         "megawatts": 75,
         "mitigation_plan": "No",
         "noi_received": "10/6/17",
         "pbr_authorization_letter": "12/7/20",
         "permit_name": "Alton Post Office Solar, LLC",
         "total_acres": "768"
        }
       ],
       "schema": {
        "fields": [
         {
          "name": "index",
          "type": "integer"
         },
         {
          "name": "permit_name",
          "type": "string"
         },
         {
          "name": "megawatts",
          "type": "number"
         },
         {
          "name": "total_acres",
          "type": "string"
         },
         {
          "name": "disturbance_zone_acres",
          "type": "string"
         },
         {
          "name": "mitigation_plan",
          "type": "string"
         },
         {
          "name": "city/county",
          "type": "string"
         },
         {
          "name": "brownfield_site",
          "type": "string"
         },
         {
          "name": "noi_received",
          "type": "string"
         },
         {
          "name": "application_received",
          "type": "string"
         },
         {
          "name": "pbr_authorization_letter",
          "type": "string"
         },
         {
          "name": "construction_commenced",
          "type": "string"
         },
         {
          "name": "commercial_operation_commenced",
          "type": "string"
         }
        ],
        "pandas_version": "1.4.0",
        "primaryKey": [
         "index"
        ]
       }
      },
      "text/html": [
       "<div>\n",
       "<style scoped>\n",
       "    .dataframe tbody tr th:only-of-type {\n",
       "        vertical-align: middle;\n",
       "    }\n",
       "\n",
       "    .dataframe tbody tr th {\n",
       "        vertical-align: top;\n",
       "    }\n",
       "\n",
       "    .dataframe thead th {\n",
       "        text-align: right;\n",
       "    }\n",
       "</style>\n",
       "<table border=\"1\" class=\"dataframe\">\n",
       "  <thead>\n",
       "    <tr style=\"text-align: right;\">\n",
       "      <th></th>\n",
       "      <th>permit_name</th>\n",
       "      <th>megawatts</th>\n",
       "      <th>total_acres</th>\n",
       "      <th>disturbance_zone_acres</th>\n",
       "      <th>mitigation_plan</th>\n",
       "      <th>city/county</th>\n",
       "      <th>brownfield_site</th>\n",
       "      <th>noi_received</th>\n",
       "      <th>application_received</th>\n",
       "      <th>pbr_authorization_letter</th>\n",
       "      <th>construction_commenced</th>\n",
       "      <th>commercial_operation_commenced</th>\n",
       "    </tr>\n",
       "  </thead>\n",
       "  <tbody>\n",
       "    <tr>\n",
       "      <th>0</th>\n",
       "      <td>360 Solar Center Project</td>\n",
       "      <td>52.0</td>\n",
       "      <td>800</td>\n",
       "      <td>450</td>\n",
       "      <td>YES</td>\n",
       "      <td>Chesterfield County</td>\n",
       "      <td>No</td>\n",
       "      <td>7/19/22</td>\n",
       "      <td>4/29/24</td>\n",
       "      <td>7/15/24</td>\n",
       "      <td>NaN</td>\n",
       "      <td>NaN</td>\n",
       "    </tr>\n",
       "    <tr>\n",
       "      <th>1</th>\n",
       "      <td>Altavista Solar LLC (FKA Dragonfly)</td>\n",
       "      <td>80.0</td>\n",
       "      <td>1,200</td>\n",
       "      <td>0</td>\n",
       "      <td>YES</td>\n",
       "      <td>Campbell County</td>\n",
       "      <td>No</td>\n",
       "      <td>9/12/18</td>\n",
       "      <td>5/31/19</td>\n",
       "      <td>8/8/19</td>\n",
       "      <td>3/11/20</td>\n",
       "      <td>6/4/21</td>\n",
       "    </tr>\n",
       "    <tr>\n",
       "      <th>2</th>\n",
       "      <td>Alton Post Office Solar, LLC</td>\n",
       "      <td>75.0</td>\n",
       "      <td>768</td>\n",
       "      <td>501</td>\n",
       "      <td>No</td>\n",
       "      <td>Halifax County</td>\n",
       "      <td>No</td>\n",
       "      <td>10/6/17</td>\n",
       "      <td>9/15/20</td>\n",
       "      <td>12/7/20</td>\n",
       "      <td>9/20/23</td>\n",
       "      <td>12/24/24</td>\n",
       "    </tr>\n",
       "  </tbody>\n",
       "</table>\n",
       "</div>"
      ],
      "text/plain": [
       "                           permit_name  megawatts total_acres  \\\n",
       "0             360 Solar Center Project       52.0         800   \n",
       "1  Altavista Solar LLC (FKA Dragonfly)       80.0       1,200   \n",
       "2         Alton Post Office Solar, LLC       75.0         768   \n",
       "\n",
       "  disturbance_zone_acres mitigation_plan          city/county brownfield_site  \\\n",
       "0                    450             YES  Chesterfield County              No   \n",
       "1                      0             YES      Campbell County              No   \n",
       "2                    501              No       Halifax County              No   \n",
       "\n",
       "  noi_received application_received pbr_authorization_letter  \\\n",
       "0      7/19/22              4/29/24                  7/15/24   \n",
       "1      9/12/18              5/31/19                   8/8/19   \n",
       "2      10/6/17              9/15/20                  12/7/20   \n",
       "\n",
       "  construction_commenced commercial_operation_commenced  \n",
       "0                    NaN                            NaN  \n",
       "1                3/11/20                         6/4/21  \n",
       "2                9/20/23                       12/24/24  "
      ]
     },
     "metadata": {},
     "output_type": "display_data"
    },
    {
     "data": {
      "application/vnd.dataresource+json": {
       "data": [
        {
         "affiliation_2020": "red",
         "age_over_50_%": 47.3,
         "area": 455,
         "bachelors_or_over_%": 21.8,
         "biden_%": 44.68,
         "biden_votes": 7578,
         "city/county": "Accomack County",
         "index": 0,
         "margin_%": -9.39,
         "margin_votes": -1594,
         "median_household_income": 57500,
         "other_party_%": 1.25,
         "other_party_votes": 212,
         "pop_density_sqmi": 73.4307692308,
         "population": 33411,
         "total_votes": 16962,
         "trump_%": 54.07,
         "trump_votes": 9172
        },
        {
         "affiliation_2020": "blue",
         "age_over_50_%": 38.3,
         "area": 723,
         "bachelors_or_over_%": 60.6,
         "biden_%": 65.68,
         "biden_votes": 42466,
         "city/county": "Albemarle County",
         "index": 1,
         "margin_%": 33.5,
         "margin_votes": 21662,
         "median_household_income": 102617,
         "other_party_%": 2.14,
         "other_party_votes": 1387,
         "pop_density_sqmi": 162.2586445367,
         "population": 117313,
         "total_votes": 64657,
         "trump_%": 32.18,
         "trump_votes": 20804
        },
        {
         "affiliation_2020": "blue",
         "age_over_50_%": 30.2,
         "area": null,
         "bachelors_or_over_%": 65.8,
         "biden_%": 80.28,
         "biden_votes": 66240,
         "city/county": "Alexandria City",
         "index": 2,
         "margin_%": 62.65,
         "margin_votes": 51696,
         "median_household_income": 113638,
         "other_party_%": 2.09,
         "other_party_votes": 1724,
         "pop_density_sqmi": null,
         "population": null,
         "total_votes": 82508,
         "trump_%": 17.63,
         "trump_votes": 14544
        }
       ],
       "schema": {
        "fields": [
         {
          "name": "index",
          "type": "integer"
         },
         {
          "name": "city/county",
          "type": "string"
         },
         {
          "name": "biden_votes",
          "type": "integer"
         },
         {
          "name": "biden_%",
          "type": "number"
         },
         {
          "name": "trump_votes",
          "type": "integer"
         },
         {
          "name": "trump_%",
          "type": "number"
         },
         {
          "name": "other_party_votes",
          "type": "integer"
         },
         {
          "name": "other_party_%",
          "type": "number"
         },
         {
          "name": "margin_votes",
          "type": "integer"
         },
         {
          "name": "margin_%",
          "type": "number"
         },
         {
          "name": "total_votes",
          "type": "integer"
         },
         {
          "name": "population",
          "type": "number"
         },
         {
          "name": "area",
          "type": "number"
         },
         {
          "name": "pop_density_sqmi",
          "type": "number"
         },
         {
          "name": "affiliation_2020",
          "type": "string"
         },
         {
          "name": "median_household_income",
          "type": "number"
         },
         {
          "name": "bachelors_or_over_%",
          "type": "number"
         },
         {
          "name": "age_over_50_%",
          "type": "number"
         }
        ],
        "pandas_version": "1.4.0",
        "primaryKey": [
         "index"
        ]
       }
      },
      "text/html": [
       "<div>\n",
       "<style scoped>\n",
       "    .dataframe tbody tr th:only-of-type {\n",
       "        vertical-align: middle;\n",
       "    }\n",
       "\n",
       "    .dataframe tbody tr th {\n",
       "        vertical-align: top;\n",
       "    }\n",
       "\n",
       "    .dataframe thead th {\n",
       "        text-align: right;\n",
       "    }\n",
       "</style>\n",
       "<table border=\"1\" class=\"dataframe\">\n",
       "  <thead>\n",
       "    <tr style=\"text-align: right;\">\n",
       "      <th></th>\n",
       "      <th>city/county</th>\n",
       "      <th>biden_votes</th>\n",
       "      <th>biden_%</th>\n",
       "      <th>trump_votes</th>\n",
       "      <th>trump_%</th>\n",
       "      <th>other_party_votes</th>\n",
       "      <th>other_party_%</th>\n",
       "      <th>margin_votes</th>\n",
       "      <th>margin_%</th>\n",
       "      <th>total_votes</th>\n",
       "      <th>population</th>\n",
       "      <th>area</th>\n",
       "      <th>pop_density_sqmi</th>\n",
       "      <th>affiliation_2020</th>\n",
       "      <th>median_household_income</th>\n",
       "      <th>bachelors_or_over_%</th>\n",
       "      <th>age_over_50_%</th>\n",
       "    </tr>\n",
       "  </thead>\n",
       "  <tbody>\n",
       "    <tr>\n",
       "      <th>0</th>\n",
       "      <td>Accomack County</td>\n",
       "      <td>7578</td>\n",
       "      <td>44.68</td>\n",
       "      <td>9172</td>\n",
       "      <td>54.07</td>\n",
       "      <td>212</td>\n",
       "      <td>1.25</td>\n",
       "      <td>-1594</td>\n",
       "      <td>-9.39</td>\n",
       "      <td>16962</td>\n",
       "      <td>33411.0</td>\n",
       "      <td>455.0</td>\n",
       "      <td>73.430769</td>\n",
       "      <td>red</td>\n",
       "      <td>57500.0</td>\n",
       "      <td>21.8</td>\n",
       "      <td>47.3</td>\n",
       "    </tr>\n",
       "    <tr>\n",
       "      <th>1</th>\n",
       "      <td>Albemarle County</td>\n",
       "      <td>42466</td>\n",
       "      <td>65.68</td>\n",
       "      <td>20804</td>\n",
       "      <td>32.18</td>\n",
       "      <td>1387</td>\n",
       "      <td>2.14</td>\n",
       "      <td>21662</td>\n",
       "      <td>33.50</td>\n",
       "      <td>64657</td>\n",
       "      <td>117313.0</td>\n",
       "      <td>723.0</td>\n",
       "      <td>162.258645</td>\n",
       "      <td>blue</td>\n",
       "      <td>102617.0</td>\n",
       "      <td>60.6</td>\n",
       "      <td>38.3</td>\n",
       "    </tr>\n",
       "    <tr>\n",
       "      <th>2</th>\n",
       "      <td>Alexandria City</td>\n",
       "      <td>66240</td>\n",
       "      <td>80.28</td>\n",
       "      <td>14544</td>\n",
       "      <td>17.63</td>\n",
       "      <td>1724</td>\n",
       "      <td>2.09</td>\n",
       "      <td>51696</td>\n",
       "      <td>62.65</td>\n",
       "      <td>82508</td>\n",
       "      <td>NaN</td>\n",
       "      <td>NaN</td>\n",
       "      <td>NaN</td>\n",
       "      <td>blue</td>\n",
       "      <td>113638.0</td>\n",
       "      <td>65.8</td>\n",
       "      <td>30.2</td>\n",
       "    </tr>\n",
       "  </tbody>\n",
       "</table>\n",
       "</div>"
      ],
      "text/plain": [
       "        city/county  biden_votes  biden_%  trump_votes  trump_%  \\\n",
       "0   Accomack County         7578    44.68         9172    54.07   \n",
       "1  Albemarle County        42466    65.68        20804    32.18   \n",
       "2   Alexandria City        66240    80.28        14544    17.63   \n",
       "\n",
       "   other_party_votes  other_party_%  margin_votes  margin_%  total_votes  \\\n",
       "0                212           1.25         -1594     -9.39        16962   \n",
       "1               1387           2.14         21662     33.50        64657   \n",
       "2               1724           2.09         51696     62.65        82508   \n",
       "\n",
       "   population   area  pop_density_sqmi affiliation_2020  \\\n",
       "0     33411.0  455.0         73.430769              red   \n",
       "1    117313.0  723.0        162.258645             blue   \n",
       "2         NaN    NaN               NaN             blue   \n",
       "\n",
       "   median_household_income  bachelors_or_over_%  age_over_50_%  \n",
       "0                  57500.0                 21.8           47.3  \n",
       "1                 102617.0                 60.6           38.3  \n",
       "2                 113638.0                 65.8           30.2  "
      ]
     },
     "metadata": {},
     "output_type": "display_data"
    },
    {
     "name": "stdout",
     "output_type": "stream",
     "text": [
      "<class 'pandas.core.frame.DataFrame'>\n",
      "RangeIndex: 79 entries, 0 to 78\n",
      "Data columns (total 12 columns):\n",
      " #   Column                          Non-Null Count  Dtype  \n",
      "---  ------                          --------------  -----  \n",
      " 0   permit_name                     79 non-null     object \n",
      " 1   megawatts                       79 non-null     float64\n",
      " 2   total_acres                     79 non-null     object \n",
      " 3   disturbance_zone_acres          73 non-null     object \n",
      " 4   mitigation_plan                 76 non-null     object \n",
      " 5   city/county                     79 non-null     object \n",
      " 6   brownfield_site                 79 non-null     object \n",
      " 7   noi_received                    79 non-null     object \n",
      " 8   application_received            79 non-null     object \n",
      " 9   pbr_authorization_letter        79 non-null     object \n",
      " 10  construction_commenced          45 non-null     object \n",
      " 11  commercial_operation_commenced  39 non-null     object \n",
      "dtypes: float64(1), object(11)\n",
      "memory usage: 7.5+ KB\n",
      "None\n",
      "<class 'pandas.core.frame.DataFrame'>\n",
      "RangeIndex: 134 entries, 0 to 133\n",
      "Data columns (total 17 columns):\n",
      " #   Column                   Non-Null Count  Dtype  \n",
      "---  ------                   --------------  -----  \n",
      " 0   city/county              134 non-null    object \n",
      " 1   biden_votes              134 non-null    int64  \n",
      " 2   biden_%                  134 non-null    float64\n",
      " 3   trump_votes              134 non-null    int64  \n",
      " 4   trump_%                  134 non-null    float64\n",
      " 5   other_party_votes        134 non-null    int64  \n",
      " 6   other_party_%            134 non-null    float64\n",
      " 7   margin_votes             134 non-null    int64  \n",
      " 8   margin_%                 134 non-null    float64\n",
      " 9   total_votes              134 non-null    int64  \n",
      " 10  population               91 non-null     float64\n",
      " 11  area                     91 non-null     float64\n",
      " 12  pop_density_sqmi         91 non-null     float64\n",
      " 13  affiliation_2020         134 non-null    object \n",
      " 14  median_household_income  126 non-null    float64\n",
      " 15  bachelors_or_over_%      126 non-null    float64\n",
      " 16  age_over_50_%            126 non-null    float64\n",
      "dtypes: float64(10), int64(5), object(2)\n",
      "memory usage: 17.9+ KB\n",
      "None\n"
     ]
    }
   ],
   "source": [
    "import pandas as pd\n",
    "import seaborn as sns\n",
    "import matplotlib.pyplot as plt\n",
    "\n",
    "deq_df = pd.read_csv('csv_collection/deq_data_cleaned.csv')\n",
    "counties_df = pd.read_csv('csv_collection/cleaned_counties.csv')\n",
    "\n",
    "display(deq_df.head(3))\n",
    "display(counties_df.head(3))\n",
    "\n",
    "print(deq_df.info())\n",
    "print(counties_df.info())\n"
   ]
  },
  {
   "cell_type": "code",
   "execution_count": 12,
   "metadata": {},
   "outputs": [
    {
     "name": "stdout",
     "output_type": "stream",
     "text": [
      "<class 'pandas.core.frame.DataFrame'>\n",
      "RangeIndex: 79 entries, 0 to 78\n",
      "Data columns (total 13 columns):\n",
      " #   Column                          Non-Null Count  Dtype  \n",
      "---  ------                          --------------  -----  \n",
      " 0   permit_name                     79 non-null     object \n",
      " 1   megawatts                       79 non-null     float64\n",
      " 2   total_acres                     79 non-null     float64\n",
      " 3   disturbance_zone_acres          73 non-null     object \n",
      " 4   mitigation_plan                 76 non-null     object \n",
      " 5   city/county                     79 non-null     object \n",
      " 6   brownfield_site                 79 non-null     object \n",
      " 7   noi_received                    79 non-null     object \n",
      " 8   application_received            79 non-null     object \n",
      " 9   pbr_authorization_letter        79 non-null     object \n",
      " 10  construction_commenced          45 non-null     object \n",
      " 11  commercial_operation_commenced  39 non-null     object \n",
      " 12  total_project_mi                79 non-null     float64\n",
      "dtypes: float64(3), object(10)\n",
      "memory usage: 8.1+ KB\n",
      "None\n"
     ]
    }
   ],
   "source": [
    "# Fixing the acres column:\n",
    "\n",
    "deq_df['total_acres'] = deq_df['total_acres'].apply(lambda x: float(x.replace(',', '')))\n",
    "\n",
    "# Creating a square mile column\n",
    "deq_df['total_project_mi'] = deq_df['total_acres'] * 0.0015625\n",
    "\n",
    "print(deq_df.info())"
   ]
  },
  {
   "cell_type": "markdown",
   "metadata": {},
   "source": [
    "Removing unnecessary columns:"
   ]
  },
  {
   "cell_type": "code",
   "execution_count": 13,
   "metadata": {},
   "outputs": [],
   "source": [
    "deq_df = deq_df.drop(columns=['disturbance_zone_acres', 'brownfield_site', 'mitigation_plan', 'noi_received'])"
   ]
  },
  {
   "cell_type": "code",
   "execution_count": 14,
   "metadata": {},
   "outputs": [],
   "source": [
    "counties_df = counties_df.drop(columns=['biden_votes', 'biden_%',\n",
    "                                        'trump_votes', 'trump_%', 'other_party_votes', 'other_party_%', 'margin_votes'])"
   ]
  },
  {
   "cell_type": "code",
   "execution_count": 15,
   "metadata": {},
   "outputs": [
    {
     "name": "stdout",
     "output_type": "stream",
     "text": [
      "<class 'pandas.core.frame.DataFrame'>\n",
      "RangeIndex: 79 entries, 0 to 78\n",
      "Data columns (total 9 columns):\n",
      " #   Column                          Non-Null Count  Dtype  \n",
      "---  ------                          --------------  -----  \n",
      " 0   permit_name                     79 non-null     object \n",
      " 1   megawatts                       79 non-null     float64\n",
      " 2   total_acres                     79 non-null     float64\n",
      " 3   city/county                     79 non-null     object \n",
      " 4   application_received            79 non-null     object \n",
      " 5   pbr_authorization_letter        79 non-null     object \n",
      " 6   construction_commenced          45 non-null     object \n",
      " 7   commercial_operation_commenced  39 non-null     object \n",
      " 8   total_project_mi                79 non-null     float64\n",
      "dtypes: float64(3), object(6)\n",
      "memory usage: 5.7+ KB\n",
      "None\n",
      "<class 'pandas.core.frame.DataFrame'>\n",
      "RangeIndex: 134 entries, 0 to 133\n",
      "Data columns (total 10 columns):\n",
      " #   Column                   Non-Null Count  Dtype  \n",
      "---  ------                   --------------  -----  \n",
      " 0   city/county              134 non-null    object \n",
      " 1   margin_%                 134 non-null    float64\n",
      " 2   total_votes              134 non-null    int64  \n",
      " 3   population               91 non-null     float64\n",
      " 4   area                     91 non-null     float64\n",
      " 5   pop_density_sqmi         91 non-null     float64\n",
      " 6   affiliation_2020         134 non-null    object \n",
      " 7   median_household_income  126 non-null    float64\n",
      " 8   bachelors_or_over_%      126 non-null    float64\n",
      " 9   age_over_50_%            126 non-null    float64\n",
      "dtypes: float64(7), int64(1), object(2)\n",
      "memory usage: 10.6+ KB\n",
      "None\n"
     ]
    }
   ],
   "source": [
    "print(deq_df.info())\n",
    "print(counties_df.info())"
   ]
  },
  {
   "cell_type": "markdown",
   "metadata": {},
   "source": [
    "Creating a csv that groups by county, and also contains aggregates of the solar farms in that county:"
   ]
  },
  {
   "cell_type": "code",
   "execution_count": 16,
   "metadata": {},
   "outputs": [],
   "source": [
    "# First, standardize the 'city/county' column name for merging\n",
    "deq_df.rename(columns={'city/county': 'locality'}, inplace=True)\n",
    "counties_df.rename(columns={'city/county': 'locality'}, inplace=True)\n",
    "\n",
    "# Group projects by locality to calculate total MW and project count per locality\n",
    "project_agg = deq_df.groupby('locality').agg({\n",
    "    'megawatts': 'sum',\n",
    "    'permit_name': 'count'\n",
    "}).reset_index().rename(columns={\n",
    "    'megawatts': 'total_megawatts',\n",
    "    'permit_name': 'project_count'\n",
    "})\n",
    "\n",
    "# Merge aggregated project data with locality sociodemographics\n",
    "merged_df = pd.merge(counties_df, project_agg, on='locality', how='left')\n",
    "\n",
    "# Fill NaN for localities with 0 projects\n",
    "merged_df[['total_megawatts', 'project_count']] = merged_df[['total_megawatts', 'project_count']].fillna(0)\n",
    "\n",
    "# Aggregated columns for tabluea:\n",
    "merged_df['megawatts_per_sqmi'] = merged_df['total_megawatts'] / merged_df['area']\n",
    "merged_df['projects_per_100k_people'] = (merged_df['project_count'] / merged_df['population']) * 100000\n",
    "merged_df['megwatts_per_1000_people'] = (merged_df['total_megawatts'] / merged_df['population']) * 1000\n",
    "\n",
    "\n",
    "\n",
    "aggregated_localities_df = merged_df"
   ]
  },
  {
   "cell_type": "code",
   "execution_count": 17,
   "metadata": {},
   "outputs": [
    {
     "data": {
      "application/vnd.dataresource+json": {
       "data": [
        {
         "affiliation_2020": "red",
         "age_over_50_%": 47.3,
         "area": 455,
         "bachelors_or_over_%": 21.8,
         "index": 0,
         "locality": "Accomack County",
         "margin_%": -9.39,
         "median_household_income": 57500,
         "megawatts_per_sqmi": 0.3516483516,
         "megwatts_per_1000_people": 4.7888419981,
         "pop_density_sqmi": 73.4307692308,
         "population": 33411,
         "project_count": 2,
         "projects_per_100k_people": 5.9860524977,
         "total_megawatts": 160,
         "total_votes": 16962
        },
        {
         "affiliation_2020": "blue",
         "age_over_50_%": 38.3,
         "area": 723,
         "bachelors_or_over_%": 60.6,
         "index": 1,
         "locality": "Albemarle County",
         "margin_%": 33.5,
         "median_household_income": 102617,
         "megawatts_per_sqmi": 0.1908713693,
         "megwatts_per_1000_people": 1.176340218,
         "pop_density_sqmi": 162.2586445367,
         "population": 117313,
         "project_count": 1,
         "projects_per_100k_people": 0.8524204479,
         "total_megawatts": 138,
         "total_votes": 64657
        },
        {
         "affiliation_2020": "red",
         "age_over_50_%": 47.6,
         "area": 543,
         "bachelors_or_over_%": 27.5,
         "index": 12,
         "locality": "Botetourt County",
         "margin_%": -44.5,
         "median_household_income": 80467,
         "megawatts_per_sqmi": 0.1473296501,
         "megwatts_per_1000_people": 2.3440475842,
         "pop_density_sqmi": 62.8526703499,
         "population": 34129,
         "project_count": 1,
         "projects_per_100k_people": 2.9300594802,
         "total_megawatts": 80,
         "total_votes": 21120
        }
       ],
       "schema": {
        "fields": [
         {
          "name": "index",
          "type": "integer"
         },
         {
          "name": "locality",
          "type": "string"
         },
         {
          "name": "margin_%",
          "type": "number"
         },
         {
          "name": "total_votes",
          "type": "integer"
         },
         {
          "name": "population",
          "type": "number"
         },
         {
          "name": "area",
          "type": "number"
         },
         {
          "name": "pop_density_sqmi",
          "type": "number"
         },
         {
          "name": "affiliation_2020",
          "type": "string"
         },
         {
          "name": "median_household_income",
          "type": "number"
         },
         {
          "name": "bachelors_or_over_%",
          "type": "number"
         },
         {
          "name": "age_over_50_%",
          "type": "number"
         },
         {
          "name": "total_megawatts",
          "type": "number"
         },
         {
          "name": "project_count",
          "type": "number"
         },
         {
          "name": "megawatts_per_sqmi",
          "type": "number"
         },
         {
          "name": "projects_per_100k_people",
          "type": "number"
         },
         {
          "name": "megwatts_per_1000_people",
          "type": "number"
         }
        ],
        "pandas_version": "1.4.0",
        "primaryKey": [
         "index"
        ]
       }
      },
      "text/html": [
       "<div>\n",
       "<style scoped>\n",
       "    .dataframe tbody tr th:only-of-type {\n",
       "        vertical-align: middle;\n",
       "    }\n",
       "\n",
       "    .dataframe tbody tr th {\n",
       "        vertical-align: top;\n",
       "    }\n",
       "\n",
       "    .dataframe thead th {\n",
       "        text-align: right;\n",
       "    }\n",
       "</style>\n",
       "<table border=\"1\" class=\"dataframe\">\n",
       "  <thead>\n",
       "    <tr style=\"text-align: right;\">\n",
       "      <th></th>\n",
       "      <th>locality</th>\n",
       "      <th>margin_%</th>\n",
       "      <th>total_votes</th>\n",
       "      <th>population</th>\n",
       "      <th>area</th>\n",
       "      <th>pop_density_sqmi</th>\n",
       "      <th>affiliation_2020</th>\n",
       "      <th>median_household_income</th>\n",
       "      <th>bachelors_or_over_%</th>\n",
       "      <th>age_over_50_%</th>\n",
       "      <th>total_megawatts</th>\n",
       "      <th>project_count</th>\n",
       "      <th>megawatts_per_sqmi</th>\n",
       "      <th>projects_per_100k_people</th>\n",
       "      <th>megwatts_per_1000_people</th>\n",
       "    </tr>\n",
       "  </thead>\n",
       "  <tbody>\n",
       "    <tr>\n",
       "      <th>0</th>\n",
       "      <td>Accomack County</td>\n",
       "      <td>-9.39</td>\n",
       "      <td>16962</td>\n",
       "      <td>33411.0</td>\n",
       "      <td>455.0</td>\n",
       "      <td>73.430769</td>\n",
       "      <td>red</td>\n",
       "      <td>57500.0</td>\n",
       "      <td>21.8</td>\n",
       "      <td>47.3</td>\n",
       "      <td>160.0</td>\n",
       "      <td>2.0</td>\n",
       "      <td>0.351648</td>\n",
       "      <td>5.986052</td>\n",
       "      <td>4.788842</td>\n",
       "    </tr>\n",
       "    <tr>\n",
       "      <th>1</th>\n",
       "      <td>Albemarle County</td>\n",
       "      <td>33.50</td>\n",
       "      <td>64657</td>\n",
       "      <td>117313.0</td>\n",
       "      <td>723.0</td>\n",
       "      <td>162.258645</td>\n",
       "      <td>blue</td>\n",
       "      <td>102617.0</td>\n",
       "      <td>60.6</td>\n",
       "      <td>38.3</td>\n",
       "      <td>138.0</td>\n",
       "      <td>1.0</td>\n",
       "      <td>0.190871</td>\n",
       "      <td>0.852420</td>\n",
       "      <td>1.176340</td>\n",
       "    </tr>\n",
       "    <tr>\n",
       "      <th>12</th>\n",
       "      <td>Botetourt County</td>\n",
       "      <td>-44.50</td>\n",
       "      <td>21120</td>\n",
       "      <td>34129.0</td>\n",
       "      <td>543.0</td>\n",
       "      <td>62.852670</td>\n",
       "      <td>red</td>\n",
       "      <td>80467.0</td>\n",
       "      <td>27.5</td>\n",
       "      <td>47.6</td>\n",
       "      <td>80.0</td>\n",
       "      <td>1.0</td>\n",
       "      <td>0.147330</td>\n",
       "      <td>2.930059</td>\n",
       "      <td>2.344048</td>\n",
       "    </tr>\n",
       "  </tbody>\n",
       "</table>\n",
       "</div>"
      ],
      "text/plain": [
       "            locality  margin_%  total_votes  population   area  \\\n",
       "0    Accomack County     -9.39        16962     33411.0  455.0   \n",
       "1   Albemarle County     33.50        64657    117313.0  723.0   \n",
       "12  Botetourt County    -44.50        21120     34129.0  543.0   \n",
       "\n",
       "    pop_density_sqmi affiliation_2020  median_household_income  \\\n",
       "0          73.430769              red                  57500.0   \n",
       "1         162.258645             blue                 102617.0   \n",
       "12         62.852670              red                  80467.0   \n",
       "\n",
       "    bachelors_or_over_%  age_over_50_%  total_megawatts  project_count  \\\n",
       "0                  21.8           47.3            160.0            2.0   \n",
       "1                  60.6           38.3            138.0            1.0   \n",
       "12                 27.5           47.6             80.0            1.0   \n",
       "\n",
       "    megawatts_per_sqmi  projects_per_100k_people  megwatts_per_1000_people  \n",
       "0             0.351648                  5.986052                  4.788842  \n",
       "1             0.190871                  0.852420                  1.176340  \n",
       "12            0.147330                  2.930059                  2.344048  "
      ]
     },
     "metadata": {},
     "output_type": "display_data"
    }
   ],
   "source": [
    "# Only looking at counties that have solar projects:\n",
    "\n",
    "aggregated_localities_df = aggregated_localities_df[aggregated_localities_df['project_count'] > 0]\n",
    "\n",
    "aggregated_localities_df = aggregated_localities_df[aggregated_localities_df['locality'].str.contains('County')]\n",
    "\n",
    "display(aggregated_localities_df.head(3))"
   ]
  },
  {
   "cell_type": "code",
   "execution_count": 18,
   "metadata": {},
   "outputs": [
    {
     "data": {
      "application/vnd.dataresource+json": {
       "data": [
        {
         "affiliation_2020": "red",
         "age_over_50_%": 47.3,
         "area": 455,
         "bachelors_or_over_%": 21.8,
         "index": 0,
         "locality": "Accomack County",
         "margin_%": -9.39,
         "median_household_income": 57500,
         "megawatts_per_sqmi": 0.3516483516,
         "megwatts_per_1000_people": 4.7888419981,
         "pop_density_sqmi": 73.4307692308,
         "population": 33411,
         "project_count": 2,
         "projects_per_100k_people": 5.9860524977,
         "state": "Virginia",
         "total_megawatts": 160,
         "total_votes": 16962
        },
        {
         "affiliation_2020": "blue",
         "age_over_50_%": 38.3,
         "area": 723,
         "bachelors_or_over_%": 60.6,
         "index": 1,
         "locality": "Albemarle County",
         "margin_%": 33.5,
         "median_household_income": 102617,
         "megawatts_per_sqmi": 0.1908713693,
         "megwatts_per_1000_people": 1.176340218,
         "pop_density_sqmi": 162.2586445367,
         "population": 117313,
         "project_count": 1,
         "projects_per_100k_people": 0.8524204479,
         "state": "Virginia",
         "total_megawatts": 138,
         "total_votes": 64657
        },
        {
         "affiliation_2020": "red",
         "age_over_50_%": 47.6,
         "area": 543,
         "bachelors_or_over_%": 27.5,
         "index": 12,
         "locality": "Botetourt County",
         "margin_%": -44.5,
         "median_household_income": 80467,
         "megawatts_per_sqmi": 0.1473296501,
         "megwatts_per_1000_people": 2.3440475842,
         "pop_density_sqmi": 62.8526703499,
         "population": 34129,
         "project_count": 1,
         "projects_per_100k_people": 2.9300594802,
         "state": "Virginia",
         "total_megawatts": 80,
         "total_votes": 21120
        }
       ],
       "schema": {
        "fields": [
         {
          "name": "index",
          "type": "integer"
         },
         {
          "name": "locality",
          "type": "string"
         },
         {
          "name": "margin_%",
          "type": "number"
         },
         {
          "name": "total_votes",
          "type": "integer"
         },
         {
          "name": "population",
          "type": "number"
         },
         {
          "name": "area",
          "type": "number"
         },
         {
          "name": "pop_density_sqmi",
          "type": "number"
         },
         {
          "name": "affiliation_2020",
          "type": "string"
         },
         {
          "name": "median_household_income",
          "type": "number"
         },
         {
          "name": "bachelors_or_over_%",
          "type": "number"
         },
         {
          "name": "age_over_50_%",
          "type": "number"
         },
         {
          "name": "total_megawatts",
          "type": "number"
         },
         {
          "name": "project_count",
          "type": "number"
         },
         {
          "name": "megawatts_per_sqmi",
          "type": "number"
         },
         {
          "name": "projects_per_100k_people",
          "type": "number"
         },
         {
          "name": "megwatts_per_1000_people",
          "type": "number"
         },
         {
          "name": "state",
          "type": "string"
         }
        ],
        "pandas_version": "1.4.0",
        "primaryKey": [
         "index"
        ]
       }
      },
      "text/html": [
       "<div>\n",
       "<style scoped>\n",
       "    .dataframe tbody tr th:only-of-type {\n",
       "        vertical-align: middle;\n",
       "    }\n",
       "\n",
       "    .dataframe tbody tr th {\n",
       "        vertical-align: top;\n",
       "    }\n",
       "\n",
       "    .dataframe thead th {\n",
       "        text-align: right;\n",
       "    }\n",
       "</style>\n",
       "<table border=\"1\" class=\"dataframe\">\n",
       "  <thead>\n",
       "    <tr style=\"text-align: right;\">\n",
       "      <th></th>\n",
       "      <th>locality</th>\n",
       "      <th>margin_%</th>\n",
       "      <th>total_votes</th>\n",
       "      <th>population</th>\n",
       "      <th>area</th>\n",
       "      <th>pop_density_sqmi</th>\n",
       "      <th>affiliation_2020</th>\n",
       "      <th>median_household_income</th>\n",
       "      <th>bachelors_or_over_%</th>\n",
       "      <th>age_over_50_%</th>\n",
       "      <th>total_megawatts</th>\n",
       "      <th>project_count</th>\n",
       "      <th>megawatts_per_sqmi</th>\n",
       "      <th>projects_per_100k_people</th>\n",
       "      <th>megwatts_per_1000_people</th>\n",
       "      <th>state</th>\n",
       "    </tr>\n",
       "  </thead>\n",
       "  <tbody>\n",
       "    <tr>\n",
       "      <th>0</th>\n",
       "      <td>Accomack County</td>\n",
       "      <td>-9.39</td>\n",
       "      <td>16962</td>\n",
       "      <td>33411.0</td>\n",
       "      <td>455.0</td>\n",
       "      <td>73.430769</td>\n",
       "      <td>red</td>\n",
       "      <td>57500.0</td>\n",
       "      <td>21.8</td>\n",
       "      <td>47.3</td>\n",
       "      <td>160.0</td>\n",
       "      <td>2.0</td>\n",
       "      <td>0.351648</td>\n",
       "      <td>5.986052</td>\n",
       "      <td>4.788842</td>\n",
       "      <td>Virginia</td>\n",
       "    </tr>\n",
       "    <tr>\n",
       "      <th>1</th>\n",
       "      <td>Albemarle County</td>\n",
       "      <td>33.50</td>\n",
       "      <td>64657</td>\n",
       "      <td>117313.0</td>\n",
       "      <td>723.0</td>\n",
       "      <td>162.258645</td>\n",
       "      <td>blue</td>\n",
       "      <td>102617.0</td>\n",
       "      <td>60.6</td>\n",
       "      <td>38.3</td>\n",
       "      <td>138.0</td>\n",
       "      <td>1.0</td>\n",
       "      <td>0.190871</td>\n",
       "      <td>0.852420</td>\n",
       "      <td>1.176340</td>\n",
       "      <td>Virginia</td>\n",
       "    </tr>\n",
       "    <tr>\n",
       "      <th>12</th>\n",
       "      <td>Botetourt County</td>\n",
       "      <td>-44.50</td>\n",
       "      <td>21120</td>\n",
       "      <td>34129.0</td>\n",
       "      <td>543.0</td>\n",
       "      <td>62.852670</td>\n",
       "      <td>red</td>\n",
       "      <td>80467.0</td>\n",
       "      <td>27.5</td>\n",
       "      <td>47.6</td>\n",
       "      <td>80.0</td>\n",
       "      <td>1.0</td>\n",
       "      <td>0.147330</td>\n",
       "      <td>2.930059</td>\n",
       "      <td>2.344048</td>\n",
       "      <td>Virginia</td>\n",
       "    </tr>\n",
       "  </tbody>\n",
       "</table>\n",
       "</div>"
      ],
      "text/plain": [
       "            locality  margin_%  total_votes  population   area  \\\n",
       "0    Accomack County     -9.39        16962     33411.0  455.0   \n",
       "1   Albemarle County     33.50        64657    117313.0  723.0   \n",
       "12  Botetourt County    -44.50        21120     34129.0  543.0   \n",
       "\n",
       "    pop_density_sqmi affiliation_2020  median_household_income  \\\n",
       "0          73.430769              red                  57500.0   \n",
       "1         162.258645             blue                 102617.0   \n",
       "12         62.852670              red                  80467.0   \n",
       "\n",
       "    bachelors_or_over_%  age_over_50_%  total_megawatts  project_count  \\\n",
       "0                  21.8           47.3            160.0            2.0   \n",
       "1                  60.6           38.3            138.0            1.0   \n",
       "12                 27.5           47.6             80.0            1.0   \n",
       "\n",
       "    megawatts_per_sqmi  projects_per_100k_people  megwatts_per_1000_people  \\\n",
       "0             0.351648                  5.986052                  4.788842   \n",
       "1             0.190871                  0.852420                  1.176340   \n",
       "12            0.147330                  2.930059                  2.344048   \n",
       "\n",
       "       state  \n",
       "0   Virginia  \n",
       "1   Virginia  \n",
       "12  Virginia  "
      ]
     },
     "metadata": {},
     "output_type": "display_data"
    }
   ],
   "source": [
    "aggregated_localities_df['state'] = 'Virginia'\n",
    "\n",
    "display(aggregated_localities_df.head(3))"
   ]
  },
  {
   "cell_type": "code",
   "execution_count": 19,
   "metadata": {},
   "outputs": [],
   "source": [
    "# Saving as a csv:\n",
    "aggregated_counties_df = aggregated_localities_df\n",
    "\n",
    "aggregated_counties_df = aggregated_counties_df.rename(columns={'locality': 'county'})\n",
    "\n",
    "aggregated_counties_df.to_csv('aggregated_counties.csv')"
   ]
  }
 ],
 "metadata": {
  "kernelspec": {
   "display_name": ".venv",
   "language": "python",
   "name": "python3"
  },
  "language_info": {
   "codemirror_mode": {
    "name": "ipython",
    "version": 3
   },
   "file_extension": ".py",
   "mimetype": "text/x-python",
   "name": "python",
   "nbconvert_exporter": "python",
   "pygments_lexer": "ipython3",
   "version": "3.10.2"
  }
 },
 "nbformat": 4,
 "nbformat_minor": 2
}
