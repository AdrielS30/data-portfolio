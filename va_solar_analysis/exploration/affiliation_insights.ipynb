{
 "cells": [
  {
   "cell_type": "markdown",
   "metadata": {},
   "source": [
    "# Affiliation Analysis\n",
    "In this file I will explore the relationship between party affiliation and solar farms. Per affiliation, I will look at:\n",
    "- Percent of land dedicated to solar farms.\n",
    "- MWs per capita.\n",
    "- Solar farm efficiency.\n",
    "- Frequency of solar projects.\n",
    "- Graphing the distribution and spread of project sizes."
   ]
  },
  {
   "cell_type": "code",
   "execution_count": 1,
   "metadata": {},
   "outputs": [
    {
     "data": {
      "application/vnd.dataresource+json": {
       "data": [
        {
         "application_received": "4/29/24",
         "brownfield_site": "No",
         "city/county": "Chesterfield County",
         "commercial_operation_commenced": null,
         "construction_commenced": null,
         "disturbance_zone_acres": "450",
         "index": 0,
         "megawatts": 52,
         "mitigation_plan": "YES",
         "noi_received": "7/19/22",
         "pbr_authorization_letter": "7/15/24",
         "permit_name": "360 Solar Center Project",
         "total_acres": "800"
        },
        {
         "application_received": "5/31/19",
         "brownfield_site": "No",
         "city/county": "Campbell County",
         "commercial_operation_commenced": "6/4/21",
         "construction_commenced": "3/11/20",
         "disturbance_zone_acres": "0",
         "index": 1,
         "megawatts": 80,
         "mitigation_plan": "YES",
         "noi_received": "9/12/18",
         "pbr_authorization_letter": "8/8/19",
         "permit_name": "Altavista Solar LLC (FKA Dragonfly)",
         "total_acres": "1,200"
        }
       ],
       "schema": {
        "fields": [
         {
          "name": "index",
          "type": "integer"
         },
         {
          "name": "permit_name",
          "type": "string"
         },
         {
          "name": "megawatts",
          "type": "number"
         },
         {
          "name": "total_acres",
          "type": "string"
         },
         {
          "name": "disturbance_zone_acres",
          "type": "string"
         },
         {
          "name": "mitigation_plan",
          "type": "string"
         },
         {
          "name": "city/county",
          "type": "string"
         },
         {
          "name": "brownfield_site",
          "type": "string"
         },
         {
          "name": "noi_received",
          "type": "string"
         },
         {
          "name": "application_received",
          "type": "string"
         },
         {
          "name": "pbr_authorization_letter",
          "type": "string"
         },
         {
          "name": "construction_commenced",
          "type": "string"
         },
         {
          "name": "commercial_operation_commenced",
          "type": "string"
         }
        ],
        "pandas_version": "1.4.0",
        "primaryKey": [
         "index"
        ]
       }
      },
      "text/html": [
       "<div>\n",
       "<style scoped>\n",
       "    .dataframe tbody tr th:only-of-type {\n",
       "        vertical-align: middle;\n",
       "    }\n",
       "\n",
       "    .dataframe tbody tr th {\n",
       "        vertical-align: top;\n",
       "    }\n",
       "\n",
       "    .dataframe thead th {\n",
       "        text-align: right;\n",
       "    }\n",
       "</style>\n",
       "<table border=\"1\" class=\"dataframe\">\n",
       "  <thead>\n",
       "    <tr style=\"text-align: right;\">\n",
       "      <th></th>\n",
       "      <th>permit_name</th>\n",
       "      <th>megawatts</th>\n",
       "      <th>total_acres</th>\n",
       "      <th>disturbance_zone_acres</th>\n",
       "      <th>mitigation_plan</th>\n",
       "      <th>city/county</th>\n",
       "      <th>brownfield_site</th>\n",
       "      <th>noi_received</th>\n",
       "      <th>application_received</th>\n",
       "      <th>pbr_authorization_letter</th>\n",
       "      <th>construction_commenced</th>\n",
       "      <th>commercial_operation_commenced</th>\n",
       "    </tr>\n",
       "  </thead>\n",
       "  <tbody>\n",
       "    <tr>\n",
       "      <th>0</th>\n",
       "      <td>360 Solar Center Project</td>\n",
       "      <td>52.0</td>\n",
       "      <td>800</td>\n",
       "      <td>450</td>\n",
       "      <td>YES</td>\n",
       "      <td>Chesterfield County</td>\n",
       "      <td>No</td>\n",
       "      <td>7/19/22</td>\n",
       "      <td>4/29/24</td>\n",
       "      <td>7/15/24</td>\n",
       "      <td>NaN</td>\n",
       "      <td>NaN</td>\n",
       "    </tr>\n",
       "    <tr>\n",
       "      <th>1</th>\n",
       "      <td>Altavista Solar LLC (FKA Dragonfly)</td>\n",
       "      <td>80.0</td>\n",
       "      <td>1,200</td>\n",
       "      <td>0</td>\n",
       "      <td>YES</td>\n",
       "      <td>Campbell County</td>\n",
       "      <td>No</td>\n",
       "      <td>9/12/18</td>\n",
       "      <td>5/31/19</td>\n",
       "      <td>8/8/19</td>\n",
       "      <td>3/11/20</td>\n",
       "      <td>6/4/21</td>\n",
       "    </tr>\n",
       "  </tbody>\n",
       "</table>\n",
       "</div>"
      ],
      "text/plain": [
       "                           permit_name  megawatts total_acres  \\\n",
       "0             360 Solar Center Project       52.0         800   \n",
       "1  Altavista Solar LLC (FKA Dragonfly)       80.0       1,200   \n",
       "\n",
       "  disturbance_zone_acres mitigation_plan          city/county brownfield_site  \\\n",
       "0                    450             YES  Chesterfield County              No   \n",
       "1                      0             YES      Campbell County              No   \n",
       "\n",
       "  noi_received application_received pbr_authorization_letter  \\\n",
       "0      7/19/22              4/29/24                  7/15/24   \n",
       "1      9/12/18              5/31/19                   8/8/19   \n",
       "\n",
       "  construction_commenced commercial_operation_commenced  \n",
       "0                    NaN                            NaN  \n",
       "1                3/11/20                         6/4/21  "
      ]
     },
     "metadata": {},
     "output_type": "display_data"
    },
    {
     "data": {
      "application/vnd.dataresource+json": {
       "data": [
        {
         "affiliation_2020": "red",
         "age_over_50_%": 47.3,
         "area": 455,
         "bachelors_or_over_%": 21.8,
         "biden_%": 44.68,
         "biden_votes": 7578,
         "city/county": "Accomack County",
         "index": 0,
         "margin_%": -9.39,
         "margin_votes": -1594,
         "median_household_income": 57500,
         "other_party_%": 1.25,
         "other_party_votes": 212,
         "pop_density_sqmi": 73.4307692308,
         "population": 33411,
         "total_votes": 16962,
         "trump_%": 54.07,
         "trump_votes": 9172
        },
        {
         "affiliation_2020": "blue",
         "age_over_50_%": 38.3,
         "area": 723,
         "bachelors_or_over_%": 60.6,
         "biden_%": 65.68,
         "biden_votes": 42466,
         "city/county": "Albemarle County",
         "index": 1,
         "margin_%": 33.5,
         "margin_votes": 21662,
         "median_household_income": 102617,
         "other_party_%": 2.14,
         "other_party_votes": 1387,
         "pop_density_sqmi": 162.2586445367,
         "population": 117313,
         "total_votes": 64657,
         "trump_%": 32.18,
         "trump_votes": 20804
        }
       ],
       "schema": {
        "fields": [
         {
          "name": "index",
          "type": "integer"
         },
         {
          "name": "city/county",
          "type": "string"
         },
         {
          "name": "biden_votes",
          "type": "integer"
         },
         {
          "name": "biden_%",
          "type": "number"
         },
         {
          "name": "trump_votes",
          "type": "integer"
         },
         {
          "name": "trump_%",
          "type": "number"
         },
         {
          "name": "other_party_votes",
          "type": "integer"
         },
         {
          "name": "other_party_%",
          "type": "number"
         },
         {
          "name": "margin_votes",
          "type": "integer"
         },
         {
          "name": "margin_%",
          "type": "number"
         },
         {
          "name": "total_votes",
          "type": "integer"
         },
         {
          "name": "population",
          "type": "number"
         },
         {
          "name": "area",
          "type": "number"
         },
         {
          "name": "pop_density_sqmi",
          "type": "number"
         },
         {
          "name": "affiliation_2020",
          "type": "string"
         },
         {
          "name": "median_household_income",
          "type": "number"
         },
         {
          "name": "bachelors_or_over_%",
          "type": "number"
         },
         {
          "name": "age_over_50_%",
          "type": "number"
         }
        ],
        "pandas_version": "1.4.0",
        "primaryKey": [
         "index"
        ]
       }
      },
      "text/html": [
       "<div>\n",
       "<style scoped>\n",
       "    .dataframe tbody tr th:only-of-type {\n",
       "        vertical-align: middle;\n",
       "    }\n",
       "\n",
       "    .dataframe tbody tr th {\n",
       "        vertical-align: top;\n",
       "    }\n",
       "\n",
       "    .dataframe thead th {\n",
       "        text-align: right;\n",
       "    }\n",
       "</style>\n",
       "<table border=\"1\" class=\"dataframe\">\n",
       "  <thead>\n",
       "    <tr style=\"text-align: right;\">\n",
       "      <th></th>\n",
       "      <th>city/county</th>\n",
       "      <th>biden_votes</th>\n",
       "      <th>biden_%</th>\n",
       "      <th>trump_votes</th>\n",
       "      <th>trump_%</th>\n",
       "      <th>other_party_votes</th>\n",
       "      <th>other_party_%</th>\n",
       "      <th>margin_votes</th>\n",
       "      <th>margin_%</th>\n",
       "      <th>total_votes</th>\n",
       "      <th>population</th>\n",
       "      <th>area</th>\n",
       "      <th>pop_density_sqmi</th>\n",
       "      <th>affiliation_2020</th>\n",
       "      <th>median_household_income</th>\n",
       "      <th>bachelors_or_over_%</th>\n",
       "      <th>age_over_50_%</th>\n",
       "    </tr>\n",
       "  </thead>\n",
       "  <tbody>\n",
       "    <tr>\n",
       "      <th>0</th>\n",
       "      <td>Accomack County</td>\n",
       "      <td>7578</td>\n",
       "      <td>44.68</td>\n",
       "      <td>9172</td>\n",
       "      <td>54.07</td>\n",
       "      <td>212</td>\n",
       "      <td>1.25</td>\n",
       "      <td>-1594</td>\n",
       "      <td>-9.39</td>\n",
       "      <td>16962</td>\n",
       "      <td>33411.0</td>\n",
       "      <td>455.0</td>\n",
       "      <td>73.430769</td>\n",
       "      <td>red</td>\n",
       "      <td>57500.0</td>\n",
       "      <td>21.8</td>\n",
       "      <td>47.3</td>\n",
       "    </tr>\n",
       "    <tr>\n",
       "      <th>1</th>\n",
       "      <td>Albemarle County</td>\n",
       "      <td>42466</td>\n",
       "      <td>65.68</td>\n",
       "      <td>20804</td>\n",
       "      <td>32.18</td>\n",
       "      <td>1387</td>\n",
       "      <td>2.14</td>\n",
       "      <td>21662</td>\n",
       "      <td>33.50</td>\n",
       "      <td>64657</td>\n",
       "      <td>117313.0</td>\n",
       "      <td>723.0</td>\n",
       "      <td>162.258645</td>\n",
       "      <td>blue</td>\n",
       "      <td>102617.0</td>\n",
       "      <td>60.6</td>\n",
       "      <td>38.3</td>\n",
       "    </tr>\n",
       "  </tbody>\n",
       "</table>\n",
       "</div>"
      ],
      "text/plain": [
       "        city/county  biden_votes  biden_%  trump_votes  trump_%  \\\n",
       "0   Accomack County         7578    44.68         9172    54.07   \n",
       "1  Albemarle County        42466    65.68        20804    32.18   \n",
       "\n",
       "   other_party_votes  other_party_%  margin_votes  margin_%  total_votes  \\\n",
       "0                212           1.25         -1594     -9.39        16962   \n",
       "1               1387           2.14         21662     33.50        64657   \n",
       "\n",
       "   population   area  pop_density_sqmi affiliation_2020  \\\n",
       "0     33411.0  455.0         73.430769              red   \n",
       "1    117313.0  723.0        162.258645             blue   \n",
       "\n",
       "   median_household_income  bachelors_or_over_%  age_over_50_%  \n",
       "0                  57500.0                 21.8           47.3  \n",
       "1                 102617.0                 60.6           38.3  "
      ]
     },
     "metadata": {},
     "output_type": "display_data"
    }
   ],
   "source": [
    "import pandas as pd\n",
    "import seaborn as sns\n",
    "import matplotlib.pyplot as plt\n",
    "\n",
    "deq_df = pd.read_csv('../csv_collection/deq_data_cleaned.csv')\n",
    "counties_df = pd.read_csv('../csv_collection/cleaned_counties.csv')\n",
    "\n",
    "display(deq_df.head(2))\n",
    "display(counties_df.head(2))"
   ]
  },
  {
   "cell_type": "code",
   "execution_count": 2,
   "metadata": {},
   "outputs": [
    {
     "data": {
      "application/vnd.dataresource+json": {
       "data": [
        {
         "application_received": "4/29/24",
         "brownfield_site": "No",
         "city/county": "Chesterfield County",
         "commercial_operation_commenced": null,
         "construction_commenced": null,
         "disturbance_zone_acres": "450",
         "index": 0,
         "megawatts": 52,
         "mitigation_plan": "YES",
         "noi_received": "7/19/22",
         "pbr_authorization_letter": "7/15/24",
         "permit_name": "360 Solar Center Project",
         "total_acres": 800
        },
        {
         "application_received": "5/31/19",
         "brownfield_site": "No",
         "city/county": "Campbell County",
         "commercial_operation_commenced": "6/4/21",
         "construction_commenced": "3/11/20",
         "disturbance_zone_acres": "0",
         "index": 1,
         "megawatts": 80,
         "mitigation_plan": "YES",
         "noi_received": "9/12/18",
         "pbr_authorization_letter": "8/8/19",
         "permit_name": "Altavista Solar LLC (FKA Dragonfly)",
         "total_acres": 1200
        },
        {
         "application_received": "9/15/20",
         "brownfield_site": "No",
         "city/county": "Halifax County",
         "commercial_operation_commenced": "12/24/24",
         "construction_commenced": "9/20/23",
         "disturbance_zone_acres": "501",
         "index": 2,
         "megawatts": 75,
         "mitigation_plan": "No",
         "noi_received": "10/6/17",
         "pbr_authorization_letter": "12/7/20",
         "permit_name": "Alton Post Office Solar, LLC",
         "total_acres": 768
        }
       ],
       "schema": {
        "fields": [
         {
          "name": "index",
          "type": "integer"
         },
         {
          "name": "permit_name",
          "type": "string"
         },
         {
          "name": "megawatts",
          "type": "number"
         },
         {
          "name": "total_acres",
          "type": "number"
         },
         {
          "name": "disturbance_zone_acres",
          "type": "string"
         },
         {
          "name": "mitigation_plan",
          "type": "string"
         },
         {
          "name": "city/county",
          "type": "string"
         },
         {
          "name": "brownfield_site",
          "type": "string"
         },
         {
          "name": "noi_received",
          "type": "string"
         },
         {
          "name": "application_received",
          "type": "string"
         },
         {
          "name": "pbr_authorization_letter",
          "type": "string"
         },
         {
          "name": "construction_commenced",
          "type": "string"
         },
         {
          "name": "commercial_operation_commenced",
          "type": "string"
         }
        ],
        "pandas_version": "1.4.0",
        "primaryKey": [
         "index"
        ]
       }
      },
      "text/html": [
       "<div>\n",
       "<style scoped>\n",
       "    .dataframe tbody tr th:only-of-type {\n",
       "        vertical-align: middle;\n",
       "    }\n",
       "\n",
       "    .dataframe tbody tr th {\n",
       "        vertical-align: top;\n",
       "    }\n",
       "\n",
       "    .dataframe thead th {\n",
       "        text-align: right;\n",
       "    }\n",
       "</style>\n",
       "<table border=\"1\" class=\"dataframe\">\n",
       "  <thead>\n",
       "    <tr style=\"text-align: right;\">\n",
       "      <th></th>\n",
       "      <th>permit_name</th>\n",
       "      <th>megawatts</th>\n",
       "      <th>total_acres</th>\n",
       "      <th>disturbance_zone_acres</th>\n",
       "      <th>mitigation_plan</th>\n",
       "      <th>city/county</th>\n",
       "      <th>brownfield_site</th>\n",
       "      <th>noi_received</th>\n",
       "      <th>application_received</th>\n",
       "      <th>pbr_authorization_letter</th>\n",
       "      <th>construction_commenced</th>\n",
       "      <th>commercial_operation_commenced</th>\n",
       "    </tr>\n",
       "  </thead>\n",
       "  <tbody>\n",
       "    <tr>\n",
       "      <th>0</th>\n",
       "      <td>360 Solar Center Project</td>\n",
       "      <td>52.0</td>\n",
       "      <td>800.0</td>\n",
       "      <td>450</td>\n",
       "      <td>YES</td>\n",
       "      <td>Chesterfield County</td>\n",
       "      <td>No</td>\n",
       "      <td>7/19/22</td>\n",
       "      <td>4/29/24</td>\n",
       "      <td>7/15/24</td>\n",
       "      <td>NaN</td>\n",
       "      <td>NaN</td>\n",
       "    </tr>\n",
       "    <tr>\n",
       "      <th>1</th>\n",
       "      <td>Altavista Solar LLC (FKA Dragonfly)</td>\n",
       "      <td>80.0</td>\n",
       "      <td>1200.0</td>\n",
       "      <td>0</td>\n",
       "      <td>YES</td>\n",
       "      <td>Campbell County</td>\n",
       "      <td>No</td>\n",
       "      <td>9/12/18</td>\n",
       "      <td>5/31/19</td>\n",
       "      <td>8/8/19</td>\n",
       "      <td>3/11/20</td>\n",
       "      <td>6/4/21</td>\n",
       "    </tr>\n",
       "    <tr>\n",
       "      <th>2</th>\n",
       "      <td>Alton Post Office Solar, LLC</td>\n",
       "      <td>75.0</td>\n",
       "      <td>768.0</td>\n",
       "      <td>501</td>\n",
       "      <td>No</td>\n",
       "      <td>Halifax County</td>\n",
       "      <td>No</td>\n",
       "      <td>10/6/17</td>\n",
       "      <td>9/15/20</td>\n",
       "      <td>12/7/20</td>\n",
       "      <td>9/20/23</td>\n",
       "      <td>12/24/24</td>\n",
       "    </tr>\n",
       "  </tbody>\n",
       "</table>\n",
       "</div>"
      ],
      "text/plain": [
       "                           permit_name  megawatts  total_acres  \\\n",
       "0             360 Solar Center Project       52.0        800.0   \n",
       "1  Altavista Solar LLC (FKA Dragonfly)       80.0       1200.0   \n",
       "2         Alton Post Office Solar, LLC       75.0        768.0   \n",
       "\n",
       "  disturbance_zone_acres mitigation_plan          city/county brownfield_site  \\\n",
       "0                    450             YES  Chesterfield County              No   \n",
       "1                      0             YES      Campbell County              No   \n",
       "2                    501              No       Halifax County              No   \n",
       "\n",
       "  noi_received application_received pbr_authorization_letter  \\\n",
       "0      7/19/22              4/29/24                  7/15/24   \n",
       "1      9/12/18              5/31/19                   8/8/19   \n",
       "2      10/6/17              9/15/20                  12/7/20   \n",
       "\n",
       "  construction_commenced commercial_operation_commenced  \n",
       "0                    NaN                            NaN  \n",
       "1                3/11/20                         6/4/21  \n",
       "2                9/20/23                       12/24/24  "
      ]
     },
     "metadata": {},
     "output_type": "display_data"
    },
    {
     "name": "stdout",
     "output_type": "stream",
     "text": [
      "<class 'pandas.core.frame.DataFrame'>\n",
      "RangeIndex: 79 entries, 0 to 78\n",
      "Data columns (total 12 columns):\n",
      " #   Column                          Non-Null Count  Dtype  \n",
      "---  ------                          --------------  -----  \n",
      " 0   permit_name                     79 non-null     object \n",
      " 1   megawatts                       79 non-null     float64\n",
      " 2   total_acres                     79 non-null     float64\n",
      " 3   disturbance_zone_acres          73 non-null     object \n",
      " 4   mitigation_plan                 76 non-null     object \n",
      " 5   city/county                     79 non-null     object \n",
      " 6   brownfield_site                 79 non-null     object \n",
      " 7   noi_received                    79 non-null     object \n",
      " 8   application_received            79 non-null     object \n",
      " 9   pbr_authorization_letter        79 non-null     object \n",
      " 10  construction_commenced          45 non-null     object \n",
      " 11  commercial_operation_commenced  39 non-null     object \n",
      "dtypes: float64(2), object(10)\n",
      "memory usage: 7.5+ KB\n",
      "None\n"
     ]
    }
   ],
   "source": [
    "# Creating the necessary DataFrame for affiliation calculations:\n",
    "deq_df['total_acres'] = deq_df['total_acres'].apply(lambda x: float(x.replace(',', '')))\n",
    "\n",
    "affiliated_df = pd.merge(\n",
    "    deq_df,\n",
    "    counties_df[['city/county', 'affiliation_2020', 'area', 'population']],\n",
    "    how='left',\n",
    "    on='city/county'\n",
    ")\n",
    "\n",
    "# Creating a square mile column\n",
    "affiliated_df['total_project_mi'] = affiliated_df['total_acres'] * 0.0015625\n",
    "\n",
    "display(deq_df.head(3))\n",
    "print(deq_df.info())"
   ]
  },
  {
   "cell_type": "markdown",
   "metadata": {},
   "source": [
    "### Percent of land dedicated to solar farms:"
   ]
  },
  {
   "cell_type": "code",
   "execution_count": 3,
   "metadata": {},
   "outputs": [
    {
     "name": "stdout",
     "output_type": "stream",
     "text": [
      "0.280 % of Red localities are currently solar farms \n",
      "0.500 % of Blue localities are currently solar farms \n"
     ]
    }
   ],
   "source": [
    "# Will need to give the deq_df party affiliations:\n",
    "\n",
    "red_aff_df = affiliated_df[affiliated_df['affiliation_2020'] == 'red']\n",
    "blue_aff_df = affiliated_df[affiliated_df['affiliation_2020'] == 'blue']\n",
    "\n",
    "red_aff_project_miles = red_aff_df['total_project_mi'].sum()\n",
    "blue_aff_project_miles = blue_aff_df['total_project_mi'].sum()\n",
    "\n",
    "red_aff_total_miles = red_aff_df['area'].sum()\n",
    "blue_aff_total_miles = blue_aff_df['area'].sum()\n",
    "\n",
    "red_ratio = red_aff_project_miles / red_aff_total_miles\n",
    "blue_ratio = blue_aff_project_miles / blue_aff_total_miles\n",
    "\n",
    "print(f\"{red_ratio * 100:.3f} % of Red localities are currently solar farms \")\n",
    "print(f\"{blue_ratio * 100:.3f} % of Blue localities are currently solar farms \")"
   ]
  },
  {
   "cell_type": "markdown",
   "metadata": {},
   "source": [
    "Let's find the total mw count of each affiliation:"
   ]
  },
  {
   "cell_type": "code",
   "execution_count": null,
   "metadata": {},
   "outputs": [
    {
     "name": "stdout",
     "output_type": "stream",
     "text": [
      "59\n",
      "19\n",
      "4289.6\n",
      "1027.0\n"
     ]
    }
   ],
   "source": [
    "total_red = red_aff_df['megawatts'].sum()\n",
    "total_blue = blue_aff_df['megawatts'].sum()\n",
    "\n",
    "print(len(red_aff_df))\n",
    "print(len(blue_aff_df))\n",
    "\n",
    "print(total_red)\n",
    "print(total_blue)\n"
   ]
  },
  {
   "cell_type": "markdown",
   "metadata": {},
   "source": [
    "### MW per capita (MW per 1000 people):"
   ]
  },
  {
   "cell_type": "code",
   "execution_count": null,
   "metadata": {},
   "outputs": [
    {
     "name": "stdout",
     "output_type": "stream",
     "text": [
      "There are 0.556 MWs per 1000 people in Blue localities\n",
      "There are 1.760 MWs per 1000 people in Red localities\n"
     ]
    }
   ],
   "source": [
    "# First,  get the total amount of megawatts for red and blue counties:\n",
    "blue_counties_with_mw = blue_aff_df\n",
    "red_counties_with_mw = red_aff_df\n",
    "\n",
    "total_blue_mw = blue_counties_with_mw['megawatts'].sum()\n",
    "total_red_mw = red_counties_with_mw['megawatts'].sum()\n",
    "\n",
    "# Next, get the total population of red and blue counties:\n",
    "total_blue_pop = blue_counties_with_mw['population'].sum()\n",
    "total_red_pop = red_counties_with_mw['population'].sum()\n",
    "\n",
    "# Finally, divide\n",
    "blue_mw_per_1000 = (total_blue_mw / total_blue_pop) * 1000\n",
    "red_mw_per_1000 = (total_red_mw / total_red_pop) * 1000\n",
    "\n",
    "# Print results with improved formatting.\n",
    "print(f\"There are {blue_mw_per_1000:.3f} MWs per 1000 people in Blue localities\")\n",
    "print(f\"There are {red_mw_per_1000:.3f} MWs per 1000 people in Red localities\")\n"
   ]
  },
  {
   "cell_type": "markdown",
   "metadata": {},
   "source": [
    "### Solar farm efficiency:"
   ]
  },
  {
   "cell_type": "code",
   "execution_count": 6,
   "metadata": {},
   "outputs": [
    {
     "name": "stdout",
     "output_type": "stream",
     "text": [
      "Solar farms in Blue localities generate 41.4635377239465 MWs per mile\n",
      "Solar farms in Red localities generate 52.0385169459398 MWs per mile\n"
     ]
    }
   ],
   "source": [
    "blue_mw_per_solar_land = total_blue_mw / blue_aff_project_miles\n",
    "\n",
    "red_mw_per_solar_land = total_red_mw / red_aff_project_miles\n",
    "\n",
    "print(f\"Solar farms in Blue localities generate {blue_mw_per_solar_land} MWs per mile\")\n",
    "print(f\"Solar farms in Red localities generate {red_mw_per_solar_land} MWs per mile\")\n"
   ]
  },
  {
   "cell_type": "markdown",
   "metadata": {},
   "source": [
    "### Frequency of solar farms:"
   ]
  },
  {
   "cell_type": "code",
   "execution_count": null,
   "metadata": {},
   "outputs": [
    {
     "name": "stdout",
     "output_type": "stream",
     "text": [
      "affiliation_2020\n",
      "red     59\n",
      "blue    19\n",
      "Name: count, dtype: int64\n",
      "affiliation_2020\n",
      "red     87\n",
      "blue    47\n",
      "Name: count, dtype: int64\n",
      "Red localities are 1.6775559588626738 times more likely to have solar projects in them.\n"
     ]
    }
   ],
   "source": [
    "project_affiliations = affiliated_df['affiliation_2020'].value_counts()\n",
    "red_blue_localites_count  = counties_df['affiliation_2020'].value_counts()\n",
    "\n",
    "print(project_affiliations)\n",
    "print(red_blue_localites_count)\n",
    "\n",
    "red_rate = 59/87\n",
    "blue_rate = 19/47\n",
    "\n",
    "rate_red_over_blue = red_rate / blue_rate\n",
    "# rate_red_over_blue = red_rate / blue_rate\n",
    "\n",
    "print(f\"Red localities are {rate_red_over_blue} times more likely to have solar projects in them.\")"
   ]
  },
  {
   "cell_type": "code",
   "execution_count": 8,
   "metadata": {},
   "outputs": [
    {
     "data": {
      "image/png": "[encoded data removed]",
      "text/plain": [
       "<Figure size 1400x800 with 3 Axes>"
      ]
     },
     "metadata": {},
     "output_type": "display_data"
    }
   ],
   "source": [
    "# Now let's look at the distribution of project sizes (both by acre and by MW) per blue and red counties\n",
    "plt.figure(figsize=(14, 8))\n",
    "\n",
    "ax1 = plt.subplot(1, 3, 1)\n",
    "sns.boxplot(\n",
    "    x='affiliation_2020',\n",
    "    y='total_acres',\n",
    "    data=affiliated_df\n",
    ")\n",
    "plt.ylabel('Acres')\n",
    "plt.title('Project Sizes by Acres')\n",
    "\n",
    "ax2 = plt.subplot(1, 3, 2)\n",
    "sns.boxplot(\n",
    "    x='affiliation_2020',\n",
    "    y='megawatts',\n",
    "    data=affiliated_df\n",
    ")\n",
    "plt.ylabel('Megawatts')\n",
    "plt.title('Project Sizes by MWs')\n",
    "\n",
    "ax3 = plt.subplot(1, 3, 3)\n",
    "sns.histplot(\n",
    "    x=blue_counties_with_mw['megawatts'],\n",
    "    data=blue_counties_with_mw,\n",
    "    bins=20,\n",
    "    kde=True,\n",
    "    color='blue',\n",
    "    label=\"Blue Counties\",\n",
    "    alpha=0.5  # Adjust transparency\n",
    ")\n",
    "sns.histplot(\n",
    "    x=red_counties_with_mw['megawatts'],\n",
    "    data=red_counties_with_mw,\n",
    "    bins=20,\n",
    "    kde=True,\n",
    "    color='red',\n",
    "    label=\"Red Counties\",\n",
    "    alpha=0.5  # Adjust transparency\n",
    ")\n",
    "\n",
    "plt.legend()\n",
    "plt.title(\"Distribution of Megawatts in Blue vs. Red Counties\")\n",
    "plt.xlabel(\"Megawatts\")\n",
    "plt.ylabel(\"Count\")\n",
    "\n",
    "plt.show();"
   ]
  },
  {
   "cell_type": "code",
   "execution_count": null,
   "metadata": {},
   "outputs": [
    {
     "name": "stdout",
     "output_type": "stream",
     "text": [
      "0.280 % of Red localities are currently solar farms \n",
      "0.500 % of Blue localities are currently solar farms \n",
      "There are 0.556 MWs per 1000 people in Blue localities\n",
      "There are 1.760 MWs per 1000 people in Red localities\n",
      "Solar farms in Blue localities generate 41.4635377239465 MWs per mile\n",
      "Solar farms in Red localities generate 52.0385169459398 MWs per mile\n",
      "Red localities are 1.6775559588626738 times more likely to have solar projects in them.\n",
      "There are a total of 4289.6 mw on red affiliated localities\n",
      "There are a total of 1027.0 mw on blue affiliated localities\n",
      "Red, and blue solar farm counts:\n",
      "59\n",
      "19\n"
     ]
    }
   ],
   "source": [
    "# Grouping the findings for the summary:\n",
    "\n",
    "# Percent of land dedicated to solar farms:\n",
    "print(f\"{red_ratio * 100:.3f} percent of Red localities are currently solar farms \")\n",
    "print(f\"{blue_ratio * 100:.3f} % of Blue localities are currently solar farms \")\n",
    "\n",
    "# MW per capita (MW per 1000 people):\n",
    "print(f\"There are {blue_mw_per_1000:.3f} MWs per 1000 people in Blue localities\")\n",
    "print(f\"There are {red_mw_per_1000:.3f} MWs per 1000 people in Red localities\")\n",
    "\n",
    "# Solar farm efficiency:\n",
    "print(f\"Solar farms in Blue localities generate {blue_mw_per_solar_land} MWs per mile\")\n",
    "print(f\"Solar farms in Red localities generate {red_mw_per_solar_land} MWs per mile\")\n",
    "\n",
    "# Solar farm frequency:\n",
    "print(f\"Red localities are {rate_red_over_blue} times more likely to have solar projects in them.\")\n",
    "\n",
    "# Total mw count:\n",
    "print(f\"There are a total of {total_red} mw on red affiliated localities\")\n",
    "print(f\"There are a total of {total_blue} mw on blue affiliated localities\")\n",
    "\n",
    "# Solar farm count:\n",
    "print(\"Red, and blue solar farm counts:\")\n",
    "print(len(red_aff_df))\n",
    "print(len(blue_aff_df))\n"
   ]
  },
  {
   "cell_type": "markdown",
   "metadata": {},
   "source": [
    "# Summary:\n",
    "There's a clear trend between Red and Blue localities when it comes to producing utility-scale solar power, that also reflects the trends from the demographic file. Although Blue localities allocate more land towards solar farms than Red ones do, Red localities are much more efficient in their production. This is indicative of how much more efficient large-scale projects are than small ones. Multiple small solar farms require additional buffer zones that add to project size but take away from MW production. Larger projects are able to squeeze in more solar panels per acre, creating more efficient solar farms. It's reasons like these that developers continue to prioritize rural counties for development, as not only do they feature more attractive zoning regulations, but they are much more profitable per square mile."
   ]
  }
 ],
 "metadata": {
  "kernelspec": {
   "display_name": ".venv",
   "language": "python",
   "name": "python3"
  },
  "language_info": {
   "codemirror_mode": {
    "name": "ipython",
    "version": 3
   },
   "file_extension": ".py",
   "mimetype": "text/x-python",
   "name": "python",
   "nbconvert_exporter": "python",
   "pygments_lexer": "ipython3",
   "version": "3.10.2"
  }
 },
 "nbformat": 4,
 "nbformat_minor": 2
}
