{
 "cells": [
  {
   "cell_type": "markdown",
   "id": "c4438221",
   "metadata": {},
   "source": [
    "# Summaries"
   ]
  },
  {
   "cell_type": "markdown",
   "id": "34de8313",
   "metadata": {},
   "source": [
    "Here I will give summaries of: \n",
    "- Data collection\n",
    "- Cleaning\n",
    "- Explorations\n",
    "    - Affiliation insights - differences in efficiency and density between Red and Blue localities\n",
    "    - Other insights - time series analysis, basic explorations of solar statistics in Virginia\n",
    "    - Demographic explorations - correlations between demographic/sociographic statistics and solar farm density\n",
    "- The null hypothesis\n",
    "\n",
    "And also a final conclusion."
   ]
  },
  {
   "cell_type": "markdown",
   "id": "007ef8d9",
   "metadata": {},
   "source": [
    "## Data Collection:"
   ]
  },
  {
   "cell_type": "markdown",
   "id": "c0c126d2",
   "metadata": {},
   "source": [
    "I collected data from https://en.wikipedia.org/wiki/2020_United_States_presidential_election_in_Virginia to compile \n",
    "countys that went red or blue in 2020 in Virginia.\n",
    "\n",
    "I collected data from https://en.wikipedia.org/wiki/List_of_cities_and_counties_in_Virginia to compile a list of countys in VA and their demographic information."
   ]
  },
  {
   "cell_type": "markdown",
   "id": "4c83a7a0",
   "metadata": {},
   "source": [
    "I also downloaded 3 csvs from the US Department of Health and Human Services website, concerning age, income, and education data on Virginian counties."
   ]
  },
  {
   "cell_type": "markdown",
   "id": "65ec8b43",
   "metadata": {},
   "source": [
    "I also downloaded a csv from the Virginian DEQ website that contained a list of all renewable energy projects that had been permitted in Virginia."
   ]
  },
  {
   "cell_type": "markdown",
   "id": "d84e4509",
   "metadata": {},
   "source": [
    "## Data Cleaning:"
   ]
  },
  {
   "cell_type": "markdown",
   "id": "168a45b7",
   "metadata": {},
   "source": [
    "In the cleaning_counties.ipynb file, I cleaned the csvs on demographics and election info, and also merged them with further Health and Human Services csvs, all into one large Data Frame containing all the necessary demographic and sociographic info.\n",
    "\n",
    "I then cleaned the DEQ Data Frame that contained the information on permitted solar farms.\n"
   ]
  },
  {
   "cell_type": "markdown",
   "id": "5c991eb0",
   "metadata": {},
   "source": [
    "For the main demographics csv, I did the following:\n",
    "- Dropped eroneous columns\n",
    "- Made the area readable in sq miles\n",
    "- Made a population density column"
   ]
  },
  {
   "cell_type": "markdown",
   "id": "5001e334",
   "metadata": {},
   "source": [
    "I then cleaned the election csv, doing the following:\n",
    "- Renamed columns and dropped eroneous ones\n",
    "- Aligned the naming conventions with the naming conventions of the other csvs concerning counties and independent cities in Virginia.\n",
    "- Created a political affiliation column"
   ]
  },
  {
   "cell_type": "markdown",
   "id": "1ca46864",
   "metadata": {},
   "source": [
    "I then added the other health and human services csvs to the main demographic Data Frame, and then merged them all together, only containing the pertinent information. "
   ]
  },
  {
   "cell_type": "markdown",
   "id": "c9bef492",
   "metadata": {},
   "source": [
    "Here is the before and after of all the csvs/Data Frames on county demographics and sociographics:"
   ]
  },
  {
   "cell_type": "code",
   "execution_count": 8,
   "id": "e91b6e56",
   "metadata": {},
   "outputs": [
    {
     "name": "stdout",
     "output_type": "stream",
     "text": [
      "The main demographic and sociographic DFs looked like this:\n"
     ]
    },
    {
     "data": {
      "application/vnd.dataresource+json": {
       "data": [
        {
         "Area[6]": "455 sq mi (1,178 km2)",
         "County": "Accomack County",
         "County seat[6][7]": "Accomac",
         "Est.[6]": 1663,
         "Etymology": "From the Native American word Accawmack, meaning \"on the other side\", referencing the county's position across Chesapeake Bay",
         "FIPS code[5]": 1,
         "Map": null,
         "Origin": "Accomac Shire was established in 1634 as one of the original eight shires of Virginia. In 1642, it was renamed Northampton County. Then in 1663, Northampton County was divided into two counties. The southern half remained Northampton County while the northern half became Accomac County -- later renamed Accomack with a \"k.\"",
         "Population[8]": 33411,
         "index": 0
        },
        {
         "Area[6]": "723 sq mi (1,873 km2)",
         "County": "Albemarle County",
         "County seat[6][7]": "Charlottesville",
         "Est.[6]": 1744,
         "Etymology": "Willem Anne van Keppel, 2nd Earl of Albemarle, colonial proprietary governor",
         "FIPS code[5]": 3,
         "Map": null,
         "Origin": "In 1744, the Virginia General Assembly created Albemarle County by taking the northern portion of Goochland County.",
         "Population[8]": 117313,
         "index": 1
        },
        {
         "Area[6]": "446 sq mi (1,155 km2)",
         "County": "Alleghany County",
         "County seat[6][7]": "Covington",
         "Est.[6]": 1822,
         "Etymology": "Alleghany Mountains",
         "FIPS code[5]": 5,
         "Map": null,
         "Origin": "Formed from parts of Bath and Botetourt counties as well as Monroe County (now in WV)",
         "Population[8]": 14632,
         "index": 2
        }
       ],
       "schema": {
        "fields": [
         {
          "name": "index",
          "type": "integer"
         },
         {
          "name": "County",
          "type": "string"
         },
         {
          "name": "FIPS code[5]",
          "type": "integer"
         },
         {
          "name": "County seat[6][7]",
          "type": "string"
         },
         {
          "name": "Est.[6]",
          "type": "integer"
         },
         {
          "name": "Origin",
          "type": "string"
         },
         {
          "name": "Etymology",
          "type": "string"
         },
         {
          "name": "Population[8]",
          "type": "integer"
         },
         {
          "name": "Area[6]",
          "type": "string"
         },
         {
          "name": "Map",
          "type": "number"
         }
        ],
        "pandas_version": "1.4.0",
        "primaryKey": [
         "index"
        ]
       }
      },
      "text/html": [
       "<div>\n",
       "<style scoped>\n",
       "    .dataframe tbody tr th:only-of-type {\n",
       "        vertical-align: middle;\n",
       "    }\n",
       "\n",
       "    .dataframe tbody tr th {\n",
       "        vertical-align: top;\n",
       "    }\n",
       "\n",
       "    .dataframe thead th {\n",
       "        text-align: right;\n",
       "    }\n",
       "</style>\n",
       "<table border=\"1\" class=\"dataframe\">\n",
       "  <thead>\n",
       "    <tr style=\"text-align: right;\">\n",
       "      <th></th>\n",
       "      <th>County</th>\n",
       "      <th>FIPS code[5]</th>\n",
       "      <th>County seat[6][7]</th>\n",
       "      <th>Est.[6]</th>\n",
       "      <th>Origin</th>\n",
       "      <th>Etymology</th>\n",
       "      <th>Population[8]</th>\n",
       "      <th>Area[6]</th>\n",
       "      <th>Map</th>\n",
       "    </tr>\n",
       "  </thead>\n",
       "  <tbody>\n",
       "    <tr>\n",
       "      <th>0</th>\n",
       "      <td>Accomack County</td>\n",
       "      <td>1</td>\n",
       "      <td>Accomac</td>\n",
       "      <td>1663</td>\n",
       "      <td>Accomac Shire was established in 1634 as one o...</td>\n",
       "      <td>From the Native American word Accawmack, meani...</td>\n",
       "      <td>33411</td>\n",
       "      <td>455 sq mi (1,178 km2)</td>\n",
       "      <td>NaN</td>\n",
       "    </tr>\n",
       "    <tr>\n",
       "      <th>1</th>\n",
       "      <td>Albemarle County</td>\n",
       "      <td>3</td>\n",
       "      <td>Charlottesville</td>\n",
       "      <td>1744</td>\n",
       "      <td>In 1744, the Virginia General Assembly created...</td>\n",
       "      <td>Willem Anne van Keppel, 2nd Earl of Albemarle,...</td>\n",
       "      <td>117313</td>\n",
       "      <td>723 sq mi (1,873 km2)</td>\n",
       "      <td>NaN</td>\n",
       "    </tr>\n",
       "    <tr>\n",
       "      <th>2</th>\n",
       "      <td>Alleghany County</td>\n",
       "      <td>5</td>\n",
       "      <td>Covington</td>\n",
       "      <td>1822</td>\n",
       "      <td>Formed from parts of Bath and Botetourt counti...</td>\n",
       "      <td>Alleghany Mountains</td>\n",
       "      <td>14632</td>\n",
       "      <td>446 sq mi (1,155 km2)</td>\n",
       "      <td>NaN</td>\n",
       "    </tr>\n",
       "  </tbody>\n",
       "</table>\n",
       "</div>"
      ],
      "text/plain": [
       "             County  FIPS code[5] County seat[6][7]  Est.[6]  \\\n",
       "0   Accomack County             1           Accomac     1663   \n",
       "1  Albemarle County             3   Charlottesville     1744   \n",
       "2  Alleghany County             5         Covington     1822   \n",
       "\n",
       "                                              Origin  \\\n",
       "0  Accomac Shire was established in 1634 as one o...   \n",
       "1  In 1744, the Virginia General Assembly created...   \n",
       "2  Formed from parts of Bath and Botetourt counti...   \n",
       "\n",
       "                                           Etymology  Population[8]  \\\n",
       "0  From the Native American word Accawmack, meani...          33411   \n",
       "1  Willem Anne van Keppel, 2nd Earl of Albemarle,...         117313   \n",
       "2                                Alleghany Mountains          14632   \n",
       "\n",
       "                 Area[6]  Map  \n",
       "0  455 sq mi (1,178 km2)  NaN  \n",
       "1  723 sq mi (1,873 km2)  NaN  \n",
       "2  446 sq mi (1,155 km2)  NaN  "
      ]
     },
     "metadata": {},
     "output_type": "display_data"
    },
    {
     "name": "stdout",
     "output_type": "stream",
     "text": [
      "The election DF:\n"
     ]
    },
    {
     "data": {
      "application/vnd.dataresource+json": {
       "data": [
        {
         "County/City": "County/City",
         "Donald Trump Republican": "#",
         "Donald Trump Republican.1": "%",
         "Joe Biden Democratic": "#",
         "Joe Biden Democratic.1": "%",
         "Margin": "#",
         "Margin.1": "%",
         "Total": "Total",
         "Various candidates Other parties": "#",
         "Various candidates Other parties.1": "%",
         "index": 0
        },
        {
         "County/City": "Accomack",
         "Donald Trump Republican": "9172",
         "Donald Trump Republican.1": "54.07%",
         "Joe Biden Democratic": "7578",
         "Joe Biden Democratic.1": "44.68%",
         "Margin": "-1594",
         "Margin.1": "-9.39%",
         "Total": "16962",
         "Various candidates Other parties": "212",
         "Various candidates Other parties.1": "1.25%",
         "index": 1
        },
        {
         "County/City": "Albemarle",
         "Donald Trump Republican": "20804",
         "Donald Trump Republican.1": "32.18%",
         "Joe Biden Democratic": "42466",
         "Joe Biden Democratic.1": "65.68%",
         "Margin": "21662",
         "Margin.1": "33.50%",
         "Total": "64657",
         "Various candidates Other parties": "1387",
         "Various candidates Other parties.1": "2.14%",
         "index": 2
        }
       ],
       "schema": {
        "fields": [
         {
          "name": "index",
          "type": "integer"
         },
         {
          "name": "County/City",
          "type": "string"
         },
         {
          "name": "Joe Biden Democratic",
          "type": "string"
         },
         {
          "name": "Joe Biden Democratic.1",
          "type": "string"
         },
         {
          "name": "Donald Trump Republican",
          "type": "string"
         },
         {
          "name": "Donald Trump Republican.1",
          "type": "string"
         },
         {
          "name": "Various candidates Other parties",
          "type": "string"
         },
         {
          "name": "Various candidates Other parties.1",
          "type": "string"
         },
         {
          "name": "Margin",
          "type": "string"
         },
         {
          "name": "Margin.1",
          "type": "string"
         },
         {
          "name": "Total",
          "type": "string"
         }
        ],
        "pandas_version": "1.4.0",
        "primaryKey": [
         "index"
        ]
       }
      },
      "text/html": [
       "<div>\n",
       "<style scoped>\n",
       "    .dataframe tbody tr th:only-of-type {\n",
       "        vertical-align: middle;\n",
       "    }\n",
       "\n",
       "    .dataframe tbody tr th {\n",
       "        vertical-align: top;\n",
       "    }\n",
       "\n",
       "    .dataframe thead th {\n",
       "        text-align: right;\n",
       "    }\n",
       "</style>\n",
       "<table border=\"1\" class=\"dataframe\">\n",
       "  <thead>\n",
       "    <tr style=\"text-align: right;\">\n",
       "      <th></th>\n",
       "      <th>County/City</th>\n",
       "      <th>Joe Biden Democratic</th>\n",
       "      <th>Joe Biden Democratic.1</th>\n",
       "      <th>Donald Trump Republican</th>\n",
       "      <th>Donald Trump Republican.1</th>\n",
       "      <th>Various candidates Other parties</th>\n",
       "      <th>Various candidates Other parties.1</th>\n",
       "      <th>Margin</th>\n",
       "      <th>Margin.1</th>\n",
       "      <th>Total</th>\n",
       "    </tr>\n",
       "  </thead>\n",
       "  <tbody>\n",
       "    <tr>\n",
       "      <th>0</th>\n",
       "      <td>County/City</td>\n",
       "      <td>#</td>\n",
       "      <td>%</td>\n",
       "      <td>#</td>\n",
       "      <td>%</td>\n",
       "      <td>#</td>\n",
       "      <td>%</td>\n",
       "      <td>#</td>\n",
       "      <td>%</td>\n",
       "      <td>Total</td>\n",
       "    </tr>\n",
       "    <tr>\n",
       "      <th>1</th>\n",
       "      <td>Accomack</td>\n",
       "      <td>7578</td>\n",
       "      <td>44.68%</td>\n",
       "      <td>9172</td>\n",
       "      <td>54.07%</td>\n",
       "      <td>212</td>\n",
       "      <td>1.25%</td>\n",
       "      <td>-1594</td>\n",
       "      <td>-9.39%</td>\n",
       "      <td>16962</td>\n",
       "    </tr>\n",
       "    <tr>\n",
       "      <th>2</th>\n",
       "      <td>Albemarle</td>\n",
       "      <td>42466</td>\n",
       "      <td>65.68%</td>\n",
       "      <td>20804</td>\n",
       "      <td>32.18%</td>\n",
       "      <td>1387</td>\n",
       "      <td>2.14%</td>\n",
       "      <td>21662</td>\n",
       "      <td>33.50%</td>\n",
       "      <td>64657</td>\n",
       "    </tr>\n",
       "  </tbody>\n",
       "</table>\n",
       "</div>"
      ],
      "text/plain": [
       "   County/City Joe Biden Democratic Joe Biden Democratic.1  \\\n",
       "0  County/City                    #                      %   \n",
       "1     Accomack                 7578                 44.68%   \n",
       "2    Albemarle                42466                 65.68%   \n",
       "\n",
       "  Donald Trump Republican Donald Trump Republican.1  \\\n",
       "0                       #                         %   \n",
       "1                    9172                    54.07%   \n",
       "2                   20804                    32.18%   \n",
       "\n",
       "  Various candidates Other parties Various candidates Other parties.1 Margin  \\\n",
       "0                                #                                  %      #   \n",
       "1                              212                              1.25%  -1594   \n",
       "2                             1387                              2.14%  21662   \n",
       "\n",
       "  Margin.1  Total  \n",
       "0        %  Total  \n",
       "1   -9.39%  16962  \n",
       "2   33.50%  64657  "
      ]
     },
     "metadata": {},
     "output_type": "display_data"
    },
    {
     "name": "stdout",
     "output_type": "stream",
     "text": [
      "The other health and human services csvs on income, education, and age:\n"
     ]
    },
    {
     "data": {
      "application/vnd.dataresource+json": {
       "data": [
        {
         "County": "United States",
         "FIPS": 0,
         "Rank within US (of 3141 counties)": null,
         "Value (Dollars)": "78,538",
         "index": 0
        },
        {
         "County": "Virginia",
         "FIPS": 51000,
         "Rank within US (of 3141 counties)": "12 of 52",
         "Value (Dollars)": "90,974",
         "index": 1
        },
        {
         "County": "Norton City",
         "FIPS": 51720,
         "Rank within US (of 3141 counties)": "3,071",
         "Value (Dollars)": "38,497",
         "index": 2
        }
       ],
       "schema": {
        "fields": [
         {
          "name": "index",
          "type": "integer"
         },
         {
          "name": "County",
          "type": "string"
         },
         {
          "name": "FIPS",
          "type": "integer"
         },
         {
          "name": "Value (Dollars)",
          "type": "string"
         },
         {
          "name": "Rank within US (of 3141 counties)",
          "type": "string"
         }
        ],
        "pandas_version": "1.4.0",
        "primaryKey": [
         "index"
        ]
       }
      },
      "text/html": [
       "<div>\n",
       "<style scoped>\n",
       "    .dataframe tbody tr th:only-of-type {\n",
       "        vertical-align: middle;\n",
       "    }\n",
       "\n",
       "    .dataframe tbody tr th {\n",
       "        vertical-align: top;\n",
       "    }\n",
       "\n",
       "    .dataframe thead th {\n",
       "        text-align: right;\n",
       "    }\n",
       "</style>\n",
       "<table border=\"1\" class=\"dataframe\">\n",
       "  <thead>\n",
       "    <tr style=\"text-align: right;\">\n",
       "      <th></th>\n",
       "      <th>County</th>\n",
       "      <th>FIPS</th>\n",
       "      <th>Value (Dollars)</th>\n",
       "      <th>Rank within US (of 3141 counties)</th>\n",
       "    </tr>\n",
       "  </thead>\n",
       "  <tbody>\n",
       "    <tr>\n",
       "      <th>0</th>\n",
       "      <td>United States</td>\n",
       "      <td>0</td>\n",
       "      <td>78,538</td>\n",
       "      <td>NaN</td>\n",
       "    </tr>\n",
       "    <tr>\n",
       "      <th>1</th>\n",
       "      <td>Virginia</td>\n",
       "      <td>51000</td>\n",
       "      <td>90,974</td>\n",
       "      <td>12 of 52</td>\n",
       "    </tr>\n",
       "    <tr>\n",
       "      <th>2</th>\n",
       "      <td>Norton City</td>\n",
       "      <td>51720</td>\n",
       "      <td>38,497</td>\n",
       "      <td>3,071</td>\n",
       "    </tr>\n",
       "  </tbody>\n",
       "</table>\n",
       "</div>"
      ],
      "text/plain": [
       "          County   FIPS Value (Dollars) Rank within US (of 3141 counties)\n",
       "0  United States      0          78,538                               NaN\n",
       "1       Virginia  51000          90,974                          12 of 52\n",
       "2    Norton City  51720          38,497                             3,071"
      ]
     },
     "metadata": {},
     "output_type": "display_data"
    },
    {
     "data": {
      "application/vnd.dataresource+json": {
       "data": [
        {
         "County": "United States",
         "People (Education: At Least Bachelor's Degree)": 79954302,
         "Value (Percent)": 35,
         "index": 0
        },
        {
         "County": "Virginia",
         "People (Education: At Least Bachelor's Degree)": 2471630,
         "Value (Percent)": 41.5,
         "index": 1
        },
        {
         "County": "Covington City",
         "People (Education: At Least Bachelor's Degree)": 367,
         "Value (Percent)": 9.6,
         "index": 2
        }
       ],
       "schema": {
        "fields": [
         {
          "name": "index",
          "type": "integer"
         },
         {
          "name": "County",
          "type": "string"
         },
         {
          "name": "Value (Percent)",
          "type": "number"
         },
         {
          "name": "People (Education: At Least Bachelor's Degree)",
          "type": "integer"
         }
        ],
        "pandas_version": "1.4.0",
        "primaryKey": [
         "index"
        ]
       }
      },
      "text/html": [
       "<div>\n",
       "<style scoped>\n",
       "    .dataframe tbody tr th:only-of-type {\n",
       "        vertical-align: middle;\n",
       "    }\n",
       "\n",
       "    .dataframe tbody tr th {\n",
       "        vertical-align: top;\n",
       "    }\n",
       "\n",
       "    .dataframe thead th {\n",
       "        text-align: right;\n",
       "    }\n",
       "</style>\n",
       "<table border=\"1\" class=\"dataframe\">\n",
       "  <thead>\n",
       "    <tr style=\"text-align: right;\">\n",
       "      <th></th>\n",
       "      <th>County</th>\n",
       "      <th>Value (Percent)</th>\n",
       "      <th>People (Education: At Least Bachelor's Degree)</th>\n",
       "    </tr>\n",
       "  </thead>\n",
       "  <tbody>\n",
       "    <tr>\n",
       "      <th>0</th>\n",
       "      <td>United States</td>\n",
       "      <td>35.0</td>\n",
       "      <td>79954302</td>\n",
       "    </tr>\n",
       "    <tr>\n",
       "      <th>1</th>\n",
       "      <td>Virginia</td>\n",
       "      <td>41.5</td>\n",
       "      <td>2471630</td>\n",
       "    </tr>\n",
       "    <tr>\n",
       "      <th>2</th>\n",
       "      <td>Covington City</td>\n",
       "      <td>9.6</td>\n",
       "      <td>367</td>\n",
       "    </tr>\n",
       "  </tbody>\n",
       "</table>\n",
       "</div>"
      ],
      "text/plain": [
       "           County  Value (Percent)  \\\n",
       "0   United States             35.0   \n",
       "1        Virginia             41.5   \n",
       "2  Covington City              9.6   \n",
       "\n",
       "   People (Education: At Least Bachelor's Degree)  \n",
       "0                                        79954302  \n",
       "1                                         2471630  \n",
       "2                                             367  "
      ]
     },
     "metadata": {},
     "output_type": "display_data"
    },
    {
     "data": {
      "application/vnd.dataresource+json": {
       "data": [
        {
         "County": "Virginia",
         "Value (Percent)": 35.7,
         "index": 0
        },
        {
         "County": "United States",
         "Value (Percent)": 35.9,
         "index": 1
        },
        {
         "County": "Radford City",
         "Value (Percent)": 21.8,
         "index": 2
        }
       ],
       "schema": {
        "fields": [
         {
          "name": "index",
          "type": "integer"
         },
         {
          "name": "County",
          "type": "string"
         },
         {
          "name": "Value (Percent)",
          "type": "number"
         }
        ],
        "pandas_version": "1.4.0",
        "primaryKey": [
         "index"
        ]
       }
      },
      "text/html": [
       "<div>\n",
       "<style scoped>\n",
       "    .dataframe tbody tr th:only-of-type {\n",
       "        vertical-align: middle;\n",
       "    }\n",
       "\n",
       "    .dataframe tbody tr th {\n",
       "        vertical-align: top;\n",
       "    }\n",
       "\n",
       "    .dataframe thead th {\n",
       "        text-align: right;\n",
       "    }\n",
       "</style>\n",
       "<table border=\"1\" class=\"dataframe\">\n",
       "  <thead>\n",
       "    <tr style=\"text-align: right;\">\n",
       "      <th></th>\n",
       "      <th>County</th>\n",
       "      <th>Value (Percent)</th>\n",
       "    </tr>\n",
       "  </thead>\n",
       "  <tbody>\n",
       "    <tr>\n",
       "      <th>0</th>\n",
       "      <td>Virginia</td>\n",
       "      <td>35.7</td>\n",
       "    </tr>\n",
       "    <tr>\n",
       "      <th>1</th>\n",
       "      <td>United States</td>\n",
       "      <td>35.9</td>\n",
       "    </tr>\n",
       "    <tr>\n",
       "      <th>2</th>\n",
       "      <td>Radford City</td>\n",
       "      <td>21.8</td>\n",
       "    </tr>\n",
       "  </tbody>\n",
       "</table>\n",
       "</div>"
      ],
      "text/plain": [
       "          County  Value (Percent)\n",
       "0       Virginia             35.7\n",
       "1  United States             35.9\n",
       "2   Radford City             21.8"
      ]
     },
     "metadata": {},
     "output_type": "display_data"
    }
   ],
   "source": [
    "import pandas as pd\n",
    "\n",
    "va_pop_hist_original_df = pd.read_csv('csv_collection/county_population_hist_info.csv')\n",
    "va_election_2020_original_df = pd.read_csv('csv_collection/virginia_2020_election.csv')\n",
    "income_df = pd.read_csv('csv_collection/HDPulse_data_export.csv')\n",
    "education_df = pd.read_csv('csv_collection/HDPulse_data_education.csv')\n",
    "age_df = pd.read_csv('csv_collection/HDPulse_data_ages.csv')\n",
    "\n",
    "\n",
    "\n",
    "print('The main demographic and sociographic DFs looked like this:')\n",
    "display(va_pop_hist_original_df.head(3))\n",
    "print('The election DF:')\n",
    "display(va_election_2020_original_df.head(3))\n",
    "print('The other health and human services csvs on income, education, and age:')\n",
    "display(income_df.head(3))\n",
    "display(education_df.head(3))\n",
    "display(age_df.head(3))\n"
   ]
  },
  {
   "cell_type": "code",
   "execution_count": 9,
   "id": "c36b1a1e",
   "metadata": {},
   "outputs": [
    {
     "data": {
      "application/vnd.dataresource+json": {
       "data": [
        {
         "affiliation_2020": "red",
         "age_over_50_%": 47.3,
         "area": 455,
         "bachelors_or_over_%": 21.8,
         "biden_%": 44.68,
         "biden_votes": 7578,
         "city/county": "Accomack County",
         "index": 0,
         "margin_%": -9.39,
         "margin_votes": -1594,
         "median_household_income": 57500,
         "other_party_%": 1.25,
         "other_party_votes": 212,
         "pop_density_sqmi": 73.4307692308,
         "population": 33411,
         "total_votes": 16962,
         "trump_%": 54.07,
         "trump_votes": 9172
        },
        {
         "affiliation_2020": "blue",
         "age_over_50_%": 38.3,
         "area": 723,
         "bachelors_or_over_%": 60.6,
         "biden_%": 65.68,
         "biden_votes": 42466,
         "city/county": "Albemarle County",
         "index": 1,
         "margin_%": 33.5,
         "margin_votes": 21662,
         "median_household_income": 102617,
         "other_party_%": 2.14,
         "other_party_votes": 1387,
         "pop_density_sqmi": 162.2586445367,
         "population": 117313,
         "total_votes": 64657,
         "trump_%": 32.18,
         "trump_votes": 20804
        },
        {
         "affiliation_2020": "blue",
         "age_over_50_%": 30.2,
         "area": null,
         "bachelors_or_over_%": 65.8,
         "biden_%": 80.28,
         "biden_votes": 66240,
         "city/county": "Alexandria City",
         "index": 2,
         "margin_%": 62.65,
         "margin_votes": 51696,
         "median_household_income": 113638,
         "other_party_%": 2.09,
         "other_party_votes": 1724,
         "pop_density_sqmi": null,
         "population": null,
         "total_votes": 82508,
         "trump_%": 17.63,
         "trump_votes": 14544
        }
       ],
       "schema": {
        "fields": [
         {
          "name": "index",
          "type": "integer"
         },
         {
          "name": "city/county",
          "type": "string"
         },
         {
          "name": "biden_votes",
          "type": "integer"
         },
         {
          "name": "biden_%",
          "type": "number"
         },
         {
          "name": "trump_votes",
          "type": "integer"
         },
         {
          "name": "trump_%",
          "type": "number"
         },
         {
          "name": "other_party_votes",
          "type": "integer"
         },
         {
          "name": "other_party_%",
          "type": "number"
         },
         {
          "name": "margin_votes",
          "type": "integer"
         },
         {
          "name": "margin_%",
          "type": "number"
         },
         {
          "name": "total_votes",
          "type": "integer"
         },
         {
          "name": "population",
          "type": "number"
         },
         {
          "name": "area",
          "type": "number"
         },
         {
          "name": "pop_density_sqmi",
          "type": "number"
         },
         {
          "name": "affiliation_2020",
          "type": "string"
         },
         {
          "name": "median_household_income",
          "type": "number"
         },
         {
          "name": "bachelors_or_over_%",
          "type": "number"
         },
         {
          "name": "age_over_50_%",
          "type": "number"
         }
        ],
        "pandas_version": "1.4.0",
        "primaryKey": [
         "index"
        ]
       }
      },
      "text/html": [
       "<div>\n",
       "<style scoped>\n",
       "    .dataframe tbody tr th:only-of-type {\n",
       "        vertical-align: middle;\n",
       "    }\n",
       "\n",
       "    .dataframe tbody tr th {\n",
       "        vertical-align: top;\n",
       "    }\n",
       "\n",
       "    .dataframe thead th {\n",
       "        text-align: right;\n",
       "    }\n",
       "</style>\n",
       "<table border=\"1\" class=\"dataframe\">\n",
       "  <thead>\n",
       "    <tr style=\"text-align: right;\">\n",
       "      <th></th>\n",
       "      <th>city/county</th>\n",
       "      <th>biden_votes</th>\n",
       "      <th>biden_%</th>\n",
       "      <th>trump_votes</th>\n",
       "      <th>trump_%</th>\n",
       "      <th>other_party_votes</th>\n",
       "      <th>other_party_%</th>\n",
       "      <th>margin_votes</th>\n",
       "      <th>margin_%</th>\n",
       "      <th>total_votes</th>\n",
       "      <th>population</th>\n",
       "      <th>area</th>\n",
       "      <th>pop_density_sqmi</th>\n",
       "      <th>affiliation_2020</th>\n",
       "      <th>median_household_income</th>\n",
       "      <th>bachelors_or_over_%</th>\n",
       "      <th>age_over_50_%</th>\n",
       "    </tr>\n",
       "  </thead>\n",
       "  <tbody>\n",
       "    <tr>\n",
       "      <th>0</th>\n",
       "      <td>Accomack County</td>\n",
       "      <td>7578</td>\n",
       "      <td>44.68</td>\n",
       "      <td>9172</td>\n",
       "      <td>54.07</td>\n",
       "      <td>212</td>\n",
       "      <td>1.25</td>\n",
       "      <td>-1594</td>\n",
       "      <td>-9.39</td>\n",
       "      <td>16962</td>\n",
       "      <td>33411.0</td>\n",
       "      <td>455.0</td>\n",
       "      <td>73.430769</td>\n",
       "      <td>red</td>\n",
       "      <td>57500.0</td>\n",
       "      <td>21.8</td>\n",
       "      <td>47.3</td>\n",
       "    </tr>\n",
       "    <tr>\n",
       "      <th>1</th>\n",
       "      <td>Albemarle County</td>\n",
       "      <td>42466</td>\n",
       "      <td>65.68</td>\n",
       "      <td>20804</td>\n",
       "      <td>32.18</td>\n",
       "      <td>1387</td>\n",
       "      <td>2.14</td>\n",
       "      <td>21662</td>\n",
       "      <td>33.50</td>\n",
       "      <td>64657</td>\n",
       "      <td>117313.0</td>\n",
       "      <td>723.0</td>\n",
       "      <td>162.258645</td>\n",
       "      <td>blue</td>\n",
       "      <td>102617.0</td>\n",
       "      <td>60.6</td>\n",
       "      <td>38.3</td>\n",
       "    </tr>\n",
       "    <tr>\n",
       "      <th>2</th>\n",
       "      <td>Alexandria City</td>\n",
       "      <td>66240</td>\n",
       "      <td>80.28</td>\n",
       "      <td>14544</td>\n",
       "      <td>17.63</td>\n",
       "      <td>1724</td>\n",
       "      <td>2.09</td>\n",
       "      <td>51696</td>\n",
       "      <td>62.65</td>\n",
       "      <td>82508</td>\n",
       "      <td>NaN</td>\n",
       "      <td>NaN</td>\n",
       "      <td>NaN</td>\n",
       "      <td>blue</td>\n",
       "      <td>113638.0</td>\n",
       "      <td>65.8</td>\n",
       "      <td>30.2</td>\n",
       "    </tr>\n",
       "  </tbody>\n",
       "</table>\n",
       "</div>"
      ],
      "text/plain": [
       "        city/county  biden_votes  biden_%  trump_votes  trump_%  \\\n",
       "0   Accomack County         7578    44.68         9172    54.07   \n",
       "1  Albemarle County        42466    65.68        20804    32.18   \n",
       "2   Alexandria City        66240    80.28        14544    17.63   \n",
       "\n",
       "   other_party_votes  other_party_%  margin_votes  margin_%  total_votes  \\\n",
       "0                212           1.25         -1594     -9.39        16962   \n",
       "1               1387           2.14         21662     33.50        64657   \n",
       "2               1724           2.09         51696     62.65        82508   \n",
       "\n",
       "   population   area  pop_density_sqmi affiliation_2020  \\\n",
       "0     33411.0  455.0         73.430769              red   \n",
       "1    117313.0  723.0        162.258645             blue   \n",
       "2         NaN    NaN               NaN             blue   \n",
       "\n",
       "   median_household_income  bachelors_or_over_%  age_over_50_%  \n",
       "0                  57500.0                 21.8           47.3  \n",
       "1                 102617.0                 60.6           38.3  \n",
       "2                 113638.0                 65.8           30.2  "
      ]
     },
     "metadata": {},
     "output_type": "display_data"
    }
   ],
   "source": [
    "# And the final merged data frame looked like this:\n",
    "cleaned_counties_df = pd.read_csv('csv_collection/cleaned_counties.csv')\n",
    "display(cleaned_counties_df.head(3))"
   ]
  },
  {
   "cell_type": "markdown",
   "id": "7bdce362",
   "metadata": {},
   "source": [
    "Now, all the counties and independent cities are labeled correctly in one dataframe, with all of their election, demographic, and sociographic information combined."
   ]
  },
  {
   "cell_type": "markdown",
   "id": "090e488a",
   "metadata": {},
   "source": [
    "I then cleaned the DEQ data frame to drop all projects under 20mw, dropped eroneous columns, and renamed them for easy manipulation."
   ]
  },
  {
   "cell_type": "markdown",
   "id": "147537f9",
   "metadata": {},
   "source": [
    "## Explorations:"
   ]
  },
  {
   "cell_type": "markdown",
   "id": "5af6ca39",
   "metadata": {},
   "source": [
    "### Affiliations:"
   ]
  },
  {
   "cell_type": "markdown",
   "id": "05930903",
   "metadata": {},
   "source": [
    "In the affiliation_insights.ipynb file, I looked at:\n",
    "- Percent of land dedicated to solar farms.\n",
    "- MWs per capita.\n",
    "- Solar farm efficiency.\n",
    "- Frequency of solar projects.\n",
    "- Graphing the distribution and spread of project sizes."
   ]
  },
  {
   "cell_type": "markdown",
   "id": "aba5d71c",
   "metadata": {},
   "source": [
    "I found these distributions and spreads:"
   ]
  },
  {
   "cell_type": "markdown",
   "id": "3d5ace73",
   "metadata": {},
   "source": [
    "<a href=\"summary_images/affiliation_summary.png\" target=\"_blank\">\n",
    "  <img src=\"summary_images/affiliation_summary.png\" alt=\"General Trend Graph\" width=\"800\" height=\"auto\">\n",
    "</a>"
   ]
  },
  {
   "cell_type": "markdown",
   "id": "a57c9b0e",
   "metadata": {},
   "source": [
    "And I found these statistics:\n",
    "\n",
    "- 0.280 % of Red localities are currently solar farms \n",
    "- 0.500 % of Blue localities are currently solar farms \n",
    "- There are 0.556 MWs per 1000 people in Blue localities\n",
    "- There are 1.760 MWs per 1000 people in Red localities\n",
    "- Solar farms in Blue localities generate 41.4635377239465 MWs per mile\n",
    "- Solar farms in Red localities generate 52.0385169459398 MWs per mile\n",
    "- Red localities are 1.6775559588626738 times more likely to have solar projects in them.\n",
    "- There are a total of 4289.6 mw on red affiliated localities\n",
    "- There are a total of 1027.0 mw on blue affiliated localities\n",
    "- There are 59 solar farms on red counties, and 19 on blue counties\n",
    "\n",
    "And came to this summary:\n",
    "\n",
    "There's a clear trend between Red and Blue localities when it comes to producing utility-scale solar power, that also reflects the trends from the demographic file. Although Blue localities allocate more land towards solar farms than Red ones do, Red localities are much more efficient in their production. This is indicative of how much more efficient large-scale projects are than small ones. Multiple small solar farms require additional buffer zones that add to project size but take away from MW production. Larger projects are able to squeeze in more solar panels per acre, creating more efficient solar farms. It's reasons like these that developers continue to prioritize rural counties for development, as not only do they feature more attractive zoning regulations, but they are much more profitable per square mile."
   ]
  },
  {
   "cell_type": "markdown",
   "id": "01c3a2cc",
   "metadata": {},
   "source": [
    "### Top ten counties:"
   ]
  },
  {
   "cell_type": "markdown",
   "id": "180ecbc3",
   "metadata": {},
   "source": [
    "I found this about the top ten counties:"
   ]
  },
  {
   "cell_type": "markdown",
   "id": "84ad7401",
   "metadata": {},
   "source": [
    "<a href=\"summary_images/top_counties.png\" target=\"_blank\">\n",
    "  <img src=\"summary_images/top_counties.png\" alt=\"General Trend Graph\" width=\"800\" height=\"auto\">\n",
    "</a>"
   ]
  },
  {
   "cell_type": "markdown",
   "id": "5b46cecc",
   "metadata": {},
   "source": [
    "Summary:\n",
    "\n",
    "The top ten counties follow some similar trends. Almost all of them have three or four projects, and almost all of them house 200 - 300 MW. It seems likely that these counties have adopted similar regulations on the size and density of solar projects. There are a couple outliers, Halifax and Louisa to be specific. Halifax has on average much smaller projects than most counties, but has a very high count. Louisa county has a normal number of projects, but the highest average size. "
   ]
  },
  {
   "cell_type": "markdown",
   "id": "8b5f768a",
   "metadata": {},
   "source": [
    "### Time series:\n"
   ]
  },
  {
   "cell_type": "markdown",
   "id": "d34fa16c",
   "metadata": {},
   "source": [
    "<a href=\"summary_images/time_series.png\" target=\"_blank\">\n",
    "  <img src=\"summary_images/time_series.png\" alt=\"General Trend Graph\" width=\"800\" height=\"auto\">\n",
    "</a>"
   ]
  },
  {
   "cell_type": "markdown",
   "id": "a16ff488",
   "metadata": {},
   "source": [
    "Summary:\n",
    "\n",
    "The number of projects spread looks mostly aligned with the number of megawatts, meaning that as the number of projects increased so did the number of megawatts relatively equally. It took a few years for the amount of solar being added to peak in 2020, the same year as the Virginia Clean Economy Act, which makes sense. There seems to have been an influx of projects during that year, and production steadily leveled off until 2022, when it again spiked in 2023. One thing that is obvious from the graphs, is production was weaker pre-2020, it then spiked in 2020-2023, and it has begun to lower off again. Solar development has been unstable and volatile for the duration of the years analyzed."
   ]
  },
  {
   "cell_type": "markdown",
   "id": "3efd8e6d",
   "metadata": {},
   "source": [
    "### Demographics:"
   ]
  },
  {
   "cell_type": "markdown",
   "id": "f0554f8a",
   "metadata": {},
   "source": [
    "In order to find potential correlations between sociographic factors and solar farm density within counties, I did the following: I analyzed the distribution of solar farms across Virginia counties by income, education level, age, and population density. I then looked at the overal distribution of Virginian counties (using the same sociographics) but regardless of solar farms. I then compared the two distributions using Mann-Whitney and t-tests, to see if the distributions were statistially different. I also looked at the average differences, and visualized them as well. Here are my findings:\n"
   ]
  },
  {
   "cell_type": "markdown",
   "id": "de2f819e",
   "metadata": {},
   "source": [
    "#### Income and solar farm density:"
   ]
  },
  {
   "cell_type": "markdown",
   "id": "8190ac74",
   "metadata": {},
   "source": [
    "<a href=\"summary_images/incomes.png\" target=\"_blank\">\n",
    "  <img src=\"summary_images/incomes.png\" alt=\"General Trend Graph\" width=\"800\" height=\"auto\">\n",
    "</a>"
   ]
  },
  {
   "cell_type": "markdown",
   "id": "87758423",
   "metadata": {},
   "source": [
    "And these findings:\n",
    "\n",
    "- Mann-Whitney U Statistic: 4572.5\n",
    "- P-value: 0.7966407201563974\n",
    "- Average median household income of counties with solar farms is: 74032.92\n",
    "- Average median household income of a VA county is: 74775.30"
   ]
  },
  {
   "cell_type": "markdown",
   "id": "0a772383",
   "metadata": {},
   "source": [
    "There is a high p-value (much greater than the 0.05 threshold), which indicates differences in the data are most likely due to random chance. The averages are also extrememly similar. Becaues the distribution and averages are so similar, this implies that there is no statistical significance of the effect of median household income on solar farm density in Virginia. "
   ]
  },
  {
   "cell_type": "markdown",
   "id": "3d2bca67",
   "metadata": {},
   "source": [
    "#### Education and solar farm density:"
   ]
  },
  {
   "cell_type": "markdown",
   "id": "ae971c09",
   "metadata": {},
   "source": [
    "<a href=\"summary_images/education.png\" target=\"_blank\">\n",
    "  <img src=\"summary_images/education.png\" alt=\"General Trend Graph\" width=\"800\" height=\"auto\">\n",
    "</a>"
   ]
  },
  {
   "cell_type": "markdown",
   "id": "3e30f5aa",
   "metadata": {},
   "source": [
    "And these findings:\n",
    "\n",
    "- Mann-Whitney U Statistic: 4031.5\n",
    "- P-value: 0.25098648952341573\n",
    "- The average percent of a county's adult population with bachelors degrees or over (that have solar farms), is: 25.95\n",
    "- The average percent of a county's adult population with bachelors degrees or over, is: 29.07\n",
    "\n"
   ]
  },
  {
   "cell_type": "markdown",
   "id": "c58f3a0a",
   "metadata": {},
   "source": [
    "There is a high p-value (much greater than the 0.05 threshold), which indicates differences in the data are most likely due to random chance. The averages are also extrememly similar. Becaues the distribution and averages are so similar, this implies that there is no statistical significance of the effect of education on solar farm density in Virginia."
   ]
  },
  {
   "cell_type": "markdown",
   "id": "88f449be",
   "metadata": {},
   "source": [
    "#### Age and solar farm density:"
   ]
  },
  {
   "cell_type": "markdown",
   "id": "8fddbe0a",
   "metadata": {},
   "source": [
    "<a href=\"summary_images/age.png\" target=\"_blank\">\n",
    "  <img src=\"summary_images/age.png\" alt=\"General Trend Graph\" width=\"800\" height=\"auto\">\n",
    "</a>"
   ]
  },
  {
   "cell_type": "markdown",
   "id": "b0e110fd",
   "metadata": {},
   "source": [
    "And these findings:\n",
    "- Mann-Whitney U Statistic: 5175.5\n",
    "- P-value: 0.0676279607784501\n",
    "- The percent of a county's (that have solar farms) population who's age is over 50 is: 42.51\n",
    "- The percent of a county's population who's age is over 50 is: 40.65"
   ]
  },
  {
   "cell_type": "markdown",
   "id": "ad1f11a9",
   "metadata": {},
   "source": [
    "There is a high p-value (greater than the 0.05 threshold), which indicates differences in the data are most likely due to random chance. The averages are also extrememly similar. Becaues the distribution and averages are so similar, this implies that there is no statistical significance of the effect of age on solar farm density in Virginia."
   ]
  },
  {
   "cell_type": "markdown",
   "id": "7f3928da",
   "metadata": {},
   "source": [
    "## Null Hypothesis:"
   ]
  },
  {
   "cell_type": "markdown",
   "id": "c9397bd5",
   "metadata": {},
   "source": [
    "<a href=\"summary_images/pop_density.png\" target=\"_blank\">\n",
    "  <img src=\"summary_images/pop_density.png\" alt=\"General Trend Graph\" width=\"800\" height=\"auto\">\n",
    "</a>"
   ]
  },
  {
   "cell_type": "markdown",
   "id": "6c5ebef8",
   "metadata": {},
   "source": [
    "These were my findings:\n",
    "- Mann-Whitney U Statistic: 4031.5\n",
    "- P-value: 0.25098648952341573\n",
    "- Average population density per sq mi of countys with solar farms is: 162.03\n",
    "- Average population density per sq mi of a VA county is: 246.54"
   ]
  },
  {
   "cell_type": "markdown",
   "id": "37355bcd",
   "metadata": {},
   "source": [
    "There is a high p-value (greater than the 0.05 threshold), which indicates differences in the data are **most likely** due to random chance. However, there are some outliers in the solar density data set, which can heavily skew the probability test. Also, the visual graph tells a compelling story, as does the high difference in averages. Without further testing, I cannot statistically confirm that population density is a key factor in solar farm density. However, the big picture (means, visuals), is pointing to the fact that population density most likely plays a key factor in solar farm density per county. \n",
    "\n",
    "I cannot statistically disprove the null hypothesis. However, among the other sociographic and demographic findings, it does play the largest part in indicating where a solar farm will be permitted."
   ]
  },
  {
   "cell_type": "markdown",
   "id": "b624c50d",
   "metadata": {},
   "source": [
    "## Conclusion"
   ]
  },
  {
   "cell_type": "markdown",
   "id": "9e804fd4",
   "metadata": {},
   "source": [
    "While the statistical test (Mann–Whitney U) produced a high p-value (~0.25), suggesting no significant difference in population density between counties with and without solar farms, the average population density is noticeably lower in solar-hosting counties (162 vs. 247 people per sq mi). This gap, along with visual trends observed in the data, hints at a potential relationship that may not be statistically strong — possibly due to outliers or limited sample size — but is still worth noting as a practical pattern.\n",
    "\n",
    "It certainly is a stronger relationship than any of the other demographic and sociographic factors, and it follows the trends found in the affiliations file. There are over 3 times as many solar farms on red localities (which are more rural) than blue localities, and there is about 4 times as many mw permitted on red localities than blue localities. This follows the pattern of population density playing a role in solar development. \n",
    "\n",
    "Although red localities make up much more land in Virginia, they are still permit solar at a higher rate than on blue localities. Blue localities by contrast, have solar power taking up a higher percentage of their land than red ones do, and they generate electricity at a lower rate as well – which points to the power of solar farms being more cost-effective when developed at scale.\n",
    "\n",
    "This paints a picture consistent with the current business standard amongst developers. Solar power is more efficient, profitable, and available on counties with rural lands – and progressive/blue policies do not make up for the lack of land availability in terms of success in permitting projects and producing power. \n",
    "\n"
   ]
  }
 ],
 "metadata": {
  "kernelspec": {
   "display_name": ".venv",
   "language": "python",
   "name": "python3"
  },
  "language_info": {
   "codemirror_mode": {
    "name": "ipython",
    "version": 3
   },
   "file_extension": ".py",
   "mimetype": "text/x-python",
   "name": "python",
   "nbconvert_exporter": "python",
   "pygments_lexer": "ipython3",
   "version": "3.10.2"
  }
 },
 "nbformat": 4,
 "nbformat_minor": 5
}
