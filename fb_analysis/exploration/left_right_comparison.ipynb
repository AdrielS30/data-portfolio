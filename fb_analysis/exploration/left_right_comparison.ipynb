{
 "cells": [
  {
   "cell_type": "markdown",
   "metadata": {},
   "source": [
    "# News Source Comparison\n",
    "This file will attempt to disprove the null hypothesis outlined in the README. It will also attempt to duplicate the findings from the Buzzfeed article, as well as explore other interesting aspects of the dataset."
   ]
  },
  {
   "cell_type": "code",
   "execution_count": 1,
   "metadata": {},
   "outputs": [
    {
     "data": {
      "application/vnd.dataresource+json": {
       "data": [
        {
         "account_id": 184096565021911,
         "category": "mainstream",
         "comment_count": 15,
         "date_published": "2016-09-19",
         "debate": null,
         "engagement_score": 44,
         "index": 0,
         "page": "ABC News Politics",
         "post_id": 1035057923259100,
         "post_type": "video",
         "post_url": "https://www.facebook.com/ABCNewsPolitics/posts/1035057923259100",
         "rating": "no factual content",
         "reaction_count": 146,
         "share_count": 0
        },
        {
         "account_id": 184096565021911,
         "category": "mainstream",
         "comment_count": 34,
         "date_published": "2016-09-19",
         "debate": null,
         "engagement_score": 26.25,
         "index": 1,
         "page": "ABC News Politics",
         "post_id": 1035269309904628,
         "post_type": "link",
         "post_url": "https://www.facebook.com/ABCNewsPolitics/posts/1035269309904628",
         "rating": "mostly true",
         "reaction_count": 33,
         "share_count": 1
        },
        {
         "account_id": 184096565021911,
         "category": "mainstream",
         "comment_count": 27,
         "date_published": "2016-09-19",
         "debate": null,
         "engagement_score": 63.25,
         "index": 2,
         "page": "ABC News Politics",
         "post_id": 1035305953234297,
         "post_type": "link",
         "post_url": "https://www.facebook.com/ABCNewsPolitics/posts/1035305953234297",
         "rating": "mostly true",
         "reaction_count": 63,
         "share_count": 34
        }
       ],
       "schema": {
        "fields": [
         {
          "name": "index",
          "type": "integer"
         },
         {
          "name": "account_id",
          "type": "integer"
         },
         {
          "name": "post_id",
          "type": "integer"
         },
         {
          "name": "category",
          "type": "string"
         },
         {
          "name": "page",
          "type": "string"
         },
         {
          "name": "post_url",
          "type": "string"
         },
         {
          "name": "date_published",
          "type": "string"
         },
         {
          "name": "post_type",
          "type": "string"
         },
         {
          "name": "rating",
          "type": "string"
         },
         {
          "name": "debate",
          "type": "string"
         },
         {
          "name": "share_count",
          "type": "number"
         },
         {
          "name": "reaction_count",
          "type": "number"
         },
         {
          "name": "comment_count",
          "type": "number"
         },
         {
          "name": "engagement_score",
          "type": "number"
         }
        ],
        "pandas_version": "1.4.0",
        "primaryKey": [
         "index"
        ]
       }
      },
      "text/html": [
       "<div>\n",
       "<style scoped>\n",
       "    .dataframe tbody tr th:only-of-type {\n",
       "        vertical-align: middle;\n",
       "    }\n",
       "\n",
       "    .dataframe tbody tr th {\n",
       "        vertical-align: top;\n",
       "    }\n",
       "\n",
       "    .dataframe thead th {\n",
       "        text-align: right;\n",
       "    }\n",
       "</style>\n",
       "<table border=\"1\" class=\"dataframe\">\n",
       "  <thead>\n",
       "    <tr style=\"text-align: right;\">\n",
       "      <th></th>\n",
       "      <th>account_id</th>\n",
       "      <th>post_id</th>\n",
       "      <th>category</th>\n",
       "      <th>page</th>\n",
       "      <th>post_url</th>\n",
       "      <th>date_published</th>\n",
       "      <th>post_type</th>\n",
       "      <th>rating</th>\n",
       "      <th>debate</th>\n",
       "      <th>share_count</th>\n",
       "      <th>reaction_count</th>\n",
       "      <th>comment_count</th>\n",
       "      <th>engagement_score</th>\n",
       "    </tr>\n",
       "  </thead>\n",
       "  <tbody>\n",
       "    <tr>\n",
       "      <th>0</th>\n",
       "      <td>184096565021911</td>\n",
       "      <td>1035057923259100</td>\n",
       "      <td>mainstream</td>\n",
       "      <td>ABC News Politics</td>\n",
       "      <td>https://www.facebook.com/ABCNewsPolitics/posts...</td>\n",
       "      <td>2016-09-19</td>\n",
       "      <td>video</td>\n",
       "      <td>no factual content</td>\n",
       "      <td>NaN</td>\n",
       "      <td>0.0</td>\n",
       "      <td>146.0</td>\n",
       "      <td>15.0</td>\n",
       "      <td>44.00</td>\n",
       "    </tr>\n",
       "    <tr>\n",
       "      <th>1</th>\n",
       "      <td>184096565021911</td>\n",
       "      <td>1035269309904628</td>\n",
       "      <td>mainstream</td>\n",
       "      <td>ABC News Politics</td>\n",
       "      <td>https://www.facebook.com/ABCNewsPolitics/posts...</td>\n",
       "      <td>2016-09-19</td>\n",
       "      <td>link</td>\n",
       "      <td>mostly true</td>\n",
       "      <td>NaN</td>\n",
       "      <td>1.0</td>\n",
       "      <td>33.0</td>\n",
       "      <td>34.0</td>\n",
       "      <td>26.25</td>\n",
       "    </tr>\n",
       "    <tr>\n",
       "      <th>2</th>\n",
       "      <td>184096565021911</td>\n",
       "      <td>1035305953234297</td>\n",
       "      <td>mainstream</td>\n",
       "      <td>ABC News Politics</td>\n",
       "      <td>https://www.facebook.com/ABCNewsPolitics/posts...</td>\n",
       "      <td>2016-09-19</td>\n",
       "      <td>link</td>\n",
       "      <td>mostly true</td>\n",
       "      <td>NaN</td>\n",
       "      <td>34.0</td>\n",
       "      <td>63.0</td>\n",
       "      <td>27.0</td>\n",
       "      <td>63.25</td>\n",
       "    </tr>\n",
       "  </tbody>\n",
       "</table>\n",
       "</div>"
      ],
      "text/plain": [
       "        account_id           post_id    category               page  \\\n",
       "0  184096565021911  1035057923259100  mainstream  ABC News Politics   \n",
       "1  184096565021911  1035269309904628  mainstream  ABC News Politics   \n",
       "2  184096565021911  1035305953234297  mainstream  ABC News Politics   \n",
       "\n",
       "                                            post_url date_published post_type  \\\n",
       "0  https://www.facebook.com/ABCNewsPolitics/posts...     2016-09-19     video   \n",
       "1  https://www.facebook.com/ABCNewsPolitics/posts...     2016-09-19      link   \n",
       "2  https://www.facebook.com/ABCNewsPolitics/posts...     2016-09-19      link   \n",
       "\n",
       "               rating debate  share_count  reaction_count  comment_count  \\\n",
       "0  no factual content    NaN          0.0           146.0           15.0   \n",
       "1         mostly true    NaN          1.0            33.0           34.0   \n",
       "2         mostly true    NaN         34.0            63.0           27.0   \n",
       "\n",
       "   engagement_score  \n",
       "0             44.00  \n",
       "1             26.25  \n",
       "2             63.25  "
      ]
     },
     "metadata": {},
     "output_type": "display_data"
    }
   ],
   "source": [
    "import pandas as pd\n",
    "import seaborn as sns\n",
    "import matplotlib.pyplot as plt\n",
    "from IPython.core.display import HTML\n",
    "import warnings\n",
    "warnings.simplefilter(action='ignore', category=pd.errors.SettingWithCopyWarning)\n",
    "from scipy.stats import spearmanr, kendalltau\n",
    "\n",
    "buzzfeed_df = pd.read_csv('../csv_collection/cleaned_buzzfeed_data.csv')\n",
    "\n",
    "display(buzzfeed_df.head(3))"
   ]
  },
  {
   "cell_type": "markdown",
   "metadata": {},
   "source": [
    "Here I will attempt to duplicate the findings in the BuzzFeed article"
   ]
  },
  {
   "cell_type": "code",
   "execution_count": 2,
   "metadata": {},
   "outputs": [
    {
     "name": "stdout",
     "output_type": "stream",
     "text": [
      "19.108% of posts from left sources are mostly false or a mixture of true and false.\n",
      "37.688% of posts from right sources are mostly false or a mixture of true and false.\n",
      "This duplicates the results from the BuzzFeed analysis.\n"
     ]
    }
   ],
   "source": [
    "# Left calculation:\n",
    "left_misleading = buzzfeed_df[(buzzfeed_df['category'] == 'left') & buzzfeed_df['rating'].isin(['mostly false', 'mixture of true and false' ])]\n",
    "left_posts = buzzfeed_df[buzzfeed_df['category'] == 'left']\n",
    "left_percent_misleading = (len(left_misleading) * 100) / len(left_posts)\n",
    "\n",
    "# Right calculation:\n",
    "right_misleading = buzzfeed_df[(buzzfeed_df['category'] == 'right') & buzzfeed_df['rating'].isin(['mostly false', 'mixture of true and false' ])]\n",
    "right_posts = buzzfeed_df[buzzfeed_df['category'] == 'right']\n",
    "right_percent_misleading = (len(right_misleading) * 100) / len(right_posts)\n",
    "\n",
    "print(f\"{left_percent_misleading:.3f}% of posts from left sources are mostly false or a mixture of true and false.\")\n",
    "print(f\"{right_percent_misleading:.3f}% of posts from right sources are mostly false or a mixture of true and false.\")\n",
    "print('This duplicates the results from the BuzzFeed analysis.')"
   ]
  },
  {
   "cell_type": "markdown",
   "metadata": {},
   "source": [
    "## Null hypothesis\n",
    "Here I will attempt to disprove that the correlation between factuality and average engagement, has no statistical difference between right and left leaning publications."
   ]
  },
  {
   "cell_type": "code",
   "execution_count": 3,
   "metadata": {},
   "outputs": [
    {
     "name": "stdout",
     "output_type": "stream",
     "text": [
      "Publications, Engagement, Factuality Table:\n"
     ]
    },
    {
     "data": {
      "application/vnd.dataresource+json": {
       "data": [
        {
         "average_engagement": 19516.0220588235,
         "category": "left",
         "count": 68,
         "index": 0,
         "rating": "mixture of true and false",
         "rating_num": 1,
         "total_engagement": 1327089.5
        },
        {
         "average_engagement": 12697.2954545455,
         "category": "left",
         "count": 22,
         "index": 1,
         "rating": "mostly false",
         "rating_num": 2,
         "total_engagement": 279340.5
        },
        {
         "average_engagement": 12741.9698113208,
         "category": "left",
         "count": 265,
         "index": 2,
         "rating": "mostly true",
         "rating_num": 0,
         "total_engagement": 3376622
        },
        {
         "average_engagement": 3698.71875,
         "category": "mainstream",
         "count": 8,
         "index": 3,
         "rating": "mixture of true and false",
         "rating_num": 1,
         "total_engagement": 29589.75
        },
        {
         "average_engagement": 416.0896313364,
         "category": "mainstream",
         "count": 1085,
         "index": 4,
         "rating": "mostly true",
         "rating_num": 0,
         "total_engagement": 451457.25
        },
        {
         "average_engagement": 2019.0591715976,
         "category": "right",
         "count": 169,
         "index": 5,
         "rating": "mixture of true and false",
         "rating_num": 1,
         "total_engagement": 341221
        },
        {
         "average_engagement": 3268.6158536585,
         "category": "right",
         "count": 82,
         "index": 6,
         "rating": "mostly false",
         "rating_num": 2,
         "total_engagement": 268026.5
        },
        {
         "average_engagement": 1317.5329153605,
         "category": "right",
         "count": 319,
         "index": 7,
         "rating": "mostly true",
         "rating_num": 0,
         "total_engagement": 420293
        }
       ],
       "schema": {
        "fields": [
         {
          "name": "index",
          "type": "integer"
         },
         {
          "name": "category",
          "type": "string"
         },
         {
          "constraints": {
           "enum": [
            "mostly true",
            "mixture of true and false",
            "mostly false"
           ]
          },
          "name": "rating",
          "ordered": true,
          "type": "any"
         },
         {
          "name": "count",
          "type": "integer"
         },
         {
          "name": "total_engagement",
          "type": "number"
         },
         {
          "name": "average_engagement",
          "type": "number"
         },
         {
          "name": "rating_num",
          "type": "integer"
         }
        ],
        "pandas_version": "1.4.0",
        "primaryKey": [
         "index"
        ]
       }
      },
      "text/html": [
       "<div>\n",
       "<style scoped>\n",
       "    .dataframe tbody tr th:only-of-type {\n",
       "        vertical-align: middle;\n",
       "    }\n",
       "\n",
       "    .dataframe tbody tr th {\n",
       "        vertical-align: top;\n",
       "    }\n",
       "\n",
       "    .dataframe thead th {\n",
       "        text-align: right;\n",
       "    }\n",
       "</style>\n",
       "<table border=\"1\" class=\"dataframe\">\n",
       "  <thead>\n",
       "    <tr style=\"text-align: right;\">\n",
       "      <th></th>\n",
       "      <th>category</th>\n",
       "      <th>rating</th>\n",
       "      <th>count</th>\n",
       "      <th>total_engagement</th>\n",
       "      <th>average_engagement</th>\n",
       "      <th>rating_num</th>\n",
       "    </tr>\n",
       "  </thead>\n",
       "  <tbody>\n",
       "    <tr>\n",
       "      <th>0</th>\n",
       "      <td>left</td>\n",
       "      <td>mixture of true and false</td>\n",
       "      <td>68</td>\n",
       "      <td>1327089.50</td>\n",
       "      <td>19516.022059</td>\n",
       "      <td>1</td>\n",
       "    </tr>\n",
       "    <tr>\n",
       "      <th>1</th>\n",
       "      <td>left</td>\n",
       "      <td>mostly false</td>\n",
       "      <td>22</td>\n",
       "      <td>279340.50</td>\n",
       "      <td>12697.295455</td>\n",
       "      <td>2</td>\n",
       "    </tr>\n",
       "    <tr>\n",
       "      <th>2</th>\n",
       "      <td>left</td>\n",
       "      <td>mostly true</td>\n",
       "      <td>265</td>\n",
       "      <td>3376622.00</td>\n",
       "      <td>12741.969811</td>\n",
       "      <td>0</td>\n",
       "    </tr>\n",
       "    <tr>\n",
       "      <th>3</th>\n",
       "      <td>mainstream</td>\n",
       "      <td>mixture of true and false</td>\n",
       "      <td>8</td>\n",
       "      <td>29589.75</td>\n",
       "      <td>3698.718750</td>\n",
       "      <td>1</td>\n",
       "    </tr>\n",
       "    <tr>\n",
       "      <th>4</th>\n",
       "      <td>mainstream</td>\n",
       "      <td>mostly true</td>\n",
       "      <td>1085</td>\n",
       "      <td>451457.25</td>\n",
       "      <td>416.089631</td>\n",
       "      <td>0</td>\n",
       "    </tr>\n",
       "    <tr>\n",
       "      <th>5</th>\n",
       "      <td>right</td>\n",
       "      <td>mixture of true and false</td>\n",
       "      <td>169</td>\n",
       "      <td>341221.00</td>\n",
       "      <td>2019.059172</td>\n",
       "      <td>1</td>\n",
       "    </tr>\n",
       "    <tr>\n",
       "      <th>6</th>\n",
       "      <td>right</td>\n",
       "      <td>mostly false</td>\n",
       "      <td>82</td>\n",
       "      <td>268026.50</td>\n",
       "      <td>3268.615854</td>\n",
       "      <td>2</td>\n",
       "    </tr>\n",
       "    <tr>\n",
       "      <th>7</th>\n",
       "      <td>right</td>\n",
       "      <td>mostly true</td>\n",
       "      <td>319</td>\n",
       "      <td>420293.00</td>\n",
       "      <td>1317.532915</td>\n",
       "      <td>0</td>\n",
       "    </tr>\n",
       "  </tbody>\n",
       "</table>\n",
       "</div>"
      ],
      "text/plain": [
       "     category                     rating  count  total_engagement  \\\n",
       "0        left  mixture of true and false     68        1327089.50   \n",
       "1        left               mostly false     22         279340.50   \n",
       "2        left                mostly true    265        3376622.00   \n",
       "3  mainstream  mixture of true and false      8          29589.75   \n",
       "4  mainstream                mostly true   1085         451457.25   \n",
       "5       right  mixture of true and false    169         341221.00   \n",
       "6       right               mostly false     82         268026.50   \n",
       "7       right                mostly true    319         420293.00   \n",
       "\n",
       "   average_engagement  rating_num  \n",
       "0        19516.022059           1  \n",
       "1        12697.295455           2  \n",
       "2        12741.969811           0  \n",
       "3         3698.718750           1  \n",
       "4          416.089631           0  \n",
       "5         2019.059172           1  \n",
       "6         3268.615854           2  \n",
       "7         1317.532915           0  "
      ]
     },
     "metadata": {},
     "output_type": "display_data"
    },
    {
     "data": {
      "image/png": "[encoded data removed]",
      "text/plain": [
       "<Figure size 640x480 with 1 Axes>"
      ]
     },
     "metadata": {},
     "output_type": "display_data"
    }
   ],
   "source": [
    "buzzfeed_df = buzzfeed_df[buzzfeed_df['rating'].isin(['mostly true', 'mixture of true and false', 'mostly false' ])]\n",
    "\n",
    "# Creating an aggregated Data Frame between publications and engagement.\n",
    "engagement_df = (\n",
    "    buzzfeed_df.groupby(['category', 'rating']).agg(\n",
    "        count=('rating', 'size'),\n",
    "        total_engagement=('engagement_score', 'sum'),\n",
    "        average_engagement=('engagement_score', 'mean')\n",
    "    ).reset_index())\n",
    "\n",
    "# Ordering by factuality:\n",
    "rating_order = [\"mostly true\", \"mixture of true and false\", \"mostly false\"]\n",
    "engagement_df['rating'] = pd.Categorical(engagement_df['rating'], categories=rating_order, ordered=True)\n",
    "engagement_df['rating_num'] = engagement_df['rating'].cat.codes\n",
    "\n",
    "sns.barplot(\n",
    "    x='category',\n",
    "    y='average_engagement',\n",
    "    hue='rating',\n",
    "    data=engagement_df\n",
    ")\n",
    "plt.xlabel('Publication Types')\n",
    "plt.ylabel('Average Engagement Scores')\n",
    "plt.title('Publications and their Engagement by Factuality')\n",
    "\n",
    "print('Publications, Engagement, Factuality Table:')\n",
    "display(engagement_df.head(9))\n",
    "plt.show();\n"
   ]
  },
  {
   "cell_type": "markdown",
   "metadata": {},
   "source": [
    "As seen from the graph, there is a visually obvious correlation for right-leaning media, between the correlation of un-factual information and average engagement. I'll attempt to statistically prove that correlation below:"
   ]
  },
  {
   "cell_type": "code",
   "execution_count": null,
   "metadata": {},
   "outputs": [
    {
     "name": "stdout",
     "output_type": "stream",
     "text": [
      "LEFT — Spearman: ρ = -0.500, p = 0.667 | Kendall: τ = -0.333, p = 1.000\n",
      "RIGHT — Spearman: ρ = 1.000, p = 0.000 | Kendall: τ = 1.000, p = 0.333\n"
     ]
    }
   ],
   "source": [
    "# Splitting the df into left and right groups:\n",
    "left_df = engagement_df[engagement_df['category'] == 'left']\n",
    "right_df = engagement_df[engagement_df['category'] == 'right']\n",
    "# Using the Spearman rank, to prove the correlation between two variables:\n",
    "left_spear_corr, left_spear_p = spearmanr(left_df['rating_num'],\n",
    "                                          left_df['average_engagement'])\n",
    "right_spear_corr, right_spear_p = spearmanr(right_df['rating_num'],\n",
    "                                            right_df['average_engagement'])\n",
    "# Double testing with the Kendall correlation:\n",
    "left_kendall_corr, left_kendall_p = kendalltau(left_df['rating_num'],\n",
    "                                               left_df['average_engagement'])\n",
    "right_kendall_corr, right_kendall_p = kendalltau(right_df['rating_num'],\n",
    "                                                 right_df['average_engagement'])\n",
    "# Displaying results\n",
    "print(f\"LEFT — Spearman: ρ = {left_spear_corr:.3f}, p = {left_spear_p:.3f} | Kendall: τ = {left_kendall_corr:.3f}, p = {left_kendall_p:.3f}\")\n",
    "print(f\"RIGHT — Spearman: ρ = {right_spear_corr:.3f}, p = {right_spear_p:.3f} | Kendall: τ = {right_kendall_corr:.3f}, p = {right_kendall_p:.3f}\")\n"
   ]
  },
  {
   "cell_type": "markdown",
   "metadata": {},
   "source": [
    "The above calculations show that for the Left publications: Spearman's Rho and Kendals Tau show negative correlations, meaning that as factuality decreases, average engagement tends to decrease as well. However these p values are higher than 0.05, so they are not statiscally significant, they just highlight a possible correlation.\n",
    "\n",
    "For the Right publications: The Rho and Tau results show perfect 1.0 correlations, with a very low p value from Spearman, but not Kendall. Overall, it is fair to say that there is a statistically significant difference between the types of media, Left and Right. Right facing publications tend to gain more engagement on average, the less factual they are. "
   ]
  },
  {
   "cell_type": "markdown",
   "metadata": {},
   "source": [
    "I'll now graph these two correlations for even more obvious viewing:"
   ]
  },
  {
   "cell_type": "code",
   "execution_count": 5,
   "metadata": {},
   "outputs": [
    {
     "data": {
      "image/png": "[encoded data removed]",
      "text/plain": [
       "<Figure size 1200x800 with 2 Axes>"
      ]
     },
     "metadata": {},
     "output_type": "display_data"
    }
   ],
   "source": [
    "left_df['rating'] = pd.Categorical(left_df['rating'], ['mostly true', 'mixture of true and false', 'mostly false'], ordered=True)\n",
    "right_df['rating'] = pd.Categorical(right_df['rating'], ['mostly true', 'mixture of true and false', 'mostly false'], ordered=True)\n",
    "\n",
    "plt.figure(figsize=(12, 8))\n",
    "\n",
    "plt.subplot(1, 2, 1)\n",
    "ax1 = sns.lineplot(\n",
    "    x='rating',\n",
    "    y='average_engagement',\n",
    "    data=left_df,\n",
    "    marker='o'\n",
    ")\n",
    "plt.xlabel('Average Engagement')\n",
    "plt.ylabel('Factuality')\n",
    "plt.title('Average Engagement by Factuality, Left Publications')\n",
    "\n",
    "plt.subplot(1, 2, 2)\n",
    "ax2 = sns.lineplot(\n",
    "    x='rating',\n",
    "    y='average_engagement',\n",
    "    data=right_df,\n",
    "    marker='o'\n",
    ")\n",
    "plt.xlabel('Average Engagement')\n",
    "plt.ylabel('Factuality')\n",
    "plt.title('Average Engagement by Factuality, Right Publications')\n",
    "\n",
    "plt.show();"
   ]
  },
  {
   "cell_type": "markdown",
   "metadata": {},
   "source": [
    "As shown the Spearman and Kendal statistical test, and the clear trends of the above graphs, there is a significant difference in the correlation between factuality and post-engagement between Right and Left leaning publications. The null hypothesis has been disproven, and the alternative hypothesis has been proven. "
   ]
  }
 ],
 "metadata": {
  "kernelspec": {
   "display_name": ".venv",
   "language": "python",
   "name": "python3"
  },
  "language_info": {
   "codemirror_mode": {
    "name": "ipython",
    "version": 3
   },
   "file_extension": ".py",
   "mimetype": "text/x-python",
   "name": "python",
   "nbconvert_exporter": "python",
   "pygments_lexer": "ipython3",
   "version": "3.10.2"
  }
 },
 "nbformat": 4,
 "nbformat_minor": 2
}
