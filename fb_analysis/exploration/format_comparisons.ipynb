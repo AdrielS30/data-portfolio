{
 "cells": [
  {
   "cell_type": "markdown",
   "metadata": {},
   "source": [
    "# Engagement by Post Type\n",
    "This file will answer questions one and two in the README. It will compare how different text, link, photo, and video posts compare in: total amount of posts, total amount of engagement, and average engagement per post. It will also display the factuality of each of these different formats. It will lastly aggregate a combination of categories: factuality and format, to see how these combinations fair in terms of engagement score."
   ]
  },
  {
   "cell_type": "code",
   "execution_count": 1,
   "metadata": {},
   "outputs": [
    {
     "data": {
      "application/vnd.dataresource+json": {
       "data": [
        {
         "account_id": 184096565021911,
         "category": "mainstream",
         "comment_count": 34,
         "date_published": "2016-09-19",
         "debate": null,
         "engagement_score": 26.25,
         "index": 1,
         "page": "ABC News Politics",
         "post_id": 1035269309904628,
         "post_type": "link",
         "post_url": "https://www.facebook.com/ABCNewsPolitics/posts/1035269309904628",
         "rating": "mostly true",
         "reaction_count": 33,
         "share_count": 1
        },
        {
         "account_id": 184096565021911,
         "category": "mainstream",
         "comment_count": 27,
         "date_published": "2016-09-19",
         "debate": null,
         "engagement_score": 63.25,
         "index": 2,
         "page": "ABC News Politics",
         "post_id": 1035305953234297,
         "post_type": "link",
         "post_url": "https://www.facebook.com/ABCNewsPolitics/posts/1035305953234297",
         "rating": "mostly true",
         "reaction_count": 63,
         "share_count": 34
        },
        {
         "account_id": 184096565021911,
         "category": "mainstream",
         "comment_count": 86,
         "date_published": "2016-09-19",
         "debate": null,
         "engagement_score": 120.5,
         "index": 3,
         "page": "ABC News Politics",
         "post_id": 1035322636565962,
         "post_type": "link",
         "post_url": "https://www.facebook.com/ABCNewsPolitics/posts/1035322636565962",
         "rating": "mostly true",
         "reaction_count": 170,
         "share_count": 35
        }
       ],
       "schema": {
        "fields": [
         {
          "name": "index",
          "type": "integer"
         },
         {
          "name": "account_id",
          "type": "integer"
         },
         {
          "name": "post_id",
          "type": "integer"
         },
         {
          "name": "category",
          "type": "string"
         },
         {
          "name": "page",
          "type": "string"
         },
         {
          "name": "post_url",
          "type": "string"
         },
         {
          "name": "date_published",
          "type": "string"
         },
         {
          "name": "post_type",
          "type": "string"
         },
         {
          "name": "rating",
          "type": "string"
         },
         {
          "name": "debate",
          "type": "string"
         },
         {
          "name": "share_count",
          "type": "number"
         },
         {
          "name": "reaction_count",
          "type": "number"
         },
         {
          "name": "comment_count",
          "type": "number"
         },
         {
          "name": "engagement_score",
          "type": "number"
         }
        ],
        "pandas_version": "1.4.0",
        "primaryKey": [
         "index"
        ]
       }
      },
      "text/html": [
       "<div>\n",
       "<style scoped>\n",
       "    .dataframe tbody tr th:only-of-type {\n",
       "        vertical-align: middle;\n",
       "    }\n",
       "\n",
       "    .dataframe tbody tr th {\n",
       "        vertical-align: top;\n",
       "    }\n",
       "\n",
       "    .dataframe thead th {\n",
       "        text-align: right;\n",
       "    }\n",
       "</style>\n",
       "<table border=\"1\" class=\"dataframe\">\n",
       "  <thead>\n",
       "    <tr style=\"text-align: right;\">\n",
       "      <th></th>\n",
       "      <th>account_id</th>\n",
       "      <th>post_id</th>\n",
       "      <th>category</th>\n",
       "      <th>page</th>\n",
       "      <th>post_url</th>\n",
       "      <th>date_published</th>\n",
       "      <th>post_type</th>\n",
       "      <th>rating</th>\n",
       "      <th>debate</th>\n",
       "      <th>share_count</th>\n",
       "      <th>reaction_count</th>\n",
       "      <th>comment_count</th>\n",
       "      <th>engagement_score</th>\n",
       "    </tr>\n",
       "  </thead>\n",
       "  <tbody>\n",
       "    <tr>\n",
       "      <th>1</th>\n",
       "      <td>184096565021911</td>\n",
       "      <td>1035269309904628</td>\n",
       "      <td>mainstream</td>\n",
       "      <td>ABC News Politics</td>\n",
       "      <td>https://www.facebook.com/ABCNewsPolitics/posts...</td>\n",
       "      <td>2016-09-19</td>\n",
       "      <td>link</td>\n",
       "      <td>mostly true</td>\n",
       "      <td>NaN</td>\n",
       "      <td>1.0</td>\n",
       "      <td>33.0</td>\n",
       "      <td>34.0</td>\n",
       "      <td>26.25</td>\n",
       "    </tr>\n",
       "    <tr>\n",
       "      <th>2</th>\n",
       "      <td>184096565021911</td>\n",
       "      <td>1035305953234297</td>\n",
       "      <td>mainstream</td>\n",
       "      <td>ABC News Politics</td>\n",
       "      <td>https://www.facebook.com/ABCNewsPolitics/posts...</td>\n",
       "      <td>2016-09-19</td>\n",
       "      <td>link</td>\n",
       "      <td>mostly true</td>\n",
       "      <td>NaN</td>\n",
       "      <td>34.0</td>\n",
       "      <td>63.0</td>\n",
       "      <td>27.0</td>\n",
       "      <td>63.25</td>\n",
       "    </tr>\n",
       "    <tr>\n",
       "      <th>3</th>\n",
       "      <td>184096565021911</td>\n",
       "      <td>1035322636565962</td>\n",
       "      <td>mainstream</td>\n",
       "      <td>ABC News Politics</td>\n",
       "      <td>https://www.facebook.com/ABCNewsPolitics/posts...</td>\n",
       "      <td>2016-09-19</td>\n",
       "      <td>link</td>\n",
       "      <td>mostly true</td>\n",
       "      <td>NaN</td>\n",
       "      <td>35.0</td>\n",
       "      <td>170.0</td>\n",
       "      <td>86.0</td>\n",
       "      <td>120.50</td>\n",
       "    </tr>\n",
       "  </tbody>\n",
       "</table>\n",
       "</div>"
      ],
      "text/plain": [
       "        account_id           post_id    category               page  \\\n",
       "1  184096565021911  1035269309904628  mainstream  ABC News Politics   \n",
       "2  184096565021911  1035305953234297  mainstream  ABC News Politics   \n",
       "3  184096565021911  1035322636565962  mainstream  ABC News Politics   \n",
       "\n",
       "                                            post_url date_published post_type  \\\n",
       "1  https://www.facebook.com/ABCNewsPolitics/posts...     2016-09-19      link   \n",
       "2  https://www.facebook.com/ABCNewsPolitics/posts...     2016-09-19      link   \n",
       "3  https://www.facebook.com/ABCNewsPolitics/posts...     2016-09-19      link   \n",
       "\n",
       "        rating debate  share_count  reaction_count  comment_count  \\\n",
       "1  mostly true    NaN          1.0            33.0           34.0   \n",
       "2  mostly true    NaN         34.0            63.0           27.0   \n",
       "3  mostly true    NaN         35.0           170.0           86.0   \n",
       "\n",
       "   engagement_score  \n",
       "1             26.25  \n",
       "2             63.25  \n",
       "3            120.50  "
      ]
     },
     "metadata": {},
     "output_type": "display_data"
    }
   ],
   "source": [
    "import pandas as pd\n",
    "import seaborn as sns\n",
    "import matplotlib.pyplot as plt\n",
    "from IPython.display import display_html\n",
    "import warnings\n",
    "warnings.simplefilter(action='ignore', category=pd.errors.SettingWithCopyWarning)\n",
    "\n",
    "buzzfeed_df = pd.read_csv('../csv_collection/cleaned_buzzfeed_data.csv')\n",
    "\n",
    "# Filter out the no_factual_content rows:\n",
    "buzzfeed_df = buzzfeed_df[buzzfeed_df['rating'].isin(['mostly true', 'mixture of true and false', 'mostly false'])]\n",
    "\n",
    "display(buzzfeed_df.head(3))"
   ]
  },
  {
   "cell_type": "markdown",
   "metadata": {},
   "source": [
    "First, I need three groups, one for each type of post, these groups are: total-posts, total engagement, and average engagement. Factuality of each will also be displayed. "
   ]
  },
  {
   "cell_type": "code",
   "execution_count": 2,
   "metadata": {},
   "outputs": [],
   "source": [
    "# I'll start by grouping by post_type:\n",
    "\n",
    "post_types_counts = buzzfeed_df.groupby('post_type')['rating'].value_counts().reset_index()\n",
    "\n",
    "engagement_totals = buzzfeed_df.groupby(['post_type', 'rating'])['engagement_score'].sum().reset_index()\n",
    "\n",
    "#aka engagement per post:\n",
    "engagement_avgs = buzzfeed_df.groupby(['post_type', 'rating'])['engagement_score'].mean().reset_index()"
   ]
  },
  {
   "cell_type": "markdown",
   "metadata": {},
   "source": [
    "Next, I will filter each group into sub-groups per different post-format:"
   ]
  },
  {
   "cell_type": "code",
   "execution_count": 3,
   "metadata": {},
   "outputs": [
    {
     "data": {
      "application/vnd.dataresource+json": {
       "data": [
        {
         "engagement_score": 3646.0742358079,
         "index": 0,
         "post_type": "link",
         "rating": "mixture of true and false"
        },
        {
         "engagement_score": 4609.2763157895,
         "index": 1,
         "post_type": "link",
         "rating": "mostly false"
        },
        {
         "engagement_score": 1367.3987364621,
         "index": 2,
         "post_type": "link",
         "rating": "mostly true"
        }
       ],
       "schema": {
        "fields": [
         {
          "name": "index",
          "type": "integer"
         },
         {
          "name": "post_type",
          "type": "string"
         },
         {
          "name": "rating",
          "type": "string"
         },
         {
          "name": "engagement_score",
          "type": "number"
         }
        ],
        "pandas_version": "1.4.0",
        "primaryKey": [
         "index"
        ]
       }
      },
      "text/html": [
       "<div>\n",
       "<style scoped>\n",
       "    .dataframe tbody tr th:only-of-type {\n",
       "        vertical-align: middle;\n",
       "    }\n",
       "\n",
       "    .dataframe tbody tr th {\n",
       "        vertical-align: top;\n",
       "    }\n",
       "\n",
       "    .dataframe thead th {\n",
       "        text-align: right;\n",
       "    }\n",
       "</style>\n",
       "<table border=\"1\" class=\"dataframe\">\n",
       "  <thead>\n",
       "    <tr style=\"text-align: right;\">\n",
       "      <th></th>\n",
       "      <th>post_type</th>\n",
       "      <th>rating</th>\n",
       "      <th>engagement_score</th>\n",
       "    </tr>\n",
       "  </thead>\n",
       "  <tbody>\n",
       "    <tr>\n",
       "      <th>0</th>\n",
       "      <td>link</td>\n",
       "      <td>mixture of true and false</td>\n",
       "      <td>3646.074236</td>\n",
       "    </tr>\n",
       "    <tr>\n",
       "      <th>1</th>\n",
       "      <td>link</td>\n",
       "      <td>mostly false</td>\n",
       "      <td>4609.276316</td>\n",
       "    </tr>\n",
       "    <tr>\n",
       "      <th>2</th>\n",
       "      <td>link</td>\n",
       "      <td>mostly true</td>\n",
       "      <td>1367.398736</td>\n",
       "    </tr>\n",
       "  </tbody>\n",
       "</table>\n",
       "</div>"
      ],
      "text/plain": [
       "  post_type                     rating  engagement_score\n",
       "0      link  mixture of true and false       3646.074236\n",
       "1      link               mostly false       4609.276316\n",
       "2      link                mostly true       1367.398736"
      ]
     },
     "metadata": {},
     "output_type": "display_data"
    }
   ],
   "source": [
    "# For total post counts:\n",
    "post_types_counts_links = post_types_counts[post_types_counts['post_type'] == 'link']\n",
    "post_types_counts_photos = post_types_counts[post_types_counts['post_type'] == 'photo']\n",
    "post_types_counts_texts = post_types_counts[post_types_counts['post_type'] == 'text']\n",
    "post_types_counts_video = post_types_counts[post_types_counts['post_type'] == 'video']\n",
    "\n",
    "# For total engagement:\n",
    "engagement_totals_links = engagement_totals[engagement_totals['post_type'] == 'link']\n",
    "engagement_totals_photos = engagement_totals[engagement_totals['post_type'] == 'photo']\n",
    "engagement_totals_text = engagement_totals[engagement_totals['post_type'] == 'text']\n",
    "engagement_totals_video = engagement_totals[engagement_totals['post_type'] == 'video']\n",
    "\n",
    "# For average engagement, aka engagement per post:\n",
    "engagement_avgs_links = engagement_avgs[engagement_avgs['post_type'] == 'link']\n",
    "engagement_avgs_photos = engagement_avgs[engagement_avgs['post_type'] == 'photo']\n",
    "engagement_avgs_text = engagement_avgs[engagement_avgs['post_type'] == 'text']\n",
    "engagement_avgs_video = engagement_avgs[engagement_avgs['post_type'] == 'video']\n",
    "\n",
    "display(engagement_avgs_links.head(3))"
   ]
  },
  {
   "cell_type": "markdown",
   "metadata": {},
   "source": [
    "## Total amount of posts, comparison by format-count and format-factuality"
   ]
  },
  {
   "cell_type": "markdown",
   "metadata": {},
   "source": [
    "Here I will display the total count of each type of post-format. For each type of post-format, I will also show what percent of those posts are mostly true, mixture of true and false, and mostly false. I'll display it in tabular and graphical formats."
   ]
  },
  {
   "cell_type": "markdown",
   "metadata": {},
   "source": [
    "Tabular display:"
   ]
  },
  {
   "cell_type": "code",
   "execution_count": 4,
   "metadata": {},
   "outputs": [
    {
     "data": {
      "text/html": [
       "<div><div style='display: inline-block; width: 45%; vertical-align: top; margin: 10px'><h3>Links</h3><table border=\"1\" class=\"dataframe\">\n",
       "  <thead>\n",
       "    <tr style=\"text-align: right;\">\n",
       "      <th>post_type</th>\n",
       "      <th>rating</th>\n",
       "      <th>count</th>\n",
       "      <th>percent_of_posts</th>\n",
       "    </tr>\n",
       "  </thead>\n",
       "  <tbody>\n",
       "    <tr>\n",
       "      <td>link</td>\n",
       "      <td>mostly true</td>\n",
       "      <td>1385</td>\n",
       "      <td>81.041545</td>\n",
       "    </tr>\n",
       "    <tr>\n",
       "      <td>link</td>\n",
       "      <td>mixture of true and false</td>\n",
       "      <td>229</td>\n",
       "      <td>13.399649</td>\n",
       "    </tr>\n",
       "    <tr>\n",
       "      <td>link</td>\n",
       "      <td>mostly false</td>\n",
       "      <td>95</td>\n",
       "      <td>5.558806</td>\n",
       "    </tr>\n",
       "  </tbody>\n",
       "</table></div><div style='display: inline-block; width: 45%; vertical-align: top; margin: 10px'><h3>Photos</h3><table border=\"1\" class=\"dataframe\">\n",
       "  <thead>\n",
       "    <tr style=\"text-align: right;\">\n",
       "      <th>post_type</th>\n",
       "      <th>rating</th>\n",
       "      <th>count</th>\n",
       "      <th>percent_of_posts</th>\n",
       "    </tr>\n",
       "  </thead>\n",
       "  <tbody>\n",
       "    <tr>\n",
       "      <td>photo</td>\n",
       "      <td>mostly true</td>\n",
       "      <td>63</td>\n",
       "      <td>80.769231</td>\n",
       "    </tr>\n",
       "    <tr>\n",
       "      <td>photo</td>\n",
       "      <td>mostly false</td>\n",
       "      <td>9</td>\n",
       "      <td>11.538462</td>\n",
       "    </tr>\n",
       "    <tr>\n",
       "      <td>photo</td>\n",
       "      <td>mixture of true and false</td>\n",
       "      <td>6</td>\n",
       "      <td>7.692308</td>\n",
       "    </tr>\n",
       "  </tbody>\n",
       "</table></div></div><div><div style='display: inline-block; width: 45%; vertical-align: top; margin: 10px'><h3>Text</h3><table border=\"1\" class=\"dataframe\">\n",
       "  <thead>\n",
       "    <tr style=\"text-align: right;\">\n",
       "      <th>post_type</th>\n",
       "      <th>rating</th>\n",
       "      <th>count</th>\n",
       "      <th>percent_of_posts</th>\n",
       "    </tr>\n",
       "  </thead>\n",
       "  <tbody>\n",
       "    <tr>\n",
       "      <td>text</td>\n",
       "      <td>mostly true</td>\n",
       "      <td>3</td>\n",
       "      <td>75.0</td>\n",
       "    </tr>\n",
       "    <tr>\n",
       "      <td>text</td>\n",
       "      <td>mixture of true and false</td>\n",
       "      <td>1</td>\n",
       "      <td>25.0</td>\n",
       "    </tr>\n",
       "  </tbody>\n",
       "</table></div><div style='display: inline-block; width: 45%; vertical-align: top; margin: 10px'><h3>Video</h3><table border=\"1\" class=\"dataframe\">\n",
       "  <thead>\n",
       "    <tr style=\"text-align: right;\">\n",
       "      <th>post_type</th>\n",
       "      <th>rating</th>\n",
       "      <th>count</th>\n",
       "      <th>percent_of_posts</th>\n",
       "    </tr>\n",
       "  </thead>\n",
       "  <tbody>\n",
       "    <tr>\n",
       "      <td>video</td>\n",
       "      <td>mostly true</td>\n",
       "      <td>218</td>\n",
       "      <td>96.035242</td>\n",
       "    </tr>\n",
       "    <tr>\n",
       "      <td>video</td>\n",
       "      <td>mixture of true and false</td>\n",
       "      <td>9</td>\n",
       "      <td>3.964758</td>\n",
       "    </tr>\n",
       "  </tbody>\n",
       "</table></div></div>"
      ]
     },
     "metadata": {},
     "output_type": "display_data"
    },
    {
     "name": "stdout",
     "output_type": "stream",
     "text": [
      "Overall Totals:\n"
     ]
    },
    {
     "data": {
      "application/vnd.dataresource+json": {
       "data": [
        {
         "count": 1385,
         "index": 0,
         "post_type": "link",
         "rating": "mostly true"
        },
        {
         "count": 229,
         "index": 1,
         "post_type": "link",
         "rating": "mixture of true and false"
        },
        {
         "count": 218,
         "index": 8,
         "post_type": "video",
         "rating": "mostly true"
        },
        {
         "count": 95,
         "index": 2,
         "post_type": "link",
         "rating": "mostly false"
        },
        {
         "count": 63,
         "index": 3,
         "post_type": "photo",
         "rating": "mostly true"
        },
        {
         "count": 9,
         "index": 4,
         "post_type": "photo",
         "rating": "mostly false"
        },
        {
         "count": 9,
         "index": 9,
         "post_type": "video",
         "rating": "mixture of true and false"
        },
        {
         "count": 6,
         "index": 5,
         "post_type": "photo",
         "rating": "mixture of true and false"
        },
        {
         "count": 3,
         "index": 6,
         "post_type": "text",
         "rating": "mostly true"
        },
        {
         "count": 1,
         "index": 7,
         "post_type": "text",
         "rating": "mixture of true and false"
        }
       ],
       "schema": {
        "fields": [
         {
          "name": "index",
          "type": "integer"
         },
         {
          "name": "post_type",
          "type": "string"
         },
         {
          "name": "rating",
          "type": "string"
         },
         {
          "name": "count",
          "type": "integer"
         }
        ],
        "pandas_version": "1.4.0",
        "primaryKey": [
         "index"
        ]
       }
      },
      "text/html": [
       "<div>\n",
       "<style scoped>\n",
       "    .dataframe tbody tr th:only-of-type {\n",
       "        vertical-align: middle;\n",
       "    }\n",
       "\n",
       "    .dataframe tbody tr th {\n",
       "        vertical-align: top;\n",
       "    }\n",
       "\n",
       "    .dataframe thead th {\n",
       "        text-align: right;\n",
       "    }\n",
       "</style>\n",
       "<table border=\"1\" class=\"dataframe\">\n",
       "  <thead>\n",
       "    <tr style=\"text-align: right;\">\n",
       "      <th></th>\n",
       "      <th>post_type</th>\n",
       "      <th>rating</th>\n",
       "      <th>count</th>\n",
       "    </tr>\n",
       "  </thead>\n",
       "  <tbody>\n",
       "    <tr>\n",
       "      <th>0</th>\n",
       "      <td>link</td>\n",
       "      <td>mostly true</td>\n",
       "      <td>1385</td>\n",
       "    </tr>\n",
       "    <tr>\n",
       "      <th>1</th>\n",
       "      <td>link</td>\n",
       "      <td>mixture of true and false</td>\n",
       "      <td>229</td>\n",
       "    </tr>\n",
       "    <tr>\n",
       "      <th>8</th>\n",
       "      <td>video</td>\n",
       "      <td>mostly true</td>\n",
       "      <td>218</td>\n",
       "    </tr>\n",
       "    <tr>\n",
       "      <th>2</th>\n",
       "      <td>link</td>\n",
       "      <td>mostly false</td>\n",
       "      <td>95</td>\n",
       "    </tr>\n",
       "    <tr>\n",
       "      <th>3</th>\n",
       "      <td>photo</td>\n",
       "      <td>mostly true</td>\n",
       "      <td>63</td>\n",
       "    </tr>\n",
       "    <tr>\n",
       "      <th>4</th>\n",
       "      <td>photo</td>\n",
       "      <td>mostly false</td>\n",
       "      <td>9</td>\n",
       "    </tr>\n",
       "    <tr>\n",
       "      <th>9</th>\n",
       "      <td>video</td>\n",
       "      <td>mixture of true and false</td>\n",
       "      <td>9</td>\n",
       "    </tr>\n",
       "    <tr>\n",
       "      <th>5</th>\n",
       "      <td>photo</td>\n",
       "      <td>mixture of true and false</td>\n",
       "      <td>6</td>\n",
       "    </tr>\n",
       "    <tr>\n",
       "      <th>6</th>\n",
       "      <td>text</td>\n",
       "      <td>mostly true</td>\n",
       "      <td>3</td>\n",
       "    </tr>\n",
       "    <tr>\n",
       "      <th>7</th>\n",
       "      <td>text</td>\n",
       "      <td>mixture of true and false</td>\n",
       "      <td>1</td>\n",
       "    </tr>\n",
       "  </tbody>\n",
       "</table>\n",
       "</div>"
      ],
      "text/plain": [
       "  post_type                     rating  count\n",
       "0      link                mostly true   1385\n",
       "1      link  mixture of true and false    229\n",
       "8     video                mostly true    218\n",
       "2      link               mostly false     95\n",
       "3     photo                mostly true     63\n",
       "4     photo               mostly false      9\n",
       "9     video  mixture of true and false      9\n",
       "5     photo  mixture of true and false      6\n",
       "6      text                mostly true      3\n",
       "7      text  mixture of true and false      1"
      ]
     },
     "metadata": {},
     "output_type": "display_data"
    }
   ],
   "source": [
    "# Creatung a function to add a percent column to each type of post:\n",
    "def percent_calculator(df, count_col='count', new_col='percent_of_posts'):\n",
    "    total = df[count_col].sum()\n",
    "    df[new_col] = (df[count_col] / total) * 100\n",
    "    return df\n",
    "\n",
    "post_types_counts_links = percent_calculator(post_types_counts_links)\n",
    "post_types_counts_photos = percent_calculator(post_types_counts_photos)\n",
    "post_types_counts_texts = percent_calculator(post_types_counts_texts)\n",
    "post_types_counts_video = percent_calculator(post_types_counts_video)\n",
    "\n",
    "# Sorting by count:\n",
    "post_types_counts_links = post_types_counts_links.sort_values(by='count', ascending=False)\n",
    "post_types_counts_photos = post_types_counts_photos.sort_values(by='count', ascending=False)\n",
    "post_types_counts_texts = post_types_counts_texts.sort_values(by='count', ascending=False)\n",
    "post_types_counts_video = post_types_counts_video.sort_values(by='count', ascending=False)\n",
    "\n",
    "# Configuring for easier viewing:\n",
    "df_blocks = [\n",
    "    f\"<div style='display: inline-block; width: 45%; vertical-align: top; margin: 10px'><h3>Links</h3>{post_types_counts_links.to_html(index=False)}</div>\",\n",
    "    f\"<div style='display: inline-block; width: 45%; vertical-align: top; margin: 10px'><h3>Photos</h3>{post_types_counts_photos.to_html(index=False)}</div>\",\n",
    "    f\"<div style='display: inline-block; width: 45%; vertical-align: top; margin: 10px'><h3>Text</h3>{post_types_counts_texts.to_html(index=False)}</div>\",\n",
    "    f\"<div style='display: inline-block; width: 45%; vertical-align: top; margin: 10px'><h3>Video</h3>{post_types_counts_video.to_html(index=False)}</div>\"\n",
    "]\n",
    "row1 = df_blocks[0] + df_blocks[1]\n",
    "row2 = df_blocks[2] + df_blocks[3]\n",
    "display_html(f\"<div>{row1}</div><div>{row2}</div>\", raw=True)\n",
    "print('Overall Totals:')\n",
    "display(post_types_counts.sort_values(by='count', ascending=False))"
   ]
  },
  {
   "cell_type": "markdown",
   "metadata": {},
   "source": [
    "Graphical display:"
   ]
  },
  {
   "cell_type": "code",
   "execution_count": null,
   "metadata": {},
   "outputs": [
    {
     "data": {
      "image/png": "[encoded data removed]",
      "text/plain": [
       "<Figure size 1400x600 with 3 Axes>"
      ]
     },
     "metadata": {},
     "output_type": "display_data"
    }
   ],
   "source": [
    "# Note, text posts will be excluded from the graphical analysis, as they compose such a small amount of posts and engagement.\n",
    "\n",
    "# Graphical display:\n",
    "\n",
    "# Creating colors, labels, and sizes for the pie graphs:\n",
    "colors = ['#66b3ff', '#ffcc99', '#ff6666']\n",
    "\n",
    "links_labels = post_types_counts_links['rating']\n",
    "link_sizes = post_types_counts_links['percent_of_posts']\n",
    "\n",
    "photo_labels = post_types_counts_photos['rating']\n",
    "photo_sizes = post_types_counts_photos['percent_of_posts']\n",
    "\n",
    "text_labels = post_types_counts_texts['rating']\n",
    "text_sizes = post_types_counts_texts['percent_of_posts']\n",
    "\n",
    "video_labels = post_types_counts_video['rating']\n",
    "video_sizes = post_types_counts_video['percent_of_posts']\n",
    "\n",
    "# Graphing:\n",
    "plt.figure(figsize=(14, 6))\n",
    "\n",
    "plt.subplot(1, 3, 1)\n",
    "ax1 = plt.pie(\n",
    "    link_sizes,\n",
    "    labels= links_labels,\n",
    "    autopct='%1.1f%%',\n",
    "    startangle=90,\n",
    "    colors=colors\n",
    ")\n",
    "plt.title(\"Total Percent of Link-Posts\")\n",
    "plt.axis('equal')\n",
    "\n",
    "plt.subplot(1, 3, 2)\n",
    "ax2 = plt.pie(\n",
    "    photo_sizes,\n",
    "    labels= photo_labels,\n",
    "    autopct='%1.1f%%',\n",
    "    startangle=90,\n",
    "    colors=colors\n",
    ")\n",
    "plt.title(\"Total Percent of Photo-Posts\")\n",
    "plt.axis('equal')\n",
    "\n",
    "plt.subplot(1, 3, 3)\n",
    "ax3 = plt.pie(\n",
    "    video_sizes,\n",
    "    labels= video_labels,\n",
    "    autopct='%1.1f%%',\n",
    "    startangle=90,\n",
    "    colors=colors\n",
    ")\n",
    "plt.title(\"Total Percent of Video-Posts\")\n",
    "plt.axis('equal')\n",
    "\n",
    "\n",
    "plt.show();"
   ]
  },
  {
   "cell_type": "markdown",
   "metadata": {},
   "source": [
    "Total Post Count Summary: As seen from the charts and graphs, posts with links are by far the most common, followed by videos, then photos, then plain text posts are relatively non-existent compared to the other formats. Photo and link posts are very similar in the percent of their posts that are factual, with both of them having 81% mostly true. Video posts are the most factual by a large margin."
   ]
  },
  {
   "cell_type": "markdown",
   "metadata": {},
   "source": [
    "## Total engagement comparison, sorted by type of post and how factual each type is. "
   ]
  },
  {
   "cell_type": "markdown",
   "metadata": {},
   "source": [
    "In tabular format:"
   ]
  },
  {
   "cell_type": "code",
   "execution_count": 6,
   "metadata": {},
   "outputs": [
    {
     "data": {
      "text/html": [
       "<div><div style='display: inline-block; width: 45%; vertical-align: top; margin: 10px'><h3>Links</h3><table border=\"1\" class=\"dataframe\">\n",
       "  <thead>\n",
       "    <tr style=\"text-align: right;\">\n",
       "      <th>post_type</th>\n",
       "      <th>rating</th>\n",
       "      <th>engagement_score</th>\n",
       "    </tr>\n",
       "  </thead>\n",
       "  <tbody>\n",
       "    <tr>\n",
       "      <td>link</td>\n",
       "      <td>mostly true</td>\n",
       "      <td>1893847.25</td>\n",
       "    </tr>\n",
       "    <tr>\n",
       "      <td>link</td>\n",
       "      <td>mixture of true and false</td>\n",
       "      <td>834951.00</td>\n",
       "    </tr>\n",
       "    <tr>\n",
       "      <td>link</td>\n",
       "      <td>mostly false</td>\n",
       "      <td>437881.25</td>\n",
       "    </tr>\n",
       "  </tbody>\n",
       "</table></div><div style='display: inline-block; width: 45%; vertical-align: top; margin: 10px'><h3>Photos</h3><table border=\"1\" class=\"dataframe\">\n",
       "  <thead>\n",
       "    <tr style=\"text-align: right;\">\n",
       "      <th>post_type</th>\n",
       "      <th>rating</th>\n",
       "      <th>engagement_score</th>\n",
       "    </tr>\n",
       "  </thead>\n",
       "  <tbody>\n",
       "    <tr>\n",
       "      <td>photo</td>\n",
       "      <td>mostly true</td>\n",
       "      <td>1132810.25</td>\n",
       "    </tr>\n",
       "    <tr>\n",
       "      <td>photo</td>\n",
       "      <td>mostly false</td>\n",
       "      <td>109485.75</td>\n",
       "    </tr>\n",
       "    <tr>\n",
       "      <td>photo</td>\n",
       "      <td>mixture of true and false</td>\n",
       "      <td>105019.50</td>\n",
       "    </tr>\n",
       "  </tbody>\n",
       "</table></div></div><div><div style='display: inline-block; width: 45%; vertical-align: top; margin: 10px'><h3>Text</h3><table border=\"1\" class=\"dataframe\">\n",
       "  <thead>\n",
       "    <tr style=\"text-align: right;\">\n",
       "      <th>post_type</th>\n",
       "      <th>rating</th>\n",
       "      <th>engagement_score</th>\n",
       "    </tr>\n",
       "  </thead>\n",
       "  <tbody>\n",
       "    <tr>\n",
       "      <td>text</td>\n",
       "      <td>mostly true</td>\n",
       "      <td>113.00</td>\n",
       "    </tr>\n",
       "    <tr>\n",
       "      <td>text</td>\n",
       "      <td>mixture of true and false</td>\n",
       "      <td>18.25</td>\n",
       "    </tr>\n",
       "  </tbody>\n",
       "</table></div><div style='display: inline-block; width: 45%; vertical-align: top; margin: 10px'><h3>Video</h3><table border=\"1\" class=\"dataframe\">\n",
       "  <thead>\n",
       "    <tr style=\"text-align: right;\">\n",
       "      <th>post_type</th>\n",
       "      <th>rating</th>\n",
       "      <th>engagement_score</th>\n",
       "    </tr>\n",
       "  </thead>\n",
       "  <tbody>\n",
       "    <tr>\n",
       "      <td>video</td>\n",
       "      <td>mostly true</td>\n",
       "      <td>1221601.75</td>\n",
       "    </tr>\n",
       "    <tr>\n",
       "      <td>video</td>\n",
       "      <td>mixture of true and false</td>\n",
       "      <td>757911.50</td>\n",
       "    </tr>\n",
       "  </tbody>\n",
       "</table></div></div>"
      ]
     },
     "metadata": {},
     "output_type": "display_data"
    },
    {
     "data": {
      "application/vnd.dataresource+json": {
       "data": [
        {
         "engagement_score": 1893847.25,
         "index": 2,
         "post_type": "link",
         "rating": "mostly true"
        },
        {
         "engagement_score": 1221601.75,
         "index": 9,
         "post_type": "video",
         "rating": "mostly true"
        },
        {
         "engagement_score": 1132810.25,
         "index": 5,
         "post_type": "photo",
         "rating": "mostly true"
        },
        {
         "engagement_score": 834951,
         "index": 0,
         "post_type": "link",
         "rating": "mixture of true and false"
        },
        {
         "engagement_score": 757911.5,
         "index": 8,
         "post_type": "video",
         "rating": "mixture of true and false"
        },
        {
         "engagement_score": 437881.25,
         "index": 1,
         "post_type": "link",
         "rating": "mostly false"
        },
        {
         "engagement_score": 109485.75,
         "index": 4,
         "post_type": "photo",
         "rating": "mostly false"
        },
        {
         "engagement_score": 105019.5,
         "index": 3,
         "post_type": "photo",
         "rating": "mixture of true and false"
        },
        {
         "engagement_score": 113,
         "index": 7,
         "post_type": "text",
         "rating": "mostly true"
        },
        {
         "engagement_score": 18.25,
         "index": 6,
         "post_type": "text",
         "rating": "mixture of true and false"
        }
       ],
       "schema": {
        "fields": [
         {
          "name": "index",
          "type": "integer"
         },
         {
          "name": "post_type",
          "type": "string"
         },
         {
          "name": "rating",
          "type": "string"
         },
         {
          "name": "engagement_score",
          "type": "number"
         }
        ],
        "pandas_version": "1.4.0",
        "primaryKey": [
         "index"
        ]
       }
      },
      "text/html": [
       "<div>\n",
       "<style scoped>\n",
       "    .dataframe tbody tr th:only-of-type {\n",
       "        vertical-align: middle;\n",
       "    }\n",
       "\n",
       "    .dataframe tbody tr th {\n",
       "        vertical-align: top;\n",
       "    }\n",
       "\n",
       "    .dataframe thead th {\n",
       "        text-align: right;\n",
       "    }\n",
       "</style>\n",
       "<table border=\"1\" class=\"dataframe\">\n",
       "  <thead>\n",
       "    <tr style=\"text-align: right;\">\n",
       "      <th></th>\n",
       "      <th>post_type</th>\n",
       "      <th>rating</th>\n",
       "      <th>engagement_score</th>\n",
       "    </tr>\n",
       "  </thead>\n",
       "  <tbody>\n",
       "    <tr>\n",
       "      <th>2</th>\n",
       "      <td>link</td>\n",
       "      <td>mostly true</td>\n",
       "      <td>1893847.25</td>\n",
       "    </tr>\n",
       "    <tr>\n",
       "      <th>9</th>\n",
       "      <td>video</td>\n",
       "      <td>mostly true</td>\n",
       "      <td>1221601.75</td>\n",
       "    </tr>\n",
       "    <tr>\n",
       "      <th>5</th>\n",
       "      <td>photo</td>\n",
       "      <td>mostly true</td>\n",
       "      <td>1132810.25</td>\n",
       "    </tr>\n",
       "    <tr>\n",
       "      <th>0</th>\n",
       "      <td>link</td>\n",
       "      <td>mixture of true and false</td>\n",
       "      <td>834951.00</td>\n",
       "    </tr>\n",
       "    <tr>\n",
       "      <th>8</th>\n",
       "      <td>video</td>\n",
       "      <td>mixture of true and false</td>\n",
       "      <td>757911.50</td>\n",
       "    </tr>\n",
       "    <tr>\n",
       "      <th>1</th>\n",
       "      <td>link</td>\n",
       "      <td>mostly false</td>\n",
       "      <td>437881.25</td>\n",
       "    </tr>\n",
       "    <tr>\n",
       "      <th>4</th>\n",
       "      <td>photo</td>\n",
       "      <td>mostly false</td>\n",
       "      <td>109485.75</td>\n",
       "    </tr>\n",
       "    <tr>\n",
       "      <th>3</th>\n",
       "      <td>photo</td>\n",
       "      <td>mixture of true and false</td>\n",
       "      <td>105019.50</td>\n",
       "    </tr>\n",
       "    <tr>\n",
       "      <th>7</th>\n",
       "      <td>text</td>\n",
       "      <td>mostly true</td>\n",
       "      <td>113.00</td>\n",
       "    </tr>\n",
       "    <tr>\n",
       "      <th>6</th>\n",
       "      <td>text</td>\n",
       "      <td>mixture of true and false</td>\n",
       "      <td>18.25</td>\n",
       "    </tr>\n",
       "  </tbody>\n",
       "</table>\n",
       "</div>"
      ],
      "text/plain": [
       "  post_type                     rating  engagement_score\n",
       "2      link                mostly true        1893847.25\n",
       "9     video                mostly true        1221601.75\n",
       "5     photo                mostly true        1132810.25\n",
       "0      link  mixture of true and false         834951.00\n",
       "8     video  mixture of true and false         757911.50\n",
       "1      link               mostly false         437881.25\n",
       "4     photo               mostly false         109485.75\n",
       "3     photo  mixture of true and false         105019.50\n",
       "7      text                mostly true            113.00\n",
       "6      text  mixture of true and false             18.25"
      ]
     },
     "metadata": {},
     "output_type": "display_data"
    }
   ],
   "source": [
    "engagement_totals_links = engagement_totals_links.sort_values(by='engagement_score', ascending=False)\n",
    "engagement_totals_photos= engagement_totals_photos.sort_values(by='engagement_score', ascending=False)\n",
    "engagement_totals_text = engagement_totals_text.sort_values(by='engagement_score', ascending=False)\n",
    "engagement_totals_video = engagement_totals_video.sort_values(by='engagement_score', ascending=False)\n",
    "\n",
    "\n",
    "df_blocks = [\n",
    "    f\"<div style='display: inline-block; width: 45%; vertical-align: top; margin: 10px'><h3>Links</h3>{engagement_totals_links.to_html(index=False)}</div>\",\n",
    "    f\"<div style='display: inline-block; width: 45%; vertical-align: top; margin: 10px'><h3>Photos</h3>{engagement_totals_photos.to_html(index=False)}</div>\",\n",
    "    f\"<div style='display: inline-block; width: 45%; vertical-align: top; margin: 10px'><h3>Text</h3>{engagement_totals_text.to_html(index=False)}</div>\",\n",
    "    f\"<div style='display: inline-block; width: 45%; vertical-align: top; margin: 10px'><h3>Video</h3>{engagement_totals_video.to_html(index=False)}</div>\"\n",
    "]\n",
    "\n",
    "row1 = df_blocks[0] + df_blocks[1]\n",
    "row2 = df_blocks[2] + df_blocks[3]\n",
    "\n",
    "display_html(f\"<div>{row1}</div><div>{row2}</div>\", raw=True)\n",
    "display(engagement_totals.sort_values(by='engagement_score', ascending=False))"
   ]
  },
  {
   "cell_type": "markdown",
   "metadata": {},
   "source": [
    "In graphical format:"
   ]
  },
  {
   "cell_type": "code",
   "execution_count": 7,
   "metadata": {},
   "outputs": [
    {
     "name": "stderr",
     "output_type": "stream",
     "text": [
      "/var/folders/wr/ngy9lj557nl6cpv0nwkv2fkh0000gn/T/ipykernel_34411/2467087307.py:65: UserWarning: set_ticklabels() should only be used with a fixed number of ticks, i.e. after set_ticks() or using a FixedLocator.\n",
      "  ax3.set_xticklabels(['Mostly true', 'Mixture of true and false'])\n"
     ]
    },
    {
     "data": {
      "image/png": "[encoded data removed]",
      "text/plain": [
       "<Figure size 1400x800 with 3 Axes>"
      ]
     },
     "metadata": {},
     "output_type": "display_data"
    }
   ],
   "source": [
    "# Creating a ranking order:\n",
    "rating = [\n",
    "    \"mostly true\",\n",
    "    \"mixture of true and false\",\n",
    "    \"mostly false\"\n",
    "]\n",
    "\n",
    "# Creating a function and applying the ranking order:\n",
    "def prepare_df(df):\n",
    "    df['rating'] = pd.Categorical(\n",
    "        df['rating'],\n",
    "        categories=rating,\n",
    "        ordered=True\n",
    "    )\n",
    "    df['rating_num'] = df['rating'].cat.codes\n",
    "    return df\n",
    "\n",
    "engagement_totals_links = prepare_df(engagement_totals_links)\n",
    "engagement_totals_photos = prepare_df(engagement_totals_photos)\n",
    "engagement_totals_video = prepare_df(engagement_totals_video)\n",
    "\n",
    "\n",
    "# Graphing:\n",
    "plt.figure(figsize=(14, 8))\n",
    "\n",
    "plt.subplot(1, 3, 1)\n",
    "ax1 = sns.barplot(\n",
    "    x='rating_num',\n",
    "    y='engagement_score',\n",
    "    data=engagement_totals_links,\n",
    ")\n",
    "plt.xticks(\n",
    "    ticks=range(len(rating)),\n",
    "    labels=rating,\n",
    "    rotation=25\n",
    "\n",
    ")\n",
    "plt.ylabel('Engagement Scores')\n",
    "plt.xlabel('Factuality Score')\n",
    "plt.title('Total Link Engagement Scores')\n",
    "\n",
    "plt.subplot(1, 3, 2)\n",
    "ax2 = sns.barplot(\n",
    "    x='rating_num',\n",
    "    y='engagement_score',\n",
    "    data=engagement_totals_photos,\n",
    ")\n",
    "plt.xticks(\n",
    "    ticks=range(len(rating)),\n",
    "    labels=rating,\n",
    "    rotation=25\n",
    ")\n",
    "plt.xlabel('Factuality Score')\n",
    "plt.ylabel('Engagement Scores')\n",
    "plt.ylim(bottom=-100)\n",
    "plt.title('Total Photo Engagement Scores')\n",
    "\n",
    "plt.subplot(1, 3, 3)\n",
    "ax3 = sns.barplot(\n",
    "    x='rating_num',\n",
    "    y='engagement_score',\n",
    "    data=engagement_totals_video,\n",
    ")\n",
    "plt.xlabel('Factuality Score')\n",
    "ax3.set_xticklabels(['Mostly true', 'Mixture of true and false'])\n",
    "plt.title('Total Video Engagement Scores')\n",
    "plt.ylabel('Engagement Scores')\n",
    "\n",
    "\n",
    "plt.show();"
   ]
  },
  {
   "cell_type": "markdown",
   "metadata": {},
   "source": [
    "Total Engagement Score Summary: Unsuprisingly, link-posts created the most engagement, as they also comprise the most total amount of posts. However, photo and video posts make a suprisingly huge amount of total engagement, considering how far fewer posts there are of them. "
   ]
  },
  {
   "cell_type": "markdown",
   "metadata": {},
   "source": [
    "## Average engagements (aka engagement per post), comparing average engagement between different post types, along with their factuality."
   ]
  },
  {
   "cell_type": "markdown",
   "metadata": {},
   "source": [
    "In tabular format:"
   ]
  },
  {
   "cell_type": "code",
   "execution_count": 8,
   "metadata": {},
   "outputs": [
    {
     "data": {
      "text/html": [
       "<div><div style='display: inline-block; width: 45%; vertical-align: top; margin: 10px'><h3>Links</h3><table border=\"1\" class=\"dataframe\">\n",
       "  <thead>\n",
       "    <tr style=\"text-align: right;\">\n",
       "      <th>post_type</th>\n",
       "      <th>rating</th>\n",
       "      <th>engagement_score</th>\n",
       "    </tr>\n",
       "  </thead>\n",
       "  <tbody>\n",
       "    <tr>\n",
       "      <td>link</td>\n",
       "      <td>mostly false</td>\n",
       "      <td>4609.276316</td>\n",
       "    </tr>\n",
       "    <tr>\n",
       "      <td>link</td>\n",
       "      <td>mixture of true and false</td>\n",
       "      <td>3646.074236</td>\n",
       "    </tr>\n",
       "    <tr>\n",
       "      <td>link</td>\n",
       "      <td>mostly true</td>\n",
       "      <td>1367.398736</td>\n",
       "    </tr>\n",
       "  </tbody>\n",
       "</table></div><div style='display: inline-block; width: 45%; vertical-align: top; margin: 10px'><h3>Photos</h3><table border=\"1\" class=\"dataframe\">\n",
       "  <thead>\n",
       "    <tr style=\"text-align: right;\">\n",
       "      <th>post_type</th>\n",
       "      <th>rating</th>\n",
       "      <th>engagement_score</th>\n",
       "    </tr>\n",
       "  </thead>\n",
       "  <tbody>\n",
       "    <tr>\n",
       "      <td>photo</td>\n",
       "      <td>mostly true</td>\n",
       "      <td>17981.115079</td>\n",
       "    </tr>\n",
       "    <tr>\n",
       "      <td>photo</td>\n",
       "      <td>mixture of true and false</td>\n",
       "      <td>17503.250000</td>\n",
       "    </tr>\n",
       "    <tr>\n",
       "      <td>photo</td>\n",
       "      <td>mostly false</td>\n",
       "      <td>12165.083333</td>\n",
       "    </tr>\n",
       "  </tbody>\n",
       "</table></div></div><div><div style='display: inline-block; width: 45%; vertical-align: top; margin: 10px'><h3>Text</h3><table border=\"1\" class=\"dataframe\">\n",
       "  <thead>\n",
       "    <tr style=\"text-align: right;\">\n",
       "      <th>post_type</th>\n",
       "      <th>rating</th>\n",
       "      <th>engagement_score</th>\n",
       "    </tr>\n",
       "  </thead>\n",
       "  <tbody>\n",
       "    <tr>\n",
       "      <td>text</td>\n",
       "      <td>mostly true</td>\n",
       "      <td>37.666667</td>\n",
       "    </tr>\n",
       "    <tr>\n",
       "      <td>text</td>\n",
       "      <td>mixture of true and false</td>\n",
       "      <td>18.250000</td>\n",
       "    </tr>\n",
       "  </tbody>\n",
       "</table></div><div style='display: inline-block; width: 45%; vertical-align: top; margin: 10px'><h3>Video</h3><table border=\"1\" class=\"dataframe\">\n",
       "  <thead>\n",
       "    <tr style=\"text-align: right;\">\n",
       "      <th>post_type</th>\n",
       "      <th>rating</th>\n",
       "      <th>engagement_score</th>\n",
       "    </tr>\n",
       "  </thead>\n",
       "  <tbody>\n",
       "    <tr>\n",
       "      <td>video</td>\n",
       "      <td>mixture of true and false</td>\n",
       "      <td>84212.388889</td>\n",
       "    </tr>\n",
       "    <tr>\n",
       "      <td>video</td>\n",
       "      <td>mostly true</td>\n",
       "      <td>5603.677752</td>\n",
       "    </tr>\n",
       "  </tbody>\n",
       "</table></div></div>"
      ]
     },
     "metadata": {},
     "output_type": "display_data"
    },
    {
     "data": {
      "application/vnd.dataresource+json": {
       "data": [
        {
         "engagement_score": 84212.3888888889,
         "index": 8,
         "post_type": "video",
         "rating": "mixture of true and false"
        },
        {
         "engagement_score": 17981.1150793651,
         "index": 5,
         "post_type": "photo",
         "rating": "mostly true"
        },
        {
         "engagement_score": 17503.25,
         "index": 3,
         "post_type": "photo",
         "rating": "mixture of true and false"
        },
        {
         "engagement_score": 12165.0833333333,
         "index": 4,
         "post_type": "photo",
         "rating": "mostly false"
        },
        {
         "engagement_score": 5603.6777522936,
         "index": 9,
         "post_type": "video",
         "rating": "mostly true"
        },
        {
         "engagement_score": 4609.2763157895,
         "index": 1,
         "post_type": "link",
         "rating": "mostly false"
        },
        {
         "engagement_score": 3646.0742358079,
         "index": 0,
         "post_type": "link",
         "rating": "mixture of true and false"
        },
        {
         "engagement_score": 1367.3987364621,
         "index": 2,
         "post_type": "link",
         "rating": "mostly true"
        },
        {
         "engagement_score": 37.6666666667,
         "index": 7,
         "post_type": "text",
         "rating": "mostly true"
        },
        {
         "engagement_score": 18.25,
         "index": 6,
         "post_type": "text",
         "rating": "mixture of true and false"
        }
       ],
       "schema": {
        "fields": [
         {
          "name": "index",
          "type": "integer"
         },
         {
          "name": "post_type",
          "type": "string"
         },
         {
          "name": "rating",
          "type": "string"
         },
         {
          "name": "engagement_score",
          "type": "number"
         }
        ],
        "pandas_version": "1.4.0",
        "primaryKey": [
         "index"
        ]
       }
      },
      "text/html": [
       "<div>\n",
       "<style scoped>\n",
       "    .dataframe tbody tr th:only-of-type {\n",
       "        vertical-align: middle;\n",
       "    }\n",
       "\n",
       "    .dataframe tbody tr th {\n",
       "        vertical-align: top;\n",
       "    }\n",
       "\n",
       "    .dataframe thead th {\n",
       "        text-align: right;\n",
       "    }\n",
       "</style>\n",
       "<table border=\"1\" class=\"dataframe\">\n",
       "  <thead>\n",
       "    <tr style=\"text-align: right;\">\n",
       "      <th></th>\n",
       "      <th>post_type</th>\n",
       "      <th>rating</th>\n",
       "      <th>engagement_score</th>\n",
       "    </tr>\n",
       "  </thead>\n",
       "  <tbody>\n",
       "    <tr>\n",
       "      <th>8</th>\n",
       "      <td>video</td>\n",
       "      <td>mixture of true and false</td>\n",
       "      <td>84212.388889</td>\n",
       "    </tr>\n",
       "    <tr>\n",
       "      <th>5</th>\n",
       "      <td>photo</td>\n",
       "      <td>mostly true</td>\n",
       "      <td>17981.115079</td>\n",
       "    </tr>\n",
       "    <tr>\n",
       "      <th>3</th>\n",
       "      <td>photo</td>\n",
       "      <td>mixture of true and false</td>\n",
       "      <td>17503.250000</td>\n",
       "    </tr>\n",
       "    <tr>\n",
       "      <th>4</th>\n",
       "      <td>photo</td>\n",
       "      <td>mostly false</td>\n",
       "      <td>12165.083333</td>\n",
       "    </tr>\n",
       "    <tr>\n",
       "      <th>9</th>\n",
       "      <td>video</td>\n",
       "      <td>mostly true</td>\n",
       "      <td>5603.677752</td>\n",
       "    </tr>\n",
       "    <tr>\n",
       "      <th>1</th>\n",
       "      <td>link</td>\n",
       "      <td>mostly false</td>\n",
       "      <td>4609.276316</td>\n",
       "    </tr>\n",
       "    <tr>\n",
       "      <th>0</th>\n",
       "      <td>link</td>\n",
       "      <td>mixture of true and false</td>\n",
       "      <td>3646.074236</td>\n",
       "    </tr>\n",
       "    <tr>\n",
       "      <th>2</th>\n",
       "      <td>link</td>\n",
       "      <td>mostly true</td>\n",
       "      <td>1367.398736</td>\n",
       "    </tr>\n",
       "    <tr>\n",
       "      <th>7</th>\n",
       "      <td>text</td>\n",
       "      <td>mostly true</td>\n",
       "      <td>37.666667</td>\n",
       "    </tr>\n",
       "    <tr>\n",
       "      <th>6</th>\n",
       "      <td>text</td>\n",
       "      <td>mixture of true and false</td>\n",
       "      <td>18.250000</td>\n",
       "    </tr>\n",
       "  </tbody>\n",
       "</table>\n",
       "</div>"
      ],
      "text/plain": [
       "  post_type                     rating  engagement_score\n",
       "8     video  mixture of true and false      84212.388889\n",
       "5     photo                mostly true      17981.115079\n",
       "3     photo  mixture of true and false      17503.250000\n",
       "4     photo               mostly false      12165.083333\n",
       "9     video                mostly true       5603.677752\n",
       "1      link               mostly false       4609.276316\n",
       "0      link  mixture of true and false       3646.074236\n",
       "2      link                mostly true       1367.398736\n",
       "7      text                mostly true         37.666667\n",
       "6      text  mixture of true and false         18.250000"
      ]
     },
     "metadata": {},
     "output_type": "display_data"
    }
   ],
   "source": [
    "engagement_avgs_links = engagement_avgs_links.sort_values(by='engagement_score', ascending=False)\n",
    "engagement_avgs_photos= engagement_avgs_photos.sort_values(by='engagement_score', ascending=False)\n",
    "engagement_avgs_text = engagement_avgs_text.sort_values(by='engagement_score', ascending=False)\n",
    "engagement_avgs_video = engagement_avgs_video.sort_values(by='engagement_score', ascending=False)\n",
    "\n",
    "# Format each DataFrame with a label\n",
    "df_blocks = [\n",
    "    f\"<div style='display: inline-block; width: 45%; vertical-align: top; margin: 10px'><h3>Links</h3>{engagement_avgs_links.to_html(index=False)}</div>\",\n",
    "    f\"<div style='display: inline-block; width: 45%; vertical-align: top; margin: 10px'><h3>Photos</h3>{engagement_avgs_photos.to_html(index=False)}</div>\",\n",
    "    f\"<div style='display: inline-block; width: 45%; vertical-align: top; margin: 10px'><h3>Text</h3>{engagement_avgs_text.to_html(index=False)}</div>\",\n",
    "    f\"<div style='display: inline-block; width: 45%; vertical-align: top; margin: 10px'><h3>Video</h3>{engagement_avgs_video.to_html(index=False)}</div>\"\n",
    "]\n",
    "\n",
    "# Group into two rows\n",
    "row1 = df_blocks[0] + df_blocks[1]\n",
    "row2 = df_blocks[2] + df_blocks[3]\n",
    "\n",
    "# Display both rows as separate HTML blocks\n",
    "display_html(f\"<div>{row1}</div><div>{row2}</div>\", raw=True)\n",
    "display(engagement_avgs.sort_values(by='engagement_score', ascending=False))\n",
    "\n",
    "# (The higher the rating the number, the more false a post type is.)"
   ]
  },
  {
   "cell_type": "markdown",
   "metadata": {},
   "source": [
    "In graphical format:"
   ]
  },
  {
   "cell_type": "code",
   "execution_count": 9,
   "metadata": {},
   "outputs": [
    {
     "name": "stderr",
     "output_type": "stream",
     "text": [
      "/var/folders/wr/ngy9lj557nl6cpv0nwkv2fkh0000gn/T/ipykernel_34411/2937753229.py:49: UserWarning: set_ticklabels() should only be used with a fixed number of ticks, i.e. after set_ticks() or using a FixedLocator.\n",
      "  ax3.set_xticklabels(['Mostly true', 'Mixture of true and false'])\n"
     ]
    },
    {
     "data": {
      "image/png": "[encoded data removed]",
      "text/plain": [
       "<Figure size 1600x1000 with 3 Axes>"
      ]
     },
     "metadata": {},
     "output_type": "display_data"
    }
   ],
   "source": [
    "# Sorting by factuality:\n",
    "engagement_avgs_links = prepare_df(engagement_avgs_links)\n",
    "engagement_avgs_photos = prepare_df(engagement_avgs_photos)\n",
    "engagement_avgs_video= prepare_df(engagement_avgs_video)\n",
    "\n",
    "# Graphing:\n",
    "plt.figure(figsize=(16, 10))\n",
    "\n",
    "plt.subplot(1, 3, 1)\n",
    "ax1 = sns.barplot(\n",
    "    x='rating_num',\n",
    "    y='engagement_score',\n",
    "    data=engagement_avgs_links,\n",
    ")\n",
    "plt.xticks(\n",
    "    ticks=range(len(rating)),\n",
    "    labels=rating,\n",
    "    rotation=25\n",
    "\n",
    ")\n",
    "plt.ylim(bottom=-100)\n",
    "plt.xlabel('Factuality Score')\n",
    "plt.ylabel('Engagement Score')\n",
    "plt.title('Average Engagement Scores - Link Posts')\n",
    "\n",
    "plt.subplot(1, 3, 2)\n",
    "ax2 = sns.barplot(\n",
    "    x='rating_num',\n",
    "    y='engagement_score',\n",
    "    data=engagement_avgs_photos,\n",
    ")\n",
    "plt.xticks(\n",
    "    ticks=range(len(rating)),\n",
    "    labels=rating,\n",
    "    rotation=25\n",
    "\n",
    ")\n",
    "plt.ylim(bottom=-100)\n",
    "plt.xlabel('Factuality Score')\n",
    "plt.ylabel('Engagement Score')\n",
    "plt.title('Average Engagement Scores - Photo Posts')\n",
    "\n",
    "plt.subplot(1, 3, 3)\n",
    "ax3 = sns.barplot(\n",
    "    x='rating_num',\n",
    "    y='engagement_score',\n",
    "    data=engagement_avgs_video,\n",
    ")\n",
    "ax3.set_xticklabels(['Mostly true', 'Mixture of true and false'])\n",
    "\n",
    "plt.xlabel('Factuality Score')\n",
    "plt.ylabel('Engagement Score')\n",
    "plt.title('Average Engagement Scores - Video Posts')\n",
    "\n",
    "plt.show();"
   ]
  },
  {
   "cell_type": "markdown",
   "metadata": {},
   "source": [
    "Average Engagement Score Summary: Video and link posts increase in engagement as their factuality decreases, however photos follow the opposite trend. It's interesting that links are less trustworthy as photos, and seeing as links are more popular in terms of total engagement, this makes for a unfactual combination that is extremely prevelant. "
   ]
  },
  {
   "cell_type": "markdown",
   "metadata": {},
   "source": [
    "## Aggregated Summaries"
   ]
  },
  {
   "cell_type": "markdown",
   "metadata": {},
   "source": [
    "Now that I've compared how each format of post is broken down by count, engagement totals, and engagement averages with factuality as a control, I want to compare:\n",
    "- Which type of post-format generates the most engagement in total?\n",
    "- Which type of post-format generates the most engagement on average?\n",
    "\n",
    "- Which type of post - ie. what format and what factuality combination, creates the most engagement total?\n",
    "- Which type of post - ie. what format and what factuality combination, creates the most engagement on average?\n",
    "- What type of factuality is having the most total engagement?\n",
    "- What type of factuality is having the most engagement on average?"
   ]
  },
  {
   "cell_type": "code",
   "execution_count": 10,
   "metadata": {},
   "outputs": [],
   "source": [
    "# Creating the appropriate groups:\n",
    "\n",
    "# Engagement totals:\n",
    "summarized_engagement_totals = engagement_totals.groupby('post_type')['engagement_score'].sum().reset_index()\n",
    "\n",
    "# Engagement averages:\n",
    "summarized_engagement_avgs = engagement_avgs.groupby('post_type')['engagement_score'].sum().reset_index()\n",
    "\n",
    "# Aggregating by engagement score on rating and post type:\n",
    "factuality_format_df = (buzzfeed_df.groupby(['rating', 'post_type']).agg(\n",
    "    factuality_total_eng = ('engagement_score', 'sum'),\n",
    "    factuality_eng_avg = ('engagement_score', 'mean')\n",
    ").reset_index())\n",
    "sorted_format_factuality = factuality_format_df.sort_values(by='factuality_total_eng', ascending=False)\n",
    "\n",
    "# Aggregating by engagement score on rating:\n",
    "factuality_df = (buzzfeed_df.groupby('rating').agg(\n",
    "    factuality_total_eng = ('engagement_score', 'sum'),\n",
    "    factuality_eng_avg = ('engagement_score', 'mean')\n",
    ").reset_index())\n",
    "sorted_factuality_df = factuality_df.sort_values(by='factuality_eng_avg', ascending=False)"
   ]
  },
  {
   "cell_type": "code",
   "execution_count": 11,
   "metadata": {},
   "outputs": [
    {
     "data": {
      "application/vnd.dataresource+json": {
       "data": [
        {
         "factuality_eng_avg": 6930.2051020408,
         "factuality_total_eng": 1697900.25,
         "index": 0,
         "rating": "mixture of true and false"
        },
        {
         "factuality_eng_avg": 5263.1442307692,
         "factuality_total_eng": 547367,
         "index": 1,
         "rating": "mostly false"
        },
        {
         "factuality_eng_avg": 2545.459706411,
         "factuality_total_eng": 4248372.25,
         "index": 2,
         "rating": "mostly true"
        }
       ],
       "schema": {
        "fields": [
         {
          "name": "index",
          "type": "integer"
         },
         {
          "name": "rating",
          "type": "string"
         },
         {
          "name": "factuality_total_eng",
          "type": "number"
         },
         {
          "name": "factuality_eng_avg",
          "type": "number"
         }
        ],
        "pandas_version": "1.4.0",
        "primaryKey": [
         "index"
        ]
       }
      },
      "text/html": [
       "<div>\n",
       "<style scoped>\n",
       "    .dataframe tbody tr th:only-of-type {\n",
       "        vertical-align: middle;\n",
       "    }\n",
       "\n",
       "    .dataframe tbody tr th {\n",
       "        vertical-align: top;\n",
       "    }\n",
       "\n",
       "    .dataframe thead th {\n",
       "        text-align: right;\n",
       "    }\n",
       "</style>\n",
       "<table border=\"1\" class=\"dataframe\">\n",
       "  <thead>\n",
       "    <tr style=\"text-align: right;\">\n",
       "      <th></th>\n",
       "      <th>rating</th>\n",
       "      <th>factuality_total_eng</th>\n",
       "      <th>factuality_eng_avg</th>\n",
       "    </tr>\n",
       "  </thead>\n",
       "  <tbody>\n",
       "    <tr>\n",
       "      <th>0</th>\n",
       "      <td>mixture of true and false</td>\n",
       "      <td>1697900.25</td>\n",
       "      <td>6930.205102</td>\n",
       "    </tr>\n",
       "    <tr>\n",
       "      <th>1</th>\n",
       "      <td>mostly false</td>\n",
       "      <td>547367.00</td>\n",
       "      <td>5263.144231</td>\n",
       "    </tr>\n",
       "    <tr>\n",
       "      <th>2</th>\n",
       "      <td>mostly true</td>\n",
       "      <td>4248372.25</td>\n",
       "      <td>2545.459706</td>\n",
       "    </tr>\n",
       "  </tbody>\n",
       "</table>\n",
       "</div>"
      ],
      "text/plain": [
       "                      rating  factuality_total_eng  factuality_eng_avg\n",
       "0  mixture of true and false            1697900.25         6930.205102\n",
       "1               mostly false             547367.00         5263.144231\n",
       "2                mostly true            4248372.25         2545.459706"
      ]
     },
     "metadata": {},
     "output_type": "display_data"
    }
   ],
   "source": [
    "# testing:\n",
    "\n",
    "# display(summarized_engagement_totals.head(3))\n",
    "\n",
    "# display(summarized_engagement_avgs.head(3))\n",
    "\n",
    "# display(factuality_format_df.head(20))\n",
    "\n",
    "display(factuality_df.head(20))\n"
   ]
  },
  {
   "cell_type": "code",
   "execution_count": 12,
   "metadata": {},
   "outputs": [],
   "source": [
    "# Filtering and sorting:\n",
    "\n",
    "# Getting rid of the text rows:\n",
    "summarized_engagement_totals = summarized_engagement_totals[summarized_engagement_totals['post_type'].isin(['link', 'photo', 'video'])]\n",
    "summarized_engagement_avgs = summarized_engagement_avgs[summarized_engagement_avgs['post_type'].isin(['link', 'photo', 'video'])]\n",
    "sorted_format_factuality = sorted_format_factuality[sorted_format_factuality['post_type'].isin(['video', 'link', 'photo'])]\n",
    "\n",
    "# Preparing for the graphs by creating combined columns and sorting by columns:\n",
    "sorted_format_factuality['label'] = sorted_format_factuality['rating'] + ' | ' + sorted_format_factuality['post_type']\n",
    "re_sorted_sorted_format_factuality = sorted_format_factuality.sort_values(by='factuality_eng_avg', ascending=False)\n",
    "factuality_df = factuality_df.sort_values(by='factuality_eng_avg', ascending=False)\n",
    "factuality_df = prepare_df(factuality_df)"
   ]
  },
  {
   "cell_type": "code",
   "execution_count": 13,
   "metadata": {},
   "outputs": [
    {
     "name": "stdout",
     "output_type": "stream",
     "text": [
      "Engagement Totals:\n"
     ]
    },
    {
     "data": {
      "application/vnd.dataresource+json": {
       "data": [
        {
         "engagement_score": 3166679.5,
         "index": 0,
         "post_type": "link"
        },
        {
         "engagement_score": 1347315.5,
         "index": 1,
         "post_type": "photo"
        },
        {
         "engagement_score": 1979513.25,
         "index": 3,
         "post_type": "video"
        }
       ],
       "schema": {
        "fields": [
         {
          "name": "index",
          "type": "integer"
         },
         {
          "name": "post_type",
          "type": "string"
         },
         {
          "name": "engagement_score",
          "type": "number"
         }
        ],
        "pandas_version": "1.4.0",
        "primaryKey": [
         "index"
        ]
       }
      },
      "text/html": [
       "<div>\n",
       "<style scoped>\n",
       "    .dataframe tbody tr th:only-of-type {\n",
       "        vertical-align: middle;\n",
       "    }\n",
       "\n",
       "    .dataframe tbody tr th {\n",
       "        vertical-align: top;\n",
       "    }\n",
       "\n",
       "    .dataframe thead th {\n",
       "        text-align: right;\n",
       "    }\n",
       "</style>\n",
       "<table border=\"1\" class=\"dataframe\">\n",
       "  <thead>\n",
       "    <tr style=\"text-align: right;\">\n",
       "      <th></th>\n",
       "      <th>post_type</th>\n",
       "      <th>engagement_score</th>\n",
       "    </tr>\n",
       "  </thead>\n",
       "  <tbody>\n",
       "    <tr>\n",
       "      <th>0</th>\n",
       "      <td>link</td>\n",
       "      <td>3166679.50</td>\n",
       "    </tr>\n",
       "    <tr>\n",
       "      <th>1</th>\n",
       "      <td>photo</td>\n",
       "      <td>1347315.50</td>\n",
       "    </tr>\n",
       "    <tr>\n",
       "      <th>3</th>\n",
       "      <td>video</td>\n",
       "      <td>1979513.25</td>\n",
       "    </tr>\n",
       "  </tbody>\n",
       "</table>\n",
       "</div>"
      ],
      "text/plain": [
       "  post_type  engagement_score\n",
       "0      link        3166679.50\n",
       "1     photo        1347315.50\n",
       "3     video        1979513.25"
      ]
     },
     "metadata": {},
     "output_type": "display_data"
    },
    {
     "name": "stdout",
     "output_type": "stream",
     "text": [
      "Engagement Averages:\n"
     ]
    },
    {
     "data": {
      "application/vnd.dataresource+json": {
       "data": [
        {
         "engagement_score": 9622.7492880594,
         "index": 0,
         "post_type": "link"
        },
        {
         "engagement_score": 47649.4484126984,
         "index": 1,
         "post_type": "photo"
        },
        {
         "engagement_score": 89816.0666411825,
         "index": 3,
         "post_type": "video"
        }
       ],
       "schema": {
        "fields": [
         {
          "name": "index",
          "type": "integer"
         },
         {
          "name": "post_type",
          "type": "string"
         },
         {
          "name": "engagement_score",
          "type": "number"
         }
        ],
        "pandas_version": "1.4.0",
        "primaryKey": [
         "index"
        ]
       }
      },
      "text/html": [
       "<div>\n",
       "<style scoped>\n",
       "    .dataframe tbody tr th:only-of-type {\n",
       "        vertical-align: middle;\n",
       "    }\n",
       "\n",
       "    .dataframe tbody tr th {\n",
       "        vertical-align: top;\n",
       "    }\n",
       "\n",
       "    .dataframe thead th {\n",
       "        text-align: right;\n",
       "    }\n",
       "</style>\n",
       "<table border=\"1\" class=\"dataframe\">\n",
       "  <thead>\n",
       "    <tr style=\"text-align: right;\">\n",
       "      <th></th>\n",
       "      <th>post_type</th>\n",
       "      <th>engagement_score</th>\n",
       "    </tr>\n",
       "  </thead>\n",
       "  <tbody>\n",
       "    <tr>\n",
       "      <th>0</th>\n",
       "      <td>link</td>\n",
       "      <td>9622.749288</td>\n",
       "    </tr>\n",
       "    <tr>\n",
       "      <th>1</th>\n",
       "      <td>photo</td>\n",
       "      <td>47649.448413</td>\n",
       "    </tr>\n",
       "    <tr>\n",
       "      <th>3</th>\n",
       "      <td>video</td>\n",
       "      <td>89816.066641</td>\n",
       "    </tr>\n",
       "  </tbody>\n",
       "</table>\n",
       "</div>"
      ],
      "text/plain": [
       "  post_type  engagement_score\n",
       "0      link       9622.749288\n",
       "1     photo      47649.448413\n",
       "3     video      89816.066641"
      ]
     },
     "metadata": {},
     "output_type": "display_data"
    },
    {
     "data": {
      "image/png": "[encoded data removed]",
      "text/plain": [
       "<Figure size 1400x600 with 2 Axes>"
      ]
     },
     "metadata": {},
     "output_type": "display_data"
    }
   ],
   "source": [
    "# Format totals and averages: questions 1 and 2\n",
    "\n",
    "plt.figure(figsize=(14, 6))\n",
    "\n",
    "plt.subplot(1, 2, 1)\n",
    "ax1 = sns.barplot(\n",
    "    x='post_type',\n",
    "    y='engagement_score',\n",
    "    data=summarized_engagement_totals\n",
    ")\n",
    "plt.xlabel('Post Type')\n",
    "plt.ylabel('Engagement Score')\n",
    "plt.title('Engagement Totals')\n",
    "\n",
    "plt.subplot(1, 2, 2)\n",
    "ax2 = sns.barplot(\n",
    "    x='post_type',\n",
    "    y='engagement_score',\n",
    "    data=summarized_engagement_avgs\n",
    ")\n",
    "plt.xlabel('Post Type')\n",
    "plt.ylabel('Engagement Score')\n",
    "plt.title('Engagement Averages')\n",
    "\n",
    "print('Engagement Totals:')\n",
    "display(summarized_engagement_totals.head(9))\n",
    "print('Engagement Averages:')\n",
    "display(summarized_engagement_avgs.head(3))\n",
    "\n",
    "plt.show();"
   ]
  },
  {
   "cell_type": "code",
   "execution_count": 14,
   "metadata": {},
   "outputs": [
    {
     "name": "stdout",
     "output_type": "stream",
     "text": [
      "Grouped by post type and factuality combination:\n"
     ]
    },
    {
     "data": {
      "application/vnd.dataresource+json": {
       "data": [
        {
         "factuality_eng_avg": 1367.3987364621,
         "factuality_total_eng": 1893847.25,
         "index": 6,
         "label": "mostly true | link",
         "post_type": "link",
         "rating": "mostly true"
        },
        {
         "factuality_eng_avg": 5603.6777522936,
         "factuality_total_eng": 1221601.75,
         "index": 9,
         "label": "mostly true | video",
         "post_type": "video",
         "rating": "mostly true"
        },
        {
         "factuality_eng_avg": 17981.1150793651,
         "factuality_total_eng": 1132810.25,
         "index": 7,
         "label": "mostly true | photo",
         "post_type": "photo",
         "rating": "mostly true"
        },
        {
         "factuality_eng_avg": 3646.0742358079,
         "factuality_total_eng": 834951,
         "index": 0,
         "label": "mixture of true and false | link",
         "post_type": "link",
         "rating": "mixture of true and false"
        },
        {
         "factuality_eng_avg": 84212.3888888889,
         "factuality_total_eng": 757911.5,
         "index": 3,
         "label": "mixture of true and false | video",
         "post_type": "video",
         "rating": "mixture of true and false"
        },
        {
         "factuality_eng_avg": 4609.2763157895,
         "factuality_total_eng": 437881.25,
         "index": 4,
         "label": "mostly false | link",
         "post_type": "link",
         "rating": "mostly false"
        },
        {
         "factuality_eng_avg": 12165.0833333333,
         "factuality_total_eng": 109485.75,
         "index": 5,
         "label": "mostly false | photo",
         "post_type": "photo",
         "rating": "mostly false"
        },
        {
         "factuality_eng_avg": 17503.25,
         "factuality_total_eng": 105019.5,
         "index": 1,
         "label": "mixture of true and false | photo",
         "post_type": "photo",
         "rating": "mixture of true and false"
        }
       ],
       "schema": {
        "fields": [
         {
          "name": "index",
          "type": "integer"
         },
         {
          "name": "rating",
          "type": "string"
         },
         {
          "name": "post_type",
          "type": "string"
         },
         {
          "name": "factuality_total_eng",
          "type": "number"
         },
         {
          "name": "factuality_eng_avg",
          "type": "number"
         },
         {
          "name": "label",
          "type": "string"
         }
        ],
        "pandas_version": "1.4.0",
        "primaryKey": [
         "index"
        ]
       }
      },
      "text/html": [
       "<div>\n",
       "<style scoped>\n",
       "    .dataframe tbody tr th:only-of-type {\n",
       "        vertical-align: middle;\n",
       "    }\n",
       "\n",
       "    .dataframe tbody tr th {\n",
       "        vertical-align: top;\n",
       "    }\n",
       "\n",
       "    .dataframe thead th {\n",
       "        text-align: right;\n",
       "    }\n",
       "</style>\n",
       "<table border=\"1\" class=\"dataframe\">\n",
       "  <thead>\n",
       "    <tr style=\"text-align: right;\">\n",
       "      <th></th>\n",
       "      <th>rating</th>\n",
       "      <th>post_type</th>\n",
       "      <th>factuality_total_eng</th>\n",
       "      <th>factuality_eng_avg</th>\n",
       "      <th>label</th>\n",
       "    </tr>\n",
       "  </thead>\n",
       "  <tbody>\n",
       "    <tr>\n",
       "      <th>6</th>\n",
       "      <td>mostly true</td>\n",
       "      <td>link</td>\n",
       "      <td>1893847.25</td>\n",
       "      <td>1367.398736</td>\n",
       "      <td>mostly true | link</td>\n",
       "    </tr>\n",
       "    <tr>\n",
       "      <th>9</th>\n",
       "      <td>mostly true</td>\n",
       "      <td>video</td>\n",
       "      <td>1221601.75</td>\n",
       "      <td>5603.677752</td>\n",
       "      <td>mostly true | video</td>\n",
       "    </tr>\n",
       "    <tr>\n",
       "      <th>7</th>\n",
       "      <td>mostly true</td>\n",
       "      <td>photo</td>\n",
       "      <td>1132810.25</td>\n",
       "      <td>17981.115079</td>\n",
       "      <td>mostly true | photo</td>\n",
       "    </tr>\n",
       "    <tr>\n",
       "      <th>0</th>\n",
       "      <td>mixture of true and false</td>\n",
       "      <td>link</td>\n",
       "      <td>834951.00</td>\n",
       "      <td>3646.074236</td>\n",
       "      <td>mixture of true and false | link</td>\n",
       "    </tr>\n",
       "    <tr>\n",
       "      <th>3</th>\n",
       "      <td>mixture of true and false</td>\n",
       "      <td>video</td>\n",
       "      <td>757911.50</td>\n",
       "      <td>84212.388889</td>\n",
       "      <td>mixture of true and false | video</td>\n",
       "    </tr>\n",
       "    <tr>\n",
       "      <th>4</th>\n",
       "      <td>mostly false</td>\n",
       "      <td>link</td>\n",
       "      <td>437881.25</td>\n",
       "      <td>4609.276316</td>\n",
       "      <td>mostly false | link</td>\n",
       "    </tr>\n",
       "    <tr>\n",
       "      <th>5</th>\n",
       "      <td>mostly false</td>\n",
       "      <td>photo</td>\n",
       "      <td>109485.75</td>\n",
       "      <td>12165.083333</td>\n",
       "      <td>mostly false | photo</td>\n",
       "    </tr>\n",
       "    <tr>\n",
       "      <th>1</th>\n",
       "      <td>mixture of true and false</td>\n",
       "      <td>photo</td>\n",
       "      <td>105019.50</td>\n",
       "      <td>17503.250000</td>\n",
       "      <td>mixture of true and false | photo</td>\n",
       "    </tr>\n",
       "  </tbody>\n",
       "</table>\n",
       "</div>"
      ],
      "text/plain": [
       "                      rating post_type  factuality_total_eng  \\\n",
       "6                mostly true      link            1893847.25   \n",
       "9                mostly true     video            1221601.75   \n",
       "7                mostly true     photo            1132810.25   \n",
       "0  mixture of true and false      link             834951.00   \n",
       "3  mixture of true and false     video             757911.50   \n",
       "4               mostly false      link             437881.25   \n",
       "5               mostly false     photo             109485.75   \n",
       "1  mixture of true and false     photo             105019.50   \n",
       "\n",
       "   factuality_eng_avg                              label  \n",
       "6         1367.398736                 mostly true | link  \n",
       "9         5603.677752                mostly true | video  \n",
       "7        17981.115079                mostly true | photo  \n",
       "0         3646.074236   mixture of true and false | link  \n",
       "3        84212.388889  mixture of true and false | video  \n",
       "4         4609.276316                mostly false | link  \n",
       "5        12165.083333               mostly false | photo  \n",
       "1        17503.250000  mixture of true and false | photo  "
      ]
     },
     "metadata": {},
     "output_type": "display_data"
    },
    {
     "data": {
      "image/png": "[encoded data removed]",
      "text/plain": [
       "<Figure size 1600x1500 with 4 Axes>"
      ]
     },
     "metadata": {},
     "output_type": "display_data"
    }
   ],
   "source": [
    "# Total and average engagement scores, for type of factuality, and for post type/type of factuality combination\n",
    "plt.figure(figsize=(16, 15))\n",
    "\n",
    "plt.subplot(2, 2, 1)\n",
    "ax1 = sns.barplot(\n",
    "    x='label',\n",
    "    y='factuality_total_eng',\n",
    "    data=sorted_format_factuality\n",
    ")\n",
    "plt.xticks(\n",
    "    rotation=20,\n",
    "    ha='right',\n",
    "    fontsize=10\n",
    ")\n",
    "plt.xlabel('Post Type')\n",
    "plt.ylabel('Engagement Total')\n",
    "plt.title('Engagement Totals: Post Type by Factuality')\n",
    "\n",
    "plt.subplot(2, 2, 2)\n",
    "ax2 = sns.barplot(\n",
    "    x='label',\n",
    "    y= 'factuality_eng_avg',\n",
    "    data= re_sorted_sorted_format_factuality\n",
    ")\n",
    "plt.xticks(\n",
    "    rotation=20,\n",
    "    ha='right',\n",
    "    fontsize=10\n",
    ")\n",
    "plt.xlabel('Post Type')\n",
    "plt.ylabel('Engagement Averages')\n",
    "plt.title('Engagement Avgs: Post Type by Factuality')\n",
    "\n",
    "\n",
    "plt.subplot(2, 2, 3)\n",
    "ax3 = sns.barplot(\n",
    "    x='rating',\n",
    "    y='factuality_total_eng',\n",
    "    data=factuality_df\n",
    ")\n",
    "\n",
    "plt.subplot(2, 2, 4)\n",
    "ax4 = sns.barplot(\n",
    "    x='rating',\n",
    "    y='factuality_eng_avg',\n",
    "    data=factuality_df\n",
    ")\n",
    "\n",
    "print('Grouped by post type and factuality combination:')\n",
    "display(sorted_format_factuality.head(9))\n",
    "\n",
    "plt.show();"
   ]
  },
  {
   "cell_type": "markdown",
   "metadata": {},
   "source": [
    "## Final Summary\n",
    "Most of this file was focused on organizing the data by format type, i.e. what type of post it was (link, photo, video, or text), in order to see what style of posts were generating the most misinformation, and which were the most factual. What type of factuality was most pervasive was also studied independently, and then these factors were combined to find aggregaed summaries. I'll start with posts by format type:\n",
    "- Posts with links are the most common, followed by videos then photos, and plain text posts were very rare.\n",
    "- Posts with links gained the most engagement in total, followed by videos, then photos.\n",
    "- Posts with videos gain the most engagement per post, followed by photos, then links.\n",
    "\n",
    "Of these different types of posts, videos were the most factual, and posts with links and photos are equally factual.\n",
    "\n",
    "In terms of factuality by itself:\n",
    "- Mostly true posts generate the least amount of engagement on average, and a mixture of true and false gain the most engagement. \n",
    "- Mostly true posts are by far the most common, and mostly false are the least common.\n",
    "\n",
    "When these two factor are combined, factuality and post type tend to create predictable outcomes:\n",
    "- Mostly true links are most common,.\n",
    "- Mixture of true and false videos perform the best.\n",
    "However, there are some slightly suprising outcomes from the combinations:\n",
    "- Mostly false photos have a higher total engagement, suggesting this is an especially common post-combination.\n",
    "- The average engagement of; mixture of true and false with videos, is much grater than the sum of their own average engagement scores, making this a particularily powerful post type.\n"
   ]
  }
 ],
 "metadata": {
  "kernelspec": {
   "display_name": ".venv",
   "language": "python",
   "name": "python3"
  },
  "language_info": {
   "codemirror_mode": {
    "name": "ipython",
    "version": 3
   },
   "file_extension": ".py",
   "mimetype": "text/x-python",
   "name": "python",
   "nbconvert_exporter": "python",
   "pygments_lexer": "ipython3",
   "version": "3.10.2"
  }
 },
 "nbformat": 4,
 "nbformat_minor": 2
}
