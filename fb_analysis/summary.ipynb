{
 "cells": [
  {
   "cell_type": "markdown",
   "id": "7dd0238c",
   "metadata": {
    "notebookRunGroups": {
     "groupValue": "1"
    }
   },
   "source": [
    "# Summaries"
   ]
  },
  {
   "cell_type": "markdown",
   "id": "cb49bb1e",
   "metadata": {},
   "source": [
    "## Cleaning:"
   ]
  },
  {
   "cell_type": "markdown",
   "id": "3626959e",
   "metadata": {},
   "source": [
    "This project analyzed a single dataset that came relatively organized and needed little cleaning. My only actions in cleaning were:\n",
    "- Renaming columns\n",
    "- Filling missing values with 0s\n",
    "- Creating an engagement_score column, that weighted reactions worth 0.25, comments as 0.5, and shares as 1.0\n"
   ]
  },
  {
   "cell_type": "markdown",
   "id": "f653e4b5",
   "metadata": {},
   "source": [
    "The Data Frame started like this:"
   ]
  },
  {
   "cell_type": "code",
   "execution_count": 1,
   "id": "ac0154c2",
   "metadata": {},
   "outputs": [
    {
     "data": {
      "application/vnd.dataresource+json": {
       "data": [
        {
         "Category": "mainstream",
         "Date Published": "2016-09-19",
         "Debate": null,
         "Page": "ABC News Politics",
         "Post Type": "video",
         "Post URL": "https://www.facebook.com/ABCNewsPolitics/posts/1035057923259100",
         "Rating": "no factual content",
         "account_id": 184096565021911,
         "comment_count": 15,
         "index": 0,
         "post_id": 1035057923259100,
         "reaction_count": 146,
         "share_count": null
        },
        {
         "Category": "mainstream",
         "Date Published": "2016-09-19",
         "Debate": null,
         "Page": "ABC News Politics",
         "Post Type": "link",
         "Post URL": "https://www.facebook.com/ABCNewsPolitics/posts/1035269309904628",
         "Rating": "mostly true",
         "account_id": 184096565021911,
         "comment_count": 34,
         "index": 1,
         "post_id": 1035269309904628,
         "reaction_count": 33,
         "share_count": 1
        },
        {
         "Category": "mainstream",
         "Date Published": "2016-09-19",
         "Debate": null,
         "Page": "ABC News Politics",
         "Post Type": "link",
         "Post URL": "https://www.facebook.com/ABCNewsPolitics/posts/1035305953234297",
         "Rating": "mostly true",
         "account_id": 184096565021911,
         "comment_count": 27,
         "index": 2,
         "post_id": 1035305953234297,
         "reaction_count": 63,
         "share_count": 34
        },
        {
         "Category": "mainstream",
         "Date Published": "2016-09-19",
         "Debate": null,
         "Page": "ABC News Politics",
         "Post Type": "link",
         "Post URL": "https://www.facebook.com/ABCNewsPolitics/posts/1035322636565962",
         "Rating": "mostly true",
         "account_id": 184096565021911,
         "comment_count": 86,
         "index": 3,
         "post_id": 1035322636565962,
         "reaction_count": 170,
         "share_count": 35
        },
        {
         "Category": "mainstream",
         "Date Published": "2016-09-19",
         "Debate": null,
         "Page": "ABC News Politics",
         "Post Type": "video",
         "Post URL": "https://www.facebook.com/ABCNewsPolitics/posts/1035352946562931",
         "Rating": "mostly true",
         "account_id": 184096565021911,
         "comment_count": 2815,
         "index": 4,
         "post_id": 1035352946562931,
         "reaction_count": 3188,
         "share_count": 568
        }
       ],
       "schema": {
        "fields": [
         {
          "name": "index",
          "type": "integer"
         },
         {
          "name": "account_id",
          "type": "integer"
         },
         {
          "name": "post_id",
          "type": "integer"
         },
         {
          "name": "Category",
          "type": "string"
         },
         {
          "name": "Page",
          "type": "string"
         },
         {
          "name": "Post URL",
          "type": "string"
         },
         {
          "name": "Date Published",
          "type": "string"
         },
         {
          "name": "Post Type",
          "type": "string"
         },
         {
          "name": "Rating",
          "type": "string"
         },
         {
          "name": "Debate",
          "type": "string"
         },
         {
          "name": "share_count",
          "type": "number"
         },
         {
          "name": "reaction_count",
          "type": "number"
         },
         {
          "name": "comment_count",
          "type": "number"
         }
        ],
        "pandas_version": "1.4.0",
        "primaryKey": [
         "index"
        ]
       }
      },
      "text/html": [
       "<div>\n",
       "<style scoped>\n",
       "    .dataframe tbody tr th:only-of-type {\n",
       "        vertical-align: middle;\n",
       "    }\n",
       "\n",
       "    .dataframe tbody tr th {\n",
       "        vertical-align: top;\n",
       "    }\n",
       "\n",
       "    .dataframe thead th {\n",
       "        text-align: right;\n",
       "    }\n",
       "</style>\n",
       "<table border=\"1\" class=\"dataframe\">\n",
       "  <thead>\n",
       "    <tr style=\"text-align: right;\">\n",
       "      <th></th>\n",
       "      <th>account_id</th>\n",
       "      <th>post_id</th>\n",
       "      <th>Category</th>\n",
       "      <th>Page</th>\n",
       "      <th>Post URL</th>\n",
       "      <th>Date Published</th>\n",
       "      <th>Post Type</th>\n",
       "      <th>Rating</th>\n",
       "      <th>Debate</th>\n",
       "      <th>share_count</th>\n",
       "      <th>reaction_count</th>\n",
       "      <th>comment_count</th>\n",
       "    </tr>\n",
       "  </thead>\n",
       "  <tbody>\n",
       "    <tr>\n",
       "      <th>0</th>\n",
       "      <td>184096565021911</td>\n",
       "      <td>1035057923259100</td>\n",
       "      <td>mainstream</td>\n",
       "      <td>ABC News Politics</td>\n",
       "      <td>https://www.facebook.com/ABCNewsPolitics/posts...</td>\n",
       "      <td>2016-09-19</td>\n",
       "      <td>video</td>\n",
       "      <td>no factual content</td>\n",
       "      <td>NaN</td>\n",
       "      <td>NaN</td>\n",
       "      <td>146.0</td>\n",
       "      <td>15.0</td>\n",
       "    </tr>\n",
       "    <tr>\n",
       "      <th>1</th>\n",
       "      <td>184096565021911</td>\n",
       "      <td>1035269309904628</td>\n",
       "      <td>mainstream</td>\n",
       "      <td>ABC News Politics</td>\n",
       "      <td>https://www.facebook.com/ABCNewsPolitics/posts...</td>\n",
       "      <td>2016-09-19</td>\n",
       "      <td>link</td>\n",
       "      <td>mostly true</td>\n",
       "      <td>NaN</td>\n",
       "      <td>1.0</td>\n",
       "      <td>33.0</td>\n",
       "      <td>34.0</td>\n",
       "    </tr>\n",
       "    <tr>\n",
       "      <th>2</th>\n",
       "      <td>184096565021911</td>\n",
       "      <td>1035305953234297</td>\n",
       "      <td>mainstream</td>\n",
       "      <td>ABC News Politics</td>\n",
       "      <td>https://www.facebook.com/ABCNewsPolitics/posts...</td>\n",
       "      <td>2016-09-19</td>\n",
       "      <td>link</td>\n",
       "      <td>mostly true</td>\n",
       "      <td>NaN</td>\n",
       "      <td>34.0</td>\n",
       "      <td>63.0</td>\n",
       "      <td>27.0</td>\n",
       "    </tr>\n",
       "    <tr>\n",
       "      <th>3</th>\n",
       "      <td>184096565021911</td>\n",
       "      <td>1035322636565962</td>\n",
       "      <td>mainstream</td>\n",
       "      <td>ABC News Politics</td>\n",
       "      <td>https://www.facebook.com/ABCNewsPolitics/posts...</td>\n",
       "      <td>2016-09-19</td>\n",
       "      <td>link</td>\n",
       "      <td>mostly true</td>\n",
       "      <td>NaN</td>\n",
       "      <td>35.0</td>\n",
       "      <td>170.0</td>\n",
       "      <td>86.0</td>\n",
       "    </tr>\n",
       "    <tr>\n",
       "      <th>4</th>\n",
       "      <td>184096565021911</td>\n",
       "      <td>1035352946562931</td>\n",
       "      <td>mainstream</td>\n",
       "      <td>ABC News Politics</td>\n",
       "      <td>https://www.facebook.com/ABCNewsPolitics/posts...</td>\n",
       "      <td>2016-09-19</td>\n",
       "      <td>video</td>\n",
       "      <td>mostly true</td>\n",
       "      <td>NaN</td>\n",
       "      <td>568.0</td>\n",
       "      <td>3188.0</td>\n",
       "      <td>2815.0</td>\n",
       "    </tr>\n",
       "  </tbody>\n",
       "</table>\n",
       "</div>"
      ],
      "text/plain": [
       "        account_id           post_id    Category               Page  \\\n",
       "0  184096565021911  1035057923259100  mainstream  ABC News Politics   \n",
       "1  184096565021911  1035269309904628  mainstream  ABC News Politics   \n",
       "2  184096565021911  1035305953234297  mainstream  ABC News Politics   \n",
       "3  184096565021911  1035322636565962  mainstream  ABC News Politics   \n",
       "4  184096565021911  1035352946562931  mainstream  ABC News Politics   \n",
       "\n",
       "                                            Post URL Date Published Post Type  \\\n",
       "0  https://www.facebook.com/ABCNewsPolitics/posts...     2016-09-19     video   \n",
       "1  https://www.facebook.com/ABCNewsPolitics/posts...     2016-09-19      link   \n",
       "2  https://www.facebook.com/ABCNewsPolitics/posts...     2016-09-19      link   \n",
       "3  https://www.facebook.com/ABCNewsPolitics/posts...     2016-09-19      link   \n",
       "4  https://www.facebook.com/ABCNewsPolitics/posts...     2016-09-19     video   \n",
       "\n",
       "               Rating Debate  share_count  reaction_count  comment_count  \n",
       "0  no factual content    NaN          NaN           146.0           15.0  \n",
       "1         mostly true    NaN          1.0            33.0           34.0  \n",
       "2         mostly true    NaN         34.0            63.0           27.0  \n",
       "3         mostly true    NaN         35.0           170.0           86.0  \n",
       "4         mostly true    NaN        568.0          3188.0         2815.0  "
      ]
     },
     "metadata": {},
     "output_type": "display_data"
    },
    {
     "name": "stdout",
     "output_type": "stream",
     "text": [
      "<class 'pandas.core.frame.DataFrame'>\n",
      "RangeIndex: 2282 entries, 0 to 2281\n",
      "Data columns (total 12 columns):\n",
      " #   Column          Non-Null Count  Dtype  \n",
      "---  ------          --------------  -----  \n",
      " 0   account_id      2282 non-null   int64  \n",
      " 1   post_id         2282 non-null   int64  \n",
      " 2   Category        2282 non-null   object \n",
      " 3   Page            2282 non-null   object \n",
      " 4   Post URL        2282 non-null   object \n",
      " 5   Date Published  2282 non-null   object \n",
      " 6   Post Type       2282 non-null   object \n",
      " 7   Rating          2282 non-null   object \n",
      " 8   Debate          298 non-null    object \n",
      " 9   share_count     2212 non-null   float64\n",
      " 10  reaction_count  2280 non-null   float64\n",
      " 11  comment_count   2280 non-null   float64\n",
      "dtypes: float64(3), int64(2), object(7)\n",
      "memory usage: 214.1+ KB\n",
      "None\n",
      "account_id           0\n",
      "post_id              0\n",
      "Category             0\n",
      "Page                 0\n",
      "Post URL             0\n",
      "Date Published       0\n",
      "Post Type            0\n",
      "Rating               0\n",
      "Debate            1984\n",
      "share_count         70\n",
      "reaction_count       2\n",
      "comment_count        2\n",
      "dtype: int64\n"
     ]
    }
   ],
   "source": [
    "import pandas as pd\n",
    "original_fb_df = pd.read_csv('csv_collection/facebook-fact-check.csv')\n",
    "display(original_fb_df.head())\n",
    "print(original_fb_df.info())\n",
    "print(original_fb_df.isnull().sum())\n"
   ]
  },
  {
   "cell_type": "markdown",
   "id": "ea435c29",
   "metadata": {},
   "source": [
    "After cleaning it, it looked like this:"
   ]
  },
  {
   "cell_type": "code",
   "execution_count": 3,
   "id": "98046b31",
   "metadata": {},
   "outputs": [
    {
     "data": {
      "application/vnd.dataresource+json": {
       "data": [
        {
         "account_id": 184096565021911,
         "category": "mainstream",
         "comment_count": 15,
         "date_published": "2016-09-19",
         "debate": null,
         "engagement_score": 44,
         "index": 0,
         "page": "ABC News Politics",
         "post_id": 1035057923259100,
         "post_type": "video",
         "post_url": "https://www.facebook.com/ABCNewsPolitics/posts/1035057923259100",
         "rating": "no factual content",
         "reaction_count": 146,
         "share_count": 0
        },
        {
         "account_id": 184096565021911,
         "category": "mainstream",
         "comment_count": 34,
         "date_published": "2016-09-19",
         "debate": null,
         "engagement_score": 26.25,
         "index": 1,
         "page": "ABC News Politics",
         "post_id": 1035269309904628,
         "post_type": "link",
         "post_url": "https://www.facebook.com/ABCNewsPolitics/posts/1035269309904628",
         "rating": "mostly true",
         "reaction_count": 33,
         "share_count": 1
        },
        {
         "account_id": 184096565021911,
         "category": "mainstream",
         "comment_count": 27,
         "date_published": "2016-09-19",
         "debate": null,
         "engagement_score": 63.25,
         "index": 2,
         "page": "ABC News Politics",
         "post_id": 1035305953234297,
         "post_type": "link",
         "post_url": "https://www.facebook.com/ABCNewsPolitics/posts/1035305953234297",
         "rating": "mostly true",
         "reaction_count": 63,
         "share_count": 34
        }
       ],
       "schema": {
        "fields": [
         {
          "name": "index",
          "type": "integer"
         },
         {
          "name": "account_id",
          "type": "integer"
         },
         {
          "name": "post_id",
          "type": "integer"
         },
         {
          "name": "category",
          "type": "string"
         },
         {
          "name": "page",
          "type": "string"
         },
         {
          "name": "post_url",
          "type": "string"
         },
         {
          "name": "date_published",
          "type": "string"
         },
         {
          "name": "post_type",
          "type": "string"
         },
         {
          "name": "rating",
          "type": "string"
         },
         {
          "name": "debate",
          "type": "string"
         },
         {
          "name": "share_count",
          "type": "number"
         },
         {
          "name": "reaction_count",
          "type": "number"
         },
         {
          "name": "comment_count",
          "type": "number"
         },
         {
          "name": "engagement_score",
          "type": "number"
         }
        ],
        "pandas_version": "1.4.0",
        "primaryKey": [
         "index"
        ]
       }
      },
      "text/html": [
       "<div>\n",
       "<style scoped>\n",
       "    .dataframe tbody tr th:only-of-type {\n",
       "        vertical-align: middle;\n",
       "    }\n",
       "\n",
       "    .dataframe tbody tr th {\n",
       "        vertical-align: top;\n",
       "    }\n",
       "\n",
       "    .dataframe thead th {\n",
       "        text-align: right;\n",
       "    }\n",
       "</style>\n",
       "<table border=\"1\" class=\"dataframe\">\n",
       "  <thead>\n",
       "    <tr style=\"text-align: right;\">\n",
       "      <th></th>\n",
       "      <th>account_id</th>\n",
       "      <th>post_id</th>\n",
       "      <th>category</th>\n",
       "      <th>page</th>\n",
       "      <th>post_url</th>\n",
       "      <th>date_published</th>\n",
       "      <th>post_type</th>\n",
       "      <th>rating</th>\n",
       "      <th>debate</th>\n",
       "      <th>share_count</th>\n",
       "      <th>reaction_count</th>\n",
       "      <th>comment_count</th>\n",
       "      <th>engagement_score</th>\n",
       "    </tr>\n",
       "  </thead>\n",
       "  <tbody>\n",
       "    <tr>\n",
       "      <th>0</th>\n",
       "      <td>184096565021911</td>\n",
       "      <td>1035057923259100</td>\n",
       "      <td>mainstream</td>\n",
       "      <td>ABC News Politics</td>\n",
       "      <td>https://www.facebook.com/ABCNewsPolitics/posts...</td>\n",
       "      <td>2016-09-19</td>\n",
       "      <td>video</td>\n",
       "      <td>no factual content</td>\n",
       "      <td>NaN</td>\n",
       "      <td>0.0</td>\n",
       "      <td>146.0</td>\n",
       "      <td>15.0</td>\n",
       "      <td>44.00</td>\n",
       "    </tr>\n",
       "    <tr>\n",
       "      <th>1</th>\n",
       "      <td>184096565021911</td>\n",
       "      <td>1035269309904628</td>\n",
       "      <td>mainstream</td>\n",
       "      <td>ABC News Politics</td>\n",
       "      <td>https://www.facebook.com/ABCNewsPolitics/posts...</td>\n",
       "      <td>2016-09-19</td>\n",
       "      <td>link</td>\n",
       "      <td>mostly true</td>\n",
       "      <td>NaN</td>\n",
       "      <td>1.0</td>\n",
       "      <td>33.0</td>\n",
       "      <td>34.0</td>\n",
       "      <td>26.25</td>\n",
       "    </tr>\n",
       "    <tr>\n",
       "      <th>2</th>\n",
       "      <td>184096565021911</td>\n",
       "      <td>1035305953234297</td>\n",
       "      <td>mainstream</td>\n",
       "      <td>ABC News Politics</td>\n",
       "      <td>https://www.facebook.com/ABCNewsPolitics/posts...</td>\n",
       "      <td>2016-09-19</td>\n",
       "      <td>link</td>\n",
       "      <td>mostly true</td>\n",
       "      <td>NaN</td>\n",
       "      <td>34.0</td>\n",
       "      <td>63.0</td>\n",
       "      <td>27.0</td>\n",
       "      <td>63.25</td>\n",
       "    </tr>\n",
       "  </tbody>\n",
       "</table>\n",
       "</div>"
      ],
      "text/plain": [
       "        account_id           post_id    category               page  \\\n",
       "0  184096565021911  1035057923259100  mainstream  ABC News Politics   \n",
       "1  184096565021911  1035269309904628  mainstream  ABC News Politics   \n",
       "2  184096565021911  1035305953234297  mainstream  ABC News Politics   \n",
       "\n",
       "                                            post_url date_published post_type  \\\n",
       "0  https://www.facebook.com/ABCNewsPolitics/posts...     2016-09-19     video   \n",
       "1  https://www.facebook.com/ABCNewsPolitics/posts...     2016-09-19      link   \n",
       "2  https://www.facebook.com/ABCNewsPolitics/posts...     2016-09-19      link   \n",
       "\n",
       "               rating debate  share_count  reaction_count  comment_count  \\\n",
       "0  no factual content    NaN          0.0           146.0           15.0   \n",
       "1         mostly true    NaN          1.0            33.0           34.0   \n",
       "2         mostly true    NaN         34.0            63.0           27.0   \n",
       "\n",
       "   engagement_score  \n",
       "0             44.00  \n",
       "1             26.25  \n",
       "2             63.25  "
      ]
     },
     "metadata": {},
     "output_type": "display_data"
    },
    {
     "name": "stdout",
     "output_type": "stream",
     "text": [
      "<class 'pandas.core.frame.DataFrame'>\n",
      "RangeIndex: 2282 entries, 0 to 2281\n",
      "Data columns (total 13 columns):\n",
      " #   Column            Non-Null Count  Dtype  \n",
      "---  ------            --------------  -----  \n",
      " 0   account_id        2282 non-null   int64  \n",
      " 1   post_id           2282 non-null   int64  \n",
      " 2   category          2282 non-null   object \n",
      " 3   page              2282 non-null   object \n",
      " 4   post_url          2282 non-null   object \n",
      " 5   date_published    2282 non-null   object \n",
      " 6   post_type         2282 non-null   object \n",
      " 7   rating            2282 non-null   object \n",
      " 8   debate            298 non-null    object \n",
      " 9   share_count       2282 non-null   float64\n",
      " 10  reaction_count    2282 non-null   float64\n",
      " 11  comment_count     2282 non-null   float64\n",
      " 12  engagement_score  2282 non-null   float64\n",
      "dtypes: float64(4), int64(2), object(7)\n",
      "memory usage: 231.9+ KB\n",
      "None\n",
      "account_id             0\n",
      "post_id                0\n",
      "category               0\n",
      "page                   0\n",
      "post_url               0\n",
      "date_published         0\n",
      "post_type              0\n",
      "rating                 0\n",
      "debate              1984\n",
      "share_count            0\n",
      "reaction_count         0\n",
      "comment_count          0\n",
      "engagement_score       0\n",
      "dtype: int64\n"
     ]
    }
   ],
   "source": [
    "cleaned_df = pd.read_csv('csv_collection/cleaned_buzzfeed_data.csv')\n",
    "\n",
    "display(cleaned_df.head(3))\n",
    "print(cleaned_df.info())\n",
    "print(cleaned_df.isnull().sum())"
   ]
  },
  {
   "cell_type": "markdown",
   "id": "45258743",
   "metadata": {},
   "source": [
    "## Explorations:"
   ]
  },
  {
   "cell_type": "markdown",
   "id": "90530ac6",
   "metadata": {},
   "source": [
    "### Format Comparison:"
   ]
  },
  {
   "cell_type": "markdown",
   "id": "523b8ef9",
   "metadata": {},
   "source": [
    "This looks at:\n",
    "- What formats of posts get the most engagement?\n",
    "- What formats of posts are the most factual?"
   ]
  },
  {
   "cell_type": "markdown",
   "id": "3900f0a9",
   "metadata": {},
   "source": [
    "Total engagement scores:\n"
   ]
  },
  {
   "cell_type": "markdown",
   "id": "d7cb26c3",
   "metadata": {},
   "source": [
    "<a href=\"summary_images/total_engagement.png\" target=\"_blank\">\n",
    "  <img src=\"summary_images/total_engagement.png\" alt=\"General Trend Graph\" width=\"800\" height=\"auto\">\n",
    "</a>\n"
   ]
  },
  {
   "cell_type": "markdown",
   "id": "7c0fba6c",
   "metadata": {},
   "source": [
    "<a href=\"summary_images/total_counts.png\" target=\"_blank\">\n",
    "  <img src=\"summary_images/total_counts.png\" alt=\"General Trend Graph\" width=\"800\" height=\"auto\">\n",
    "</a>"
   ]
  },
  {
   "cell_type": "markdown",
   "id": "7e860fb7",
   "metadata": {},
   "source": [
    "This shows us that the most common posts are links, videos, then photos, and that total engagement also follows this pattern. But let's look at average engagement now:"
   ]
  },
  {
   "cell_type": "markdown",
   "id": "eaa8ed04",
   "metadata": {},
   "source": [
    "<a href=\"summary_images/average_engagement.png\" target=\"_blank\">\n",
    "  <img src=\"summary_images/average_engagement.png\" alt=\"General Trend Graph\" width=\"800\" height=\"auto\">\n",
    "</a>"
   ]
  },
  {
   "cell_type": "markdown",
   "id": "7cf9e0c0",
   "metadata": {},
   "source": [
    "Average and totals side by side:"
   ]
  },
  {
   "cell_type": "markdown",
   "id": "cf1d5036",
   "metadata": {},
   "source": [
    "<a href=\"summary_images/total_avg_combined.png\" target=\"_blank\">\n",
    "  <img src=\"summary_images/total_avg_combined.png\" alt=\"General Trend Graph\" width=\"800\" height=\"auto\">\n",
    "</a>"
   ]
  },
  {
   "cell_type": "markdown",
   "id": "4c06a65b",
   "metadata": {},
   "source": [
    "The above graphs shows us that linked posts increase in engagement as their factuality decreases, and photo posts decrease in engagement as their factuality decreases, and mostly true videos do not fair well at all. "
   ]
  },
  {
   "cell_type": "markdown",
   "id": "5a6217ac",
   "metadata": {},
   "source": [
    "I did some additional aggregations to see what combinations of factuality and post typed scored by in terms of total and average engagements:"
   ]
  },
  {
   "cell_type": "markdown",
   "id": "9e16a231",
   "metadata": {},
   "source": [
    "<a href=\"summary_images/aggregations.png\" target=\"_blank\">\n",
    "  <img src=\"summary_images/aggregations.png\" alt=\"General Trend Graph\" width=\"800\" height=\"auto\">\n",
    "</a>"
   ]
  },
  {
   "cell_type": "markdown",
   "id": "84508bff",
   "metadata": {},
   "source": [
    "Post-format summary:\n",
    "- Posts with links are the most common, followed by videos then photos, and plain text posts were very rare.\n",
    "- Posts with links gained the most engagement in total, followed by videos, then photos.\n",
    "- Posts with videos gain the most engagement per post, followed by photos, then links.\n",
    "\n",
    "Of these different types of posts, videos were the most factual, and posts with links and photos are equally factual.\n",
    "\n",
    "In terms of factuality by itself:\n",
    "- Mostly true posts generate the least amount of engagement on average, and a mixture of true and false gain the most engagement. \n",
    "- Mostly true posts are by far the most common, and mostly false are the least common.\n",
    "\n",
    "When these two factor are combined, factuality and post type tend to create predictable outcomes:\n",
    "- Mostly true links are most common,.\n",
    "- Mixture of true and false videos perform the best.\n",
    "However, there are some slightly suprising outcomes from the combinations:\n",
    "- Mostly false photos have a higher total engagement, suggesting this is an especially common post-combination.\n",
    "- The average engagement of; mixture of true and false with videos, is much grater than the sum of their own average engagement scores, making this a particularily powerful post type."
   ]
  },
  {
   "cell_type": "markdown",
   "id": "8ed9048e",
   "metadata": {},
   "source": [
    "### Duplicating the buzzfeed findings:"
   ]
  },
  {
   "cell_type": "code",
   "execution_count": 5,
   "id": "8125597f",
   "metadata": {},
   "outputs": [
    {
     "name": "stdout",
     "output_type": "stream",
     "text": [
      "19.108% of posts from left sources are mostly false or a mixture of true and false.\n",
      "37.688% of posts from right sources are mostly false or a mixture of true and false.\n",
      "This duplicates the results from the BuzzFeed analysis.\n"
     ]
    }
   ],
   "source": [
    "import pandas as pd\n",
    "import seaborn as sns\n",
    "import matplotlib.pyplot as plt\n",
    "from IPython.core.display import HTML\n",
    "import warnings\n",
    "warnings.simplefilter(action='ignore', category=pd.errors.SettingWithCopyWarning)\n",
    "from scipy.stats import spearmanr, kendalltau\n",
    "\n",
    "buzzfeed_df = pd.read_csv('csv_collection/cleaned_buzzfeed_data.csv')\n",
    "\n",
    "# Left calculation:\n",
    "left_misleading = buzzfeed_df[(buzzfeed_df['category'] == 'left') & buzzfeed_df['rating'].isin(['mostly false', 'mixture of true and false' ])]\n",
    "left_posts = buzzfeed_df[buzzfeed_df['category'] == 'left']\n",
    "left_percent_misleading = (len(left_misleading) * 100) / len(left_posts)\n",
    "\n",
    "# Right calculation:\n",
    "right_misleading = buzzfeed_df[(buzzfeed_df['category'] == 'right') & buzzfeed_df['rating'].isin(['mostly false', 'mixture of true and false' ])]\n",
    "right_posts = buzzfeed_df[buzzfeed_df['category'] == 'right']\n",
    "right_percent_misleading = (len(right_misleading) * 100) / len(right_posts)\n",
    "\n",
    "print(f\"{left_percent_misleading:.3f}% of posts from left sources are mostly false or a mixture of true and false.\")\n",
    "print(f\"{right_percent_misleading:.3f}% of posts from right sources are mostly false or a mixture of true and false.\")\n",
    "print('This duplicates the results from the BuzzFeed analysis.')"
   ]
  },
  {
   "cell_type": "markdown",
   "id": "27eea6bc",
   "metadata": {},
   "source": [
    "### Disproving the null hypothesis:"
   ]
  },
  {
   "cell_type": "markdown",
   "id": "863f773d",
   "metadata": {},
   "source": [
    "Grouping the data by factuality and affiliation, and then graphing that data, gave me this graph, which strongly indicated that I could disprove my null hypothesis:"
   ]
  },
  {
   "cell_type": "markdown",
   "id": "d0b508a7",
   "metadata": {},
   "source": [
    "<a href=\"summary_images/null_hypothesis.png\" target=\"_blank\">\n",
    "  <img src=\"summary_images/null_hypothesis.png\" alt=\"General Trend Graph\" width=\"800\" height=\"auto\">\n",
    "</a>"
   ]
  },
  {
   "cell_type": "markdown",
   "id": "227a08b2",
   "metadata": {},
   "source": [
    "I then ran Spearman's Rho and Kendals Tau tests to test for correlations, and found these results:\n",
    "- LEFT — Spearman: ρ = -0.500, p = 0.667 | Kendall: τ = -0.333, p = 1.000\n",
    "- RIGHT — Spearman: ρ = 1.000, p = 0.000 | Kendall: τ = 1.000, p = 0.333"
   ]
  },
  {
   "cell_type": "markdown",
   "id": "57b69c50",
   "metadata": {},
   "source": [
    "The above calculations show that for the Left publications: Spearman's Rho and Kendals Tau show negative correlations, meaning that as factuality decreases, average engagement tends to decrease as well. However these p values are higher than 0.05, so they are not statiscally significant, they just highlight a possible correlation.\n",
    "\n",
    "For the Right publications: The Rho and Tau results show perfect 1.0 correlations, with a very low p value from Spearman, but not Kendall. Overall, it is fair to say that there is a statistically significant difference between the types of media, Left and Right. Right facing publications tend to gain more engagement on average, the less factual they are. \n",
    "\n",
    "As shown the Spearman and Kendal statistical test, and the clear trends of the above graph, there is a significant difference in the correlation between factuality and post-engagement between Right and Left leaning publications. The null hypothesis has been disproven, and the alternative hypothesis has been proven. "
   ]
  },
  {
   "cell_type": "markdown",
   "id": "4b07041a",
   "metadata": {},
   "source": [
    "## Conclusion\n",
    "\n",
    "Exploring and testing this data delivered some expected results and meaningful insights into how Facebook posts generate engagement. Some types of posts fair better the more factual they are, and some do the reverse. Mostly true posts for the most part incrue the most engagement, but that's mostly because they are the most common – it's the mixture of true and false posts that fair the best on average. Videos that are equally true and false gain by far the most engagemen on average, which shows their ability to become viral and spread disinformation. Combining this knowledge with what I found about the null hypothesis, is that it is this type of post that is the most impactful on average to right leaning consumers of Facebook posts. \n",
    "\n",
    "Being able to duplicate the Buzzfeed findings further drives this point home, as not only do right leaning posts generate more engagement as their factuality decreases, but the **percent** of right leaning posts that are less factual is also higher than left-leaning posts. This compounds the disinformation effect, making it seem that Facebook spread right-leaning disinformation at a much higher rate than left-leaning disinformation. It would be interesting to find more current data on Facebook facuality, to see how it has evolved over time in its spread of misinformation."
   ]
  }
 ],
 "metadata": {
  "kernelspec": {
   "display_name": ".venv",
   "language": "python",
   "name": "python3"
  },
  "language_info": {
   "codemirror_mode": {
    "name": "ipython",
    "version": 3
   },
   "file_extension": ".py",
   "mimetype": "text/x-python",
   "name": "python",
   "nbconvert_exporter": "python",
   "pygments_lexer": "ipython3",
   "version": "3.10.2"
  }
 },
 "nbformat": 4,
 "nbformat_minor": 5
}
