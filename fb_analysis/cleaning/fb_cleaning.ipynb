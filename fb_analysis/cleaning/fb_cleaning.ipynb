{
 "cells": [
  {
   "cell_type": "markdown",
   "metadata": {},
   "source": [
    "# Cleaning\n",
    "This file will clean the BuzzFeed dataset, as well as get a feel for the dataset."
   ]
  },
  {
   "cell_type": "code",
   "execution_count": 1,
   "metadata": {},
   "outputs": [
    {
     "name": "stdout",
     "output_type": "stream",
     "text": [
      "<class 'pandas.core.frame.DataFrame'>\n",
      "RangeIndex: 2282 entries, 0 to 2281\n",
      "Data columns (total 12 columns):\n",
      " #   Column          Non-Null Count  Dtype  \n",
      "---  ------          --------------  -----  \n",
      " 0   account_id      2282 non-null   int64  \n",
      " 1   post_id         2282 non-null   int64  \n",
      " 2   Category        2282 non-null   object \n",
      " 3   Page            2282 non-null   object \n",
      " 4   Post URL        2282 non-null   object \n",
      " 5   Date Published  2282 non-null   object \n",
      " 6   Post Type       2282 non-null   object \n",
      " 7   Rating          2282 non-null   object \n",
      " 8   Debate          298 non-null    object \n",
      " 9   share_count     2212 non-null   float64\n",
      " 10  reaction_count  2280 non-null   float64\n",
      " 11  comment_count   2280 non-null   float64\n",
      "dtypes: float64(3), int64(2), object(7)\n",
      "memory usage: 214.1+ KB\n",
      "None\n"
     ]
    },
    {
     "data": {
      "application/vnd.dataresource+json": {
       "data": [
        {
         "Category": "mainstream",
         "Date Published": "2016-09-19",
         "Debate": null,
         "Page": "ABC News Politics",
         "Post Type": "video",
         "Post URL": "https://www.facebook.com/ABCNewsPolitics/posts/1035057923259100",
         "Rating": "no factual content",
         "account_id": 184096565021911,
         "comment_count": 15,
         "index": 0,
         "post_id": 1035057923259100,
         "reaction_count": 146,
         "share_count": null
        },
        {
         "Category": "mainstream",
         "Date Published": "2016-09-19",
         "Debate": null,
         "Page": "ABC News Politics",
         "Post Type": "link",
         "Post URL": "https://www.facebook.com/ABCNewsPolitics/posts/1035269309904628",
         "Rating": "mostly true",
         "account_id": 184096565021911,
         "comment_count": 34,
         "index": 1,
         "post_id": 1035269309904628,
         "reaction_count": 33,
         "share_count": 1
        },
        {
         "Category": "mainstream",
         "Date Published": "2016-09-19",
         "Debate": null,
         "Page": "ABC News Politics",
         "Post Type": "link",
         "Post URL": "https://www.facebook.com/ABCNewsPolitics/posts/1035305953234297",
         "Rating": "mostly true",
         "account_id": 184096565021911,
         "comment_count": 27,
         "index": 2,
         "post_id": 1035305953234297,
         "reaction_count": 63,
         "share_count": 34
        }
       ],
       "schema": {
        "fields": [
         {
          "name": "index",
          "type": "integer"
         },
         {
          "name": "account_id",
          "type": "integer"
         },
         {
          "name": "post_id",
          "type": "integer"
         },
         {
          "name": "Category",
          "type": "string"
         },
         {
          "name": "Page",
          "type": "string"
         },
         {
          "name": "Post URL",
          "type": "string"
         },
         {
          "name": "Date Published",
          "type": "string"
         },
         {
          "name": "Post Type",
          "type": "string"
         },
         {
          "name": "Rating",
          "type": "string"
         },
         {
          "name": "Debate",
          "type": "string"
         },
         {
          "name": "share_count",
          "type": "number"
         },
         {
          "name": "reaction_count",
          "type": "number"
         },
         {
          "name": "comment_count",
          "type": "number"
         }
        ],
        "pandas_version": "1.4.0",
        "primaryKey": [
         "index"
        ]
       }
      },
      "text/html": [
       "<div>\n",
       "<style scoped>\n",
       "    .dataframe tbody tr th:only-of-type {\n",
       "        vertical-align: middle;\n",
       "    }\n",
       "\n",
       "    .dataframe tbody tr th {\n",
       "        vertical-align: top;\n",
       "    }\n",
       "\n",
       "    .dataframe thead th {\n",
       "        text-align: right;\n",
       "    }\n",
       "</style>\n",
       "<table border=\"1\" class=\"dataframe\">\n",
       "  <thead>\n",
       "    <tr style=\"text-align: right;\">\n",
       "      <th></th>\n",
       "      <th>account_id</th>\n",
       "      <th>post_id</th>\n",
       "      <th>Category</th>\n",
       "      <th>Page</th>\n",
       "      <th>Post URL</th>\n",
       "      <th>Date Published</th>\n",
       "      <th>Post Type</th>\n",
       "      <th>Rating</th>\n",
       "      <th>Debate</th>\n",
       "      <th>share_count</th>\n",
       "      <th>reaction_count</th>\n",
       "      <th>comment_count</th>\n",
       "    </tr>\n",
       "  </thead>\n",
       "  <tbody>\n",
       "    <tr>\n",
       "      <th>0</th>\n",
       "      <td>184096565021911</td>\n",
       "      <td>1035057923259100</td>\n",
       "      <td>mainstream</td>\n",
       "      <td>ABC News Politics</td>\n",
       "      <td>https://www.facebook.com/ABCNewsPolitics/posts...</td>\n",
       "      <td>2016-09-19</td>\n",
       "      <td>video</td>\n",
       "      <td>no factual content</td>\n",
       "      <td>NaN</td>\n",
       "      <td>NaN</td>\n",
       "      <td>146.0</td>\n",
       "      <td>15.0</td>\n",
       "    </tr>\n",
       "    <tr>\n",
       "      <th>1</th>\n",
       "      <td>184096565021911</td>\n",
       "      <td>1035269309904628</td>\n",
       "      <td>mainstream</td>\n",
       "      <td>ABC News Politics</td>\n",
       "      <td>https://www.facebook.com/ABCNewsPolitics/posts...</td>\n",
       "      <td>2016-09-19</td>\n",
       "      <td>link</td>\n",
       "      <td>mostly true</td>\n",
       "      <td>NaN</td>\n",
       "      <td>1.0</td>\n",
       "      <td>33.0</td>\n",
       "      <td>34.0</td>\n",
       "    </tr>\n",
       "    <tr>\n",
       "      <th>2</th>\n",
       "      <td>184096565021911</td>\n",
       "      <td>1035305953234297</td>\n",
       "      <td>mainstream</td>\n",
       "      <td>ABC News Politics</td>\n",
       "      <td>https://www.facebook.com/ABCNewsPolitics/posts...</td>\n",
       "      <td>2016-09-19</td>\n",
       "      <td>link</td>\n",
       "      <td>mostly true</td>\n",
       "      <td>NaN</td>\n",
       "      <td>34.0</td>\n",
       "      <td>63.0</td>\n",
       "      <td>27.0</td>\n",
       "    </tr>\n",
       "  </tbody>\n",
       "</table>\n",
       "</div>"
      ],
      "text/plain": [
       "        account_id           post_id    Category               Page  \\\n",
       "0  184096565021911  1035057923259100  mainstream  ABC News Politics   \n",
       "1  184096565021911  1035269309904628  mainstream  ABC News Politics   \n",
       "2  184096565021911  1035305953234297  mainstream  ABC News Politics   \n",
       "\n",
       "                                            Post URL Date Published Post Type  \\\n",
       "0  https://www.facebook.com/ABCNewsPolitics/posts...     2016-09-19     video   \n",
       "1  https://www.facebook.com/ABCNewsPolitics/posts...     2016-09-19      link   \n",
       "2  https://www.facebook.com/ABCNewsPolitics/posts...     2016-09-19      link   \n",
       "\n",
       "               Rating Debate  share_count  reaction_count  comment_count  \n",
       "0  no factual content    NaN          NaN           146.0           15.0  \n",
       "1         mostly true    NaN          1.0            33.0           34.0  \n",
       "2         mostly true    NaN         34.0            63.0           27.0  "
      ]
     },
     "metadata": {},
     "output_type": "display_data"
    }
   ],
   "source": [
    "import pandas as pd\n",
    "\n",
    "original_fb_df = pd.read_csv('../csv_collection/facebook-fact-check.csv')\n",
    "\n",
    "print(original_fb_df.info())\n",
    "display(original_fb_df.head(3))"
   ]
  },
  {
   "cell_type": "markdown",
   "metadata": {},
   "source": [
    "I will start by changing the columns to snake_case."
   ]
  },
  {
   "cell_type": "code",
   "execution_count": 2,
   "metadata": {},
   "outputs": [
    {
     "data": {
      "application/vnd.dataresource+json": {
       "data": [
        {
         "account_id": 184096565021911,
         "category": "mainstream",
         "comment_count": 15,
         "date_published": "2016-09-19",
         "debate": null,
         "index": 0,
         "page": "ABC News Politics",
         "post_id": 1035057923259100,
         "post_type": "video",
         "post_url": "https://www.facebook.com/ABCNewsPolitics/posts/1035057923259100",
         "rating": "no factual content",
         "reaction_count": 146,
         "share_count": null
        }
       ],
       "schema": {
        "fields": [
         {
          "name": "index",
          "type": "integer"
         },
         {
          "name": "account_id",
          "type": "integer"
         },
         {
          "name": "post_id",
          "type": "integer"
         },
         {
          "name": "category",
          "type": "string"
         },
         {
          "name": "page",
          "type": "string"
         },
         {
          "name": "post_url",
          "type": "string"
         },
         {
          "name": "date_published",
          "type": "string"
         },
         {
          "name": "post_type",
          "type": "string"
         },
         {
          "name": "rating",
          "type": "string"
         },
         {
          "name": "debate",
          "type": "string"
         },
         {
          "name": "share_count",
          "type": "number"
         },
         {
          "name": "reaction_count",
          "type": "number"
         },
         {
          "name": "comment_count",
          "type": "number"
         }
        ],
        "pandas_version": "1.4.0",
        "primaryKey": [
         "index"
        ]
       }
      },
      "text/html": [
       "<div>\n",
       "<style scoped>\n",
       "    .dataframe tbody tr th:only-of-type {\n",
       "        vertical-align: middle;\n",
       "    }\n",
       "\n",
       "    .dataframe tbody tr th {\n",
       "        vertical-align: top;\n",
       "    }\n",
       "\n",
       "    .dataframe thead th {\n",
       "        text-align: right;\n",
       "    }\n",
       "</style>\n",
       "<table border=\"1\" class=\"dataframe\">\n",
       "  <thead>\n",
       "    <tr style=\"text-align: right;\">\n",
       "      <th></th>\n",
       "      <th>account_id</th>\n",
       "      <th>post_id</th>\n",
       "      <th>category</th>\n",
       "      <th>page</th>\n",
       "      <th>post_url</th>\n",
       "      <th>date_published</th>\n",
       "      <th>post_type</th>\n",
       "      <th>rating</th>\n",
       "      <th>debate</th>\n",
       "      <th>share_count</th>\n",
       "      <th>reaction_count</th>\n",
       "      <th>comment_count</th>\n",
       "    </tr>\n",
       "  </thead>\n",
       "  <tbody>\n",
       "    <tr>\n",
       "      <th>0</th>\n",
       "      <td>184096565021911</td>\n",
       "      <td>1035057923259100</td>\n",
       "      <td>mainstream</td>\n",
       "      <td>ABC News Politics</td>\n",
       "      <td>https://www.facebook.com/ABCNewsPolitics/posts...</td>\n",
       "      <td>2016-09-19</td>\n",
       "      <td>video</td>\n",
       "      <td>no factual content</td>\n",
       "      <td>NaN</td>\n",
       "      <td>NaN</td>\n",
       "      <td>146.0</td>\n",
       "      <td>15.0</td>\n",
       "    </tr>\n",
       "  </tbody>\n",
       "</table>\n",
       "</div>"
      ],
      "text/plain": [
       "        account_id           post_id    category               page  \\\n",
       "0  184096565021911  1035057923259100  mainstream  ABC News Politics   \n",
       "\n",
       "                                            post_url date_published post_type  \\\n",
       "0  https://www.facebook.com/ABCNewsPolitics/posts...     2016-09-19     video   \n",
       "\n",
       "               rating debate  share_count  reaction_count  comment_count  \n",
       "0  no factual content    NaN          NaN           146.0           15.0  "
      ]
     },
     "metadata": {},
     "output_type": "display_data"
    }
   ],
   "source": [
    "fb_df = original_fb_df.copy().rename(columns={\n",
    "    'Category': 'category',\n",
    "    'Page': 'page',\n",
    "    'Post URL': 'post_url',\n",
    "    'Date Published': 'date_published',\n",
    "    'Post Type': 'post_type',\n",
    "    'Rating': 'rating',\n",
    "    'Debate': 'debate',\n",
    "})\n",
    "display(fb_df.head(1))"
   ]
  },
  {
   "cell_type": "markdown",
   "metadata": {},
   "source": [
    "I need an aggregated engagement scores column, in order to quantify engagmeent. "
   ]
  },
  {
   "cell_type": "code",
   "execution_count": 3,
   "metadata": {},
   "outputs": [
    {
     "data": {
      "application/vnd.dataresource+json": {
       "data": [
        {
         "account_id": 184096565021911,
         "category": "mainstream",
         "comment_count": 15,
         "date_published": "2016-09-19",
         "debate": null,
         "engagement_score": 44,
         "index": 0,
         "page": "ABC News Politics",
         "post_id": 1035057923259100,
         "post_type": "video",
         "post_url": "https://www.facebook.com/ABCNewsPolitics/posts/1035057923259100",
         "rating": "no factual content",
         "reaction_count": 146,
         "share_count": 0
        },
        {
         "account_id": 184096565021911,
         "category": "mainstream",
         "comment_count": 34,
         "date_published": "2016-09-19",
         "debate": null,
         "engagement_score": 26.25,
         "index": 1,
         "page": "ABC News Politics",
         "post_id": 1035269309904628,
         "post_type": "link",
         "post_url": "https://www.facebook.com/ABCNewsPolitics/posts/1035269309904628",
         "rating": "mostly true",
         "reaction_count": 33,
         "share_count": 1
        },
        {
         "account_id": 184096565021911,
         "category": "mainstream",
         "comment_count": 27,
         "date_published": "2016-09-19",
         "debate": null,
         "engagement_score": 63.25,
         "index": 2,
         "page": "ABC News Politics",
         "post_id": 1035305953234297,
         "post_type": "link",
         "post_url": "https://www.facebook.com/ABCNewsPolitics/posts/1035305953234297",
         "rating": "mostly true",
         "reaction_count": 63,
         "share_count": 34
        }
       ],
       "schema": {
        "fields": [
         {
          "name": "index",
          "type": "integer"
         },
         {
          "name": "account_id",
          "type": "integer"
         },
         {
          "name": "post_id",
          "type": "integer"
         },
         {
          "name": "category",
          "type": "string"
         },
         {
          "name": "page",
          "type": "string"
         },
         {
          "name": "post_url",
          "type": "string"
         },
         {
          "name": "date_published",
          "type": "string"
         },
         {
          "name": "post_type",
          "type": "string"
         },
         {
          "name": "rating",
          "type": "string"
         },
         {
          "name": "debate",
          "type": "string"
         },
         {
          "name": "share_count",
          "type": "number"
         },
         {
          "name": "reaction_count",
          "type": "number"
         },
         {
          "name": "comment_count",
          "type": "number"
         },
         {
          "name": "engagement_score",
          "type": "number"
         }
        ],
        "pandas_version": "1.4.0",
        "primaryKey": [
         "index"
        ]
       }
      },
      "text/html": [
       "<div>\n",
       "<style scoped>\n",
       "    .dataframe tbody tr th:only-of-type {\n",
       "        vertical-align: middle;\n",
       "    }\n",
       "\n",
       "    .dataframe tbody tr th {\n",
       "        vertical-align: top;\n",
       "    }\n",
       "\n",
       "    .dataframe thead th {\n",
       "        text-align: right;\n",
       "    }\n",
       "</style>\n",
       "<table border=\"1\" class=\"dataframe\">\n",
       "  <thead>\n",
       "    <tr style=\"text-align: right;\">\n",
       "      <th></th>\n",
       "      <th>account_id</th>\n",
       "      <th>post_id</th>\n",
       "      <th>category</th>\n",
       "      <th>page</th>\n",
       "      <th>post_url</th>\n",
       "      <th>date_published</th>\n",
       "      <th>post_type</th>\n",
       "      <th>rating</th>\n",
       "      <th>debate</th>\n",
       "      <th>share_count</th>\n",
       "      <th>reaction_count</th>\n",
       "      <th>comment_count</th>\n",
       "      <th>engagement_score</th>\n",
       "    </tr>\n",
       "  </thead>\n",
       "  <tbody>\n",
       "    <tr>\n",
       "      <th>0</th>\n",
       "      <td>184096565021911</td>\n",
       "      <td>1035057923259100</td>\n",
       "      <td>mainstream</td>\n",
       "      <td>ABC News Politics</td>\n",
       "      <td>https://www.facebook.com/ABCNewsPolitics/posts...</td>\n",
       "      <td>2016-09-19</td>\n",
       "      <td>video</td>\n",
       "      <td>no factual content</td>\n",
       "      <td>NaN</td>\n",
       "      <td>0.0</td>\n",
       "      <td>146.0</td>\n",
       "      <td>15.0</td>\n",
       "      <td>44.00</td>\n",
       "    </tr>\n",
       "    <tr>\n",
       "      <th>1</th>\n",
       "      <td>184096565021911</td>\n",
       "      <td>1035269309904628</td>\n",
       "      <td>mainstream</td>\n",
       "      <td>ABC News Politics</td>\n",
       "      <td>https://www.facebook.com/ABCNewsPolitics/posts...</td>\n",
       "      <td>2016-09-19</td>\n",
       "      <td>link</td>\n",
       "      <td>mostly true</td>\n",
       "      <td>NaN</td>\n",
       "      <td>1.0</td>\n",
       "      <td>33.0</td>\n",
       "      <td>34.0</td>\n",
       "      <td>26.25</td>\n",
       "    </tr>\n",
       "    <tr>\n",
       "      <th>2</th>\n",
       "      <td>184096565021911</td>\n",
       "      <td>1035305953234297</td>\n",
       "      <td>mainstream</td>\n",
       "      <td>ABC News Politics</td>\n",
       "      <td>https://www.facebook.com/ABCNewsPolitics/posts...</td>\n",
       "      <td>2016-09-19</td>\n",
       "      <td>link</td>\n",
       "      <td>mostly true</td>\n",
       "      <td>NaN</td>\n",
       "      <td>34.0</td>\n",
       "      <td>63.0</td>\n",
       "      <td>27.0</td>\n",
       "      <td>63.25</td>\n",
       "    </tr>\n",
       "  </tbody>\n",
       "</table>\n",
       "</div>"
      ],
      "text/plain": [
       "        account_id           post_id    category               page  \\\n",
       "0  184096565021911  1035057923259100  mainstream  ABC News Politics   \n",
       "1  184096565021911  1035269309904628  mainstream  ABC News Politics   \n",
       "2  184096565021911  1035305953234297  mainstream  ABC News Politics   \n",
       "\n",
       "                                            post_url date_published post_type  \\\n",
       "0  https://www.facebook.com/ABCNewsPolitics/posts...     2016-09-19     video   \n",
       "1  https://www.facebook.com/ABCNewsPolitics/posts...     2016-09-19      link   \n",
       "2  https://www.facebook.com/ABCNewsPolitics/posts...     2016-09-19      link   \n",
       "\n",
       "               rating debate  share_count  reaction_count  comment_count  \\\n",
       "0  no factual content    NaN          0.0           146.0           15.0   \n",
       "1         mostly true    NaN          1.0            33.0           34.0   \n",
       "2         mostly true    NaN         34.0            63.0           27.0   \n",
       "\n",
       "   engagement_score  \n",
       "0             44.00  \n",
       "1             26.25  \n",
       "2             63.25  "
      ]
     },
     "metadata": {},
     "output_type": "display_data"
    }
   ],
   "source": [
    "# Start by filling nans with 0s:\n",
    "fb_df[['share_count', 'comment_count', 'reaction_count']] = fb_df[['share_count', 'comment_count', 'reaction_count']].fillna(0)\n",
    "\n",
    "fb_df['engagement_score'] = ((fb_df['share_count'] * 1.0) + (fb_df['comment_count'] * 0.5) + (fb_df['reaction_count'] * 0.25))\n",
    "\n",
    "display(fb_df.head(3))"
   ]
  },
  {
   "cell_type": "code",
   "execution_count": 4,
   "metadata": {},
   "outputs": [],
   "source": [
    "fb_df.to_csv('../csv_collection/cleaned_buzzfeed_data.csv', index=False)"
   ]
  }
 ],
 "metadata": {
  "kernelspec": {
   "display_name": ".venv",
   "language": "python",
   "name": "python3"
  },
  "language_info": {
   "codemirror_mode": {
    "name": "ipython",
    "version": 3
   },
   "file_extension": ".py",
   "mimetype": "text/x-python",
   "name": "python",
   "nbconvert_exporter": "python",
   "pygments_lexer": "ipython3",
   "version": "3.10.2"
  }
 },
 "nbformat": 4,
 "nbformat_minor": 2
}
