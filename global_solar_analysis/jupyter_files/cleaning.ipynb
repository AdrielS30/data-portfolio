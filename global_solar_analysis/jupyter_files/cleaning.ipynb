{
 "cells": [
  {
   "cell_type": "markdown",
   "metadata": {},
   "source": [
    "# Cleaning using pandas and Seaborn\n",
    "\n",
    "Here I will: \n",
    " \n",
    "- Load the dataset into Pandas DataFrames   \n",
    "- Perform visualizations to get a feel for the data  \n",
    "- Clean the data to fill in missing values   \n",
    "- Create new rows and columns as to perform better insights into the data  \n",
    "- Export the new csvs for more future exploration  \n",
    "\n",
    "\n",
    "\n"
   ]
  },
  {
   "cell_type": "markdown",
   "metadata": {},
   "source": [
    "\n",
    "I'll start by importing all necessary libraries at the top of the project.\n",
    "Then I'll use pandas to read the csv as a DataFrame.\n",
    "\n",
    "I want my SQLite database (solar.db) to have a copy of the original csv data as a table, so my first step will be to inspect the DataFrame in order to know how to write the schema for it's table. "
   ]
  },
  {
   "cell_type": "code",
   "execution_count": 1,
   "metadata": {},
   "outputs": [
    {
     "data": {
      "application/vnd.dataresource+json": {
       "data": [
        {
         "2016_New": 34540,
         "2016_Total": 78070,
         "2017_New": 53000,
         "2017_Total": 131000,
         "2018_New": 45000,
         "2018_Total": 175018,
         "2019_New": 30100,
         "2019_Total": 204700,
         "2020_New": 49655,
         "2020_Total": 254355,
         "Country or territory": "China",
         "Share of total consumption %": 6.2,
         "W per capita 2019": 147,
         "index": 0
        },
        {
         "2016_New": null,
         "2016_Total": 101433,
         "2017_New": null,
         "2017_Total": 107150,
         "2018_New": 8300,
         "2018_Total": 115234,
         "2019_New": 16000,
         "2019_Total": 134129,
         "2020_New": 18788,
         "2020_Total": 152917,
         "Country or territory": "European Union",
         "Share of total consumption %": 6,
         "W per capita 2019": 295,
         "index": 1
        },
        {
         "2016_New": 14730,
         "2016_Total": 40300,
         "2017_New": 10600,
         "2017_Total": 51000,
         "2018_New": 10600,
         "2018_Total": 53184,
         "2019_New": 13300,
         "2019_Total": 60682,
         "2020_New": 14890,
         "2020_Total": 75572,
         "Country or territory": "United States",
         "Share of total consumption %": 3.4,
         "W per capita 2019": 231,
         "index": 2
        },
        {
         "2016_New": 8600,
         "2016_Total": 42750,
         "2017_New": 7000,
         "2017_Total": 49000,
         "2018_New": 6500,
         "2018_Total": 55500,
         "2019_New": 7000,
         "2019_Total": 63000,
         "2020_New": 4000,
         "2020_Total": 67000,
         "Country or territory": "Japan",
         "Share of total consumption %": 8.3,
         "W per capita 2019": 498,
         "index": 3
        },
        {
         "2016_New": 1520,
         "2016_Total": 41220,
         "2017_New": 1800,
         "2017_Total": 42000,
         "2018_New": 3000,
         "2018_Total": 45930,
         "2019_New": 3900,
         "2019_Total": 49200,
         "2020_New": 4583,
         "2020_Total": 53783,
         "Country or territory": "Germany",
         "Share of total consumption %": 9.7,
         "W per capita 2019": 593,
         "index": 4
        }
       ],
       "schema": {
        "fields": [
         {
          "name": "index",
          "type": "integer"
         },
         {
          "name": "Country or territory",
          "type": "string"
         },
         {
          "name": "2016_New",
          "type": "number"
         },
         {
          "name": "2016_Total",
          "type": "number"
         },
         {
          "name": "2017_New",
          "type": "number"
         },
         {
          "name": "2017_Total",
          "type": "number"
         },
         {
          "name": "2018_New",
          "type": "number"
         },
         {
          "name": "2018_Total",
          "type": "integer"
         },
         {
          "name": "2019_New",
          "type": "number"
         },
         {
          "name": "2019_Total",
          "type": "integer"
         },
         {
          "name": "2020_New",
          "type": "number"
         },
         {
          "name": "2020_Total",
          "type": "integer"
         },
         {
          "name": "W per capita 2019",
          "type": "number"
         },
         {
          "name": "Share of total consumption %",
          "type": "number"
         }
        ],
        "pandas_version": "1.4.0",
        "primaryKey": [
         "index"
        ]
       }
      },
      "text/html": [
       "<div>\n",
       "<style scoped>\n",
       "    .dataframe tbody tr th:only-of-type {\n",
       "        vertical-align: middle;\n",
       "    }\n",
       "\n",
       "    .dataframe tbody tr th {\n",
       "        vertical-align: top;\n",
       "    }\n",
       "\n",
       "    .dataframe thead th {\n",
       "        text-align: right;\n",
       "    }\n",
       "</style>\n",
       "<table border=\"1\" class=\"dataframe\">\n",
       "  <thead>\n",
       "    <tr style=\"text-align: right;\">\n",
       "      <th></th>\n",
       "      <th>Country or territory</th>\n",
       "      <th>2016_New</th>\n",
       "      <th>2016_Total</th>\n",
       "      <th>2017_New</th>\n",
       "      <th>2017_Total</th>\n",
       "      <th>2018_New</th>\n",
       "      <th>2018_Total</th>\n",
       "      <th>2019_New</th>\n",
       "      <th>2019_Total</th>\n",
       "      <th>2020_New</th>\n",
       "      <th>2020_Total</th>\n",
       "      <th>W per capita 2019</th>\n",
       "      <th>Share of total consumption %</th>\n",
       "    </tr>\n",
       "  </thead>\n",
       "  <tbody>\n",
       "    <tr>\n",
       "      <th>0</th>\n",
       "      <td>China</td>\n",
       "      <td>34540.0</td>\n",
       "      <td>78070.0</td>\n",
       "      <td>53000.0</td>\n",
       "      <td>131000.0</td>\n",
       "      <td>45000.0</td>\n",
       "      <td>175018</td>\n",
       "      <td>30100.0</td>\n",
       "      <td>204700</td>\n",
       "      <td>49655.0</td>\n",
       "      <td>254355</td>\n",
       "      <td>147.0</td>\n",
       "      <td>6.2</td>\n",
       "    </tr>\n",
       "    <tr>\n",
       "      <th>1</th>\n",
       "      <td>European Union</td>\n",
       "      <td>NaN</td>\n",
       "      <td>101433.0</td>\n",
       "      <td>NaN</td>\n",
       "      <td>107150.0</td>\n",
       "      <td>8300.0</td>\n",
       "      <td>115234</td>\n",
       "      <td>16000.0</td>\n",
       "      <td>134129</td>\n",
       "      <td>18788.0</td>\n",
       "      <td>152917</td>\n",
       "      <td>295.0</td>\n",
       "      <td>6.0</td>\n",
       "    </tr>\n",
       "    <tr>\n",
       "      <th>2</th>\n",
       "      <td>United States</td>\n",
       "      <td>14730.0</td>\n",
       "      <td>40300.0</td>\n",
       "      <td>10600.0</td>\n",
       "      <td>51000.0</td>\n",
       "      <td>10600.0</td>\n",
       "      <td>53184</td>\n",
       "      <td>13300.0</td>\n",
       "      <td>60682</td>\n",
       "      <td>14890.0</td>\n",
       "      <td>75572</td>\n",
       "      <td>231.0</td>\n",
       "      <td>3.4</td>\n",
       "    </tr>\n",
       "    <tr>\n",
       "      <th>3</th>\n",
       "      <td>Japan</td>\n",
       "      <td>8600.0</td>\n",
       "      <td>42750.0</td>\n",
       "      <td>7000.0</td>\n",
       "      <td>49000.0</td>\n",
       "      <td>6500.0</td>\n",
       "      <td>55500</td>\n",
       "      <td>7000.0</td>\n",
       "      <td>63000</td>\n",
       "      <td>4000.0</td>\n",
       "      <td>67000</td>\n",
       "      <td>498.0</td>\n",
       "      <td>8.3</td>\n",
       "    </tr>\n",
       "    <tr>\n",
       "      <th>4</th>\n",
       "      <td>Germany</td>\n",
       "      <td>1520.0</td>\n",
       "      <td>41220.0</td>\n",
       "      <td>1800.0</td>\n",
       "      <td>42000.0</td>\n",
       "      <td>3000.0</td>\n",
       "      <td>45930</td>\n",
       "      <td>3900.0</td>\n",
       "      <td>49200</td>\n",
       "      <td>4583.0</td>\n",
       "      <td>53783</td>\n",
       "      <td>593.0</td>\n",
       "      <td>9.7</td>\n",
       "    </tr>\n",
       "  </tbody>\n",
       "</table>\n",
       "</div>"
      ],
      "text/plain": [
       "  Country or territory  2016_New  2016_Total  2017_New  2017_Total  2018_New  \\\n",
       "0                China   34540.0     78070.0   53000.0    131000.0   45000.0   \n",
       "1       European Union       NaN    101433.0       NaN    107150.0    8300.0   \n",
       "2        United States   14730.0     40300.0   10600.0     51000.0   10600.0   \n",
       "3                Japan    8600.0     42750.0    7000.0     49000.0    6500.0   \n",
       "4              Germany    1520.0     41220.0    1800.0     42000.0    3000.0   \n",
       "\n",
       "   2018_Total  2019_New  2019_Total  2020_New  2020_Total  W per capita 2019  \\\n",
       "0      175018   30100.0      204700   49655.0      254355              147.0   \n",
       "1      115234   16000.0      134129   18788.0      152917              295.0   \n",
       "2       53184   13300.0       60682   14890.0       75572              231.0   \n",
       "3       55500    7000.0       63000    4000.0       67000              498.0   \n",
       "4       45930    3900.0       49200    4583.0       53783              593.0   \n",
       "\n",
       "   Share of total consumption %  \n",
       "0                           6.2  \n",
       "1                           6.0  \n",
       "2                           3.4  \n",
       "3                           8.3  \n",
       "4                           9.7  "
      ]
     },
     "execution_count": 1,
     "metadata": {},
     "output_type": "execute_result"
    }
   ],
   "source": [
    "import pandas as pd\n",
    "import seaborn as sns\n",
    "import matplotlib.pyplot as plt\n",
    "import sqlite3\n",
    "\n",
    "original_solar_df = pd.read_csv('../csv_files/solar_power_by_country.csv')\n",
    "original_solar_df.head(5)"
   ]
  },
  {
   "cell_type": "markdown",
   "metadata": {},
   "source": [
    "Next I need rename the columns in order to match the sql schema (see sql_files../schema.sql), as sql tables cannot start with a number."
   ]
  },
  {
   "cell_type": "code",
   "execution_count": 2,
   "metadata": {},
   "outputs": [
    {
     "name": "stdout",
     "output_type": "stream",
     "text": [
      "<class 'pandas.core.frame.DataFrame'>\n",
      "RangeIndex: 80 entries, 0 to 79\n",
      "Data columns (total 13 columns):\n",
      " #   Column                      Non-Null Count  Dtype  \n",
      "---  ------                      --------------  -----  \n",
      " 0   country                     80 non-null     object \n",
      " 1   _2016_new                   36 non-null     float64\n",
      " 2   _2016_total                 75 non-null     float64\n",
      " 3   _2017_new                   36 non-null     float64\n",
      " 4   _2017_total                 75 non-null     float64\n",
      " 5   _2018_new                   20 non-null     float64\n",
      " 6   _2018_total                 80 non-null     int64  \n",
      " 7   _2019_new                   14 non-null     float64\n",
      " 8   _2019_total                 80 non-null     int64  \n",
      " 9   _2020_new                   27 non-null     float64\n",
      " 10  _2020_total                 80 non-null     int64  \n",
      " 11  w_per_capita_2019           59 non-null     float64\n",
      " 12  share_of_total_consumption  42 non-null     float64\n",
      "dtypes: float64(9), int64(3), object(1)\n",
      "memory usage: 8.2+ KB\n",
      "None\n"
     ]
    }
   ],
   "source": [
    "# First I make a copy, as to preserve the csv's data exactly as-is in the original DataFrame\n",
    "\n",
    "solar_df = original_solar_df.copy()\n",
    "\n",
    "solar_df.columns = ['country', '_2016_new', '_2016_total', '_2017_new', '_2017_total',\n",
    "                     '_2018_new', '_2018_total', '_2019_new', '_2019_total',\n",
    "                     '_2020_new', '_2020_total', 'w_per_capita_2019', 'share_of_total_consumption']\n",
    "\n",
    "print(solar_df.info())"
   ]
  },
  {
   "cell_type": "markdown",
   "metadata": {},
   "source": [
    "Now that the column names match, I can insert the DataFrame into my database."
   ]
  },
  {
   "cell_type": "code",
   "execution_count": 3,
   "metadata": {},
   "outputs": [
    {
     "data": {
      "text/plain": [
       "80"
      ]
     },
     "execution_count": 3,
     "metadata": {},
     "output_type": "execute_result"
    },
    {
     "data": {
      "application/vnd.dataresource+json": {
       "data": [
        {
         "_2016_new": 34540,
         "_2016_total": 78070,
         "_2017_new": 53000,
         "_2017_total": 131000,
         "_2018_new": 45000,
         "_2018_total": 175018,
         "_2019_new": 30100,
         "_2019_total": 204700,
         "_2020_new": 49655,
         "_2020_total": 254355,
         "country": "China",
         "index": 0,
         "share_of_total_consumption": 6.2,
         "w_per_capita_2019": 147
        },
        {
         "_2016_new": null,
         "_2016_total": 101433,
         "_2017_new": null,
         "_2017_total": 107150,
         "_2018_new": 8300,
         "_2018_total": 115234,
         "_2019_new": 16000,
         "_2019_total": 134129,
         "_2020_new": 18788,
         "_2020_total": 152917,
         "country": "European Union",
         "index": 1,
         "share_of_total_consumption": 6,
         "w_per_capita_2019": 295
        },
        {
         "_2016_new": 14730,
         "_2016_total": 40300,
         "_2017_new": 10600,
         "_2017_total": 51000,
         "_2018_new": 10600,
         "_2018_total": 53184,
         "_2019_new": 13300,
         "_2019_total": 60682,
         "_2020_new": 14890,
         "_2020_total": 75572,
         "country": "United States",
         "index": 2,
         "share_of_total_consumption": 3.4,
         "w_per_capita_2019": 231
        }
       ],
       "schema": {
        "fields": [
         {
          "name": "index",
          "type": "integer"
         },
         {
          "name": "country",
          "type": "string"
         },
         {
          "name": "_2016_new",
          "type": "number"
         },
         {
          "name": "_2016_total",
          "type": "number"
         },
         {
          "name": "_2017_new",
          "type": "number"
         },
         {
          "name": "_2017_total",
          "type": "number"
         },
         {
          "name": "_2018_new",
          "type": "number"
         },
         {
          "name": "_2018_total",
          "type": "integer"
         },
         {
          "name": "_2019_new",
          "type": "number"
         },
         {
          "name": "_2019_total",
          "type": "integer"
         },
         {
          "name": "_2020_new",
          "type": "number"
         },
         {
          "name": "_2020_total",
          "type": "integer"
         },
         {
          "name": "w_per_capita_2019",
          "type": "number"
         },
         {
          "name": "share_of_total_consumption",
          "type": "number"
         }
        ],
        "pandas_version": "1.4.0",
        "primaryKey": [
         "index"
        ]
       }
      },
      "text/html": [
       "<div>\n",
       "<style scoped>\n",
       "    .dataframe tbody tr th:only-of-type {\n",
       "        vertical-align: middle;\n",
       "    }\n",
       "\n",
       "    .dataframe tbody tr th {\n",
       "        vertical-align: top;\n",
       "    }\n",
       "\n",
       "    .dataframe thead th {\n",
       "        text-align: right;\n",
       "    }\n",
       "</style>\n",
       "<table border=\"1\" class=\"dataframe\">\n",
       "  <thead>\n",
       "    <tr style=\"text-align: right;\">\n",
       "      <th></th>\n",
       "      <th>country</th>\n",
       "      <th>_2016_new</th>\n",
       "      <th>_2016_total</th>\n",
       "      <th>_2017_new</th>\n",
       "      <th>_2017_total</th>\n",
       "      <th>_2018_new</th>\n",
       "      <th>_2018_total</th>\n",
       "      <th>_2019_new</th>\n",
       "      <th>_2019_total</th>\n",
       "      <th>_2020_new</th>\n",
       "      <th>_2020_total</th>\n",
       "      <th>w_per_capita_2019</th>\n",
       "      <th>share_of_total_consumption</th>\n",
       "    </tr>\n",
       "  </thead>\n",
       "  <tbody>\n",
       "    <tr>\n",
       "      <th>0</th>\n",
       "      <td>China</td>\n",
       "      <td>34540.0</td>\n",
       "      <td>78070.0</td>\n",
       "      <td>53000.0</td>\n",
       "      <td>131000.0</td>\n",
       "      <td>45000.0</td>\n",
       "      <td>175018</td>\n",
       "      <td>30100.0</td>\n",
       "      <td>204700</td>\n",
       "      <td>49655.0</td>\n",
       "      <td>254355</td>\n",
       "      <td>147.0</td>\n",
       "      <td>6.2</td>\n",
       "    </tr>\n",
       "    <tr>\n",
       "      <th>1</th>\n",
       "      <td>European Union</td>\n",
       "      <td>NaN</td>\n",
       "      <td>101433.0</td>\n",
       "      <td>NaN</td>\n",
       "      <td>107150.0</td>\n",
       "      <td>8300.0</td>\n",
       "      <td>115234</td>\n",
       "      <td>16000.0</td>\n",
       "      <td>134129</td>\n",
       "      <td>18788.0</td>\n",
       "      <td>152917</td>\n",
       "      <td>295.0</td>\n",
       "      <td>6.0</td>\n",
       "    </tr>\n",
       "    <tr>\n",
       "      <th>2</th>\n",
       "      <td>United States</td>\n",
       "      <td>14730.0</td>\n",
       "      <td>40300.0</td>\n",
       "      <td>10600.0</td>\n",
       "      <td>51000.0</td>\n",
       "      <td>10600.0</td>\n",
       "      <td>53184</td>\n",
       "      <td>13300.0</td>\n",
       "      <td>60682</td>\n",
       "      <td>14890.0</td>\n",
       "      <td>75572</td>\n",
       "      <td>231.0</td>\n",
       "      <td>3.4</td>\n",
       "    </tr>\n",
       "  </tbody>\n",
       "</table>\n",
       "</div>"
      ],
      "text/plain": [
       "          country  _2016_new  _2016_total  _2017_new  _2017_total  _2018_new  \\\n",
       "0           China    34540.0      78070.0    53000.0     131000.0    45000.0   \n",
       "1  European Union        NaN     101433.0        NaN     107150.0     8300.0   \n",
       "2   United States    14730.0      40300.0    10600.0      51000.0    10600.0   \n",
       "\n",
       "   _2018_total  _2019_new  _2019_total  _2020_new  _2020_total  \\\n",
       "0       175018    30100.0       204700    49655.0       254355   \n",
       "1       115234    16000.0       134129    18788.0       152917   \n",
       "2        53184    13300.0        60682    14890.0        75572   \n",
       "\n",
       "   w_per_capita_2019  share_of_total_consumption  \n",
       "0              147.0                         6.2  \n",
       "1              295.0                         6.0  \n",
       "2              231.0                         3.4  "
      ]
     },
     "execution_count": 3,
     "metadata": {},
     "output_type": "execute_result"
    }
   ],
   "source": [
    "conn = sqlite3.connect('../solar.db')\n",
    "\n",
    "solar_df.to_sql('solar_generation', conn, if_exists='replace', index=False)\n",
    "\n",
    "conn.close()\n",
    "\n",
    "# I ran SELECT * FROM solar_generation LIMIT 5; in queries.sql to verify the data is correctly inserted. It is.\n",
    "\n",
    "solar_df.head(3)\n"
   ]
  },
  {
   "cell_type": "markdown",
   "metadata": {},
   "source": [
    "Now that the original csv data is preserved as a dataframe and a table, and column names are in manageable formats, I can start to explore the data."
   ]
  },
  {
   "cell_type": "code",
   "execution_count": 4,
   "metadata": {},
   "outputs": [
    {
     "name": "stdout",
     "output_type": "stream",
     "text": [
      "country                        0\n",
      "_2016_new                     44\n",
      "_2016_total                    5\n",
      "_2017_new                     44\n",
      "_2017_total                    5\n",
      "_2018_new                     60\n",
      "_2018_total                    0\n",
      "_2019_new                     66\n",
      "_2019_total                    0\n",
      "_2020_new                     53\n",
      "_2020_total                    0\n",
      "w_per_capita_2019             21\n",
      "share_of_total_consumption    38\n",
      "dtype: int64\n"
     ]
    },
    {
     "data": {
      "application/vnd.dataresource+json": {
       "data": [
        {
         "_2016_new": 36,
         "_2016_total": 75,
         "_2017_new": 36,
         "_2017_total": 75,
         "_2018_new": 20,
         "_2018_total": 80,
         "_2019_new": 14,
         "_2019_total": 80,
         "_2020_new": 27,
         "_2020_total": 80,
         "index": "count",
         "share_of_total_consumption": 42,
         "w_per_capita_2019": 59
        },
        {
         "_2016_new": 2038.5277777778,
         "_2016_total": 5284.04,
         "_2017_new": 2596.1388888889,
         "_2017_total": 6608.5466666667,
         "_2018_new": 4882.255,
         "_2018_total": 7486.8625,
         "_2019_new": 6839.4285714286,
         "_2019_total": 8900.5625,
         "_2020_new": 5228.3333333333,
         "_2020_total": 10757,
         "index": "mean",
         "share_of_total_consumption": 4.6904761905,
         "w_per_capita_2019": 141.1016949153
        },
        {
         "_2016_new": 6235.7408792775,
         "_2016_total": 16523.5150605989,
         "_2017_new": 8988.3745841989,
         "_2017_total": 21201.180765367,
         "_2018_new": 10076.1871232429,
         "_2018_total": 24952.8073485889,
         "_2019_new": 8312.978404642,
         "_2019_total": 28970.4309890662,
         "_2020_new": 9948.9679402902,
         "_2020_total": 34808.9386417783,
         "index": "std",
         "share_of_total_consumption": 3.1697356606,
         "w_per_capita_2019": 145.5594078168
        },
        {
         "_2016_new": 1,
         "_2016_total": 2,
         "_2017_new": 4,
         "_2017_total": 8,
         "_2018_new": 0,
         "_2018_total": 8,
         "_2019_new": 81,
         "_2019_total": 9,
         "_2020_new": 15,
         "_2020_total": 85,
         "index": "min",
         "share_of_total_consumption": 0.1,
         "w_per_capita_2019": 2
        },
        {
         "_2016_new": 52.5,
         "_2016_total": 49.5,
         "_2017_new": 59.25,
         "_2017_total": 99.5,
         "_2018_new": 89.775,
         "_2018_total": 134,
         "_2019_new": 1209.5,
         "_2019_total": 210.75,
         "_2020_new": 736.5,
         "_2020_total": 214,
         "index": "25%",
         "share_of_total_consumption": 2.5,
         "w_per_capita_2019": 34.5
        },
        {
         "_2016_new": 185,
         "_2016_total": 202,
         "_2017_new": 211.5,
         "_2017_total": 298,
         "_2018_new": 1450,
         "_2018_total": 490.5,
         "_2019_new": 3800,
         "_2019_total": 855,
         "_2020_new": 1833,
         "_2020_total": 1060.5,
         "index": "50%",
         "share_of_total_consumption": 3.9,
         "w_per_capita_2019": 88
        },
        {
         "_2016_new": 748.5,
         "_2016_total": 1530,
         "_2017_new": 900,
         "_2017_total": 1850,
         "_2018_new": 4475,
         "_2018_total": 2573.75,
         "_2019_new": 9175,
         "_2019_total": 3372.5,
         "_2020_new": 4061,
         "_2020_total": 5431,
         "index": "75%",
         "share_of_total_consumption": 6.5,
         "w_per_capita_2019": 190
        },
        {
         "_2016_new": 34540,
         "_2016_total": 101433,
         "_2017_new": 53000,
         "_2017_total": 131000,
         "_2018_new": 45000,
         "_2018_total": 175018,
         "_2019_new": 30100,
         "_2019_total": 204700,
         "_2020_new": 49655,
         "_2020_total": 254355,
         "index": "max",
         "share_of_total_consumption": 12.9,
         "w_per_capita_2019": 637
        }
       ],
       "schema": {
        "fields": [
         {
          "name": "index",
          "type": "string"
         },
         {
          "name": "_2016_new",
          "type": "number"
         },
         {
          "name": "_2016_total",
          "type": "number"
         },
         {
          "name": "_2017_new",
          "type": "number"
         },
         {
          "name": "_2017_total",
          "type": "number"
         },
         {
          "name": "_2018_new",
          "type": "number"
         },
         {
          "name": "_2018_total",
          "type": "number"
         },
         {
          "name": "_2019_new",
          "type": "number"
         },
         {
          "name": "_2019_total",
          "type": "number"
         },
         {
          "name": "_2020_new",
          "type": "number"
         },
         {
          "name": "_2020_total",
          "type": "number"
         },
         {
          "name": "w_per_capita_2019",
          "type": "number"
         },
         {
          "name": "share_of_total_consumption",
          "type": "number"
         }
        ],
        "pandas_version": "1.4.0",
        "primaryKey": [
         "index"
        ]
       }
      },
      "text/html": [
       "<div>\n",
       "<style scoped>\n",
       "    .dataframe tbody tr th:only-of-type {\n",
       "        vertical-align: middle;\n",
       "    }\n",
       "\n",
       "    .dataframe tbody tr th {\n",
       "        vertical-align: top;\n",
       "    }\n",
       "\n",
       "    .dataframe thead th {\n",
       "        text-align: right;\n",
       "    }\n",
       "</style>\n",
       "<table border=\"1\" class=\"dataframe\">\n",
       "  <thead>\n",
       "    <tr style=\"text-align: right;\">\n",
       "      <th></th>\n",
       "      <th>_2016_new</th>\n",
       "      <th>_2016_total</th>\n",
       "      <th>_2017_new</th>\n",
       "      <th>_2017_total</th>\n",
       "      <th>_2018_new</th>\n",
       "      <th>_2018_total</th>\n",
       "      <th>_2019_new</th>\n",
       "      <th>_2019_total</th>\n",
       "      <th>_2020_new</th>\n",
       "      <th>_2020_total</th>\n",
       "      <th>w_per_capita_2019</th>\n",
       "      <th>share_of_total_consumption</th>\n",
       "    </tr>\n",
       "  </thead>\n",
       "  <tbody>\n",
       "    <tr>\n",
       "      <th>count</th>\n",
       "      <td>36.000000</td>\n",
       "      <td>75.000000</td>\n",
       "      <td>36.000000</td>\n",
       "      <td>75.000000</td>\n",
       "      <td>20.000000</td>\n",
       "      <td>80.000000</td>\n",
       "      <td>14.000000</td>\n",
       "      <td>80.000000</td>\n",
       "      <td>27.000000</td>\n",
       "      <td>80.000000</td>\n",
       "      <td>59.000000</td>\n",
       "      <td>42.000000</td>\n",
       "    </tr>\n",
       "    <tr>\n",
       "      <th>mean</th>\n",
       "      <td>2038.527778</td>\n",
       "      <td>5284.040000</td>\n",
       "      <td>2596.138889</td>\n",
       "      <td>6608.546667</td>\n",
       "      <td>4882.255000</td>\n",
       "      <td>7486.862500</td>\n",
       "      <td>6839.428571</td>\n",
       "      <td>8900.562500</td>\n",
       "      <td>5228.333333</td>\n",
       "      <td>10757.000000</td>\n",
       "      <td>141.101695</td>\n",
       "      <td>4.690476</td>\n",
       "    </tr>\n",
       "    <tr>\n",
       "      <th>std</th>\n",
       "      <td>6235.740879</td>\n",
       "      <td>16523.515061</td>\n",
       "      <td>8988.374584</td>\n",
       "      <td>21201.180765</td>\n",
       "      <td>10076.187123</td>\n",
       "      <td>24952.807349</td>\n",
       "      <td>8312.978405</td>\n",
       "      <td>28970.430989</td>\n",
       "      <td>9948.967940</td>\n",
       "      <td>34808.938642</td>\n",
       "      <td>145.559408</td>\n",
       "      <td>3.169736</td>\n",
       "    </tr>\n",
       "    <tr>\n",
       "      <th>min</th>\n",
       "      <td>1.000000</td>\n",
       "      <td>2.000000</td>\n",
       "      <td>4.000000</td>\n",
       "      <td>8.000000</td>\n",
       "      <td>0.000000</td>\n",
       "      <td>8.000000</td>\n",
       "      <td>81.000000</td>\n",
       "      <td>9.000000</td>\n",
       "      <td>15.000000</td>\n",
       "      <td>85.000000</td>\n",
       "      <td>2.000000</td>\n",
       "      <td>0.100000</td>\n",
       "    </tr>\n",
       "    <tr>\n",
       "      <th>25%</th>\n",
       "      <td>52.500000</td>\n",
       "      <td>49.500000</td>\n",
       "      <td>59.250000</td>\n",
       "      <td>99.500000</td>\n",
       "      <td>89.775000</td>\n",
       "      <td>134.000000</td>\n",
       "      <td>1209.500000</td>\n",
       "      <td>210.750000</td>\n",
       "      <td>736.500000</td>\n",
       "      <td>214.000000</td>\n",
       "      <td>34.500000</td>\n",
       "      <td>2.500000</td>\n",
       "    </tr>\n",
       "    <tr>\n",
       "      <th>50%</th>\n",
       "      <td>185.000000</td>\n",
       "      <td>202.000000</td>\n",
       "      <td>211.500000</td>\n",
       "      <td>298.000000</td>\n",
       "      <td>1450.000000</td>\n",
       "      <td>490.500000</td>\n",
       "      <td>3800.000000</td>\n",
       "      <td>855.000000</td>\n",
       "      <td>1833.000000</td>\n",
       "      <td>1060.500000</td>\n",
       "      <td>88.000000</td>\n",
       "      <td>3.900000</td>\n",
       "    </tr>\n",
       "    <tr>\n",
       "      <th>75%</th>\n",
       "      <td>748.500000</td>\n",
       "      <td>1530.000000</td>\n",
       "      <td>900.000000</td>\n",
       "      <td>1850.000000</td>\n",
       "      <td>4475.000000</td>\n",
       "      <td>2573.750000</td>\n",
       "      <td>9175.000000</td>\n",
       "      <td>3372.500000</td>\n",
       "      <td>4061.000000</td>\n",
       "      <td>5431.000000</td>\n",
       "      <td>190.000000</td>\n",
       "      <td>6.500000</td>\n",
       "    </tr>\n",
       "    <tr>\n",
       "      <th>max</th>\n",
       "      <td>34540.000000</td>\n",
       "      <td>101433.000000</td>\n",
       "      <td>53000.000000</td>\n",
       "      <td>131000.000000</td>\n",
       "      <td>45000.000000</td>\n",
       "      <td>175018.000000</td>\n",
       "      <td>30100.000000</td>\n",
       "      <td>204700.000000</td>\n",
       "      <td>49655.000000</td>\n",
       "      <td>254355.000000</td>\n",
       "      <td>637.000000</td>\n",
       "      <td>12.900000</td>\n",
       "    </tr>\n",
       "  </tbody>\n",
       "</table>\n",
       "</div>"
      ],
      "text/plain": [
       "          _2016_new    _2016_total     _2017_new    _2017_total     _2018_new  \\\n",
       "count     36.000000      75.000000     36.000000      75.000000     20.000000   \n",
       "mean    2038.527778    5284.040000   2596.138889    6608.546667   4882.255000   \n",
       "std     6235.740879   16523.515061   8988.374584   21201.180765  10076.187123   \n",
       "min        1.000000       2.000000      4.000000       8.000000      0.000000   \n",
       "25%       52.500000      49.500000     59.250000      99.500000     89.775000   \n",
       "50%      185.000000     202.000000    211.500000     298.000000   1450.000000   \n",
       "75%      748.500000    1530.000000    900.000000    1850.000000   4475.000000   \n",
       "max    34540.000000  101433.000000  53000.000000  131000.000000  45000.000000   \n",
       "\n",
       "         _2018_total     _2019_new    _2019_total     _2020_new  \\\n",
       "count      80.000000     14.000000      80.000000     27.000000   \n",
       "mean     7486.862500   6839.428571    8900.562500   5228.333333   \n",
       "std     24952.807349   8312.978405   28970.430989   9948.967940   \n",
       "min         8.000000     81.000000       9.000000     15.000000   \n",
       "25%       134.000000   1209.500000     210.750000    736.500000   \n",
       "50%       490.500000   3800.000000     855.000000   1833.000000   \n",
       "75%      2573.750000   9175.000000    3372.500000   4061.000000   \n",
       "max    175018.000000  30100.000000  204700.000000  49655.000000   \n",
       "\n",
       "         _2020_total  w_per_capita_2019  share_of_total_consumption  \n",
       "count      80.000000          59.000000                   42.000000  \n",
       "mean    10757.000000         141.101695                    4.690476  \n",
       "std     34808.938642         145.559408                    3.169736  \n",
       "min        85.000000           2.000000                    0.100000  \n",
       "25%       214.000000          34.500000                    2.500000  \n",
       "50%      1060.500000          88.000000                    3.900000  \n",
       "75%      5431.000000         190.000000                    6.500000  \n",
       "max    254355.000000         637.000000                   12.900000  "
      ]
     },
     "metadata": {},
     "output_type": "display_data"
    },
    {
     "data": {
      "application/vnd.dataresource+json": {
       "data": [
        {
         "_2016_new": 34540,
         "_2016_total": 78070,
         "_2017_new": 53000,
         "_2017_total": 131000,
         "_2018_new": 45000,
         "_2018_total": 175018,
         "_2019_new": 30100,
         "_2019_total": 204700,
         "_2020_new": 49655,
         "_2020_total": 254355,
         "country": "China",
         "index": 0,
         "share_of_total_consumption": 6.2,
         "w_per_capita_2019": 147
        },
        {
         "_2016_new": null,
         "_2016_total": 101433,
         "_2017_new": null,
         "_2017_total": 107150,
         "_2018_new": 8300,
         "_2018_total": 115234,
         "_2019_new": 16000,
         "_2019_total": 134129,
         "_2020_new": 18788,
         "_2020_total": 152917,
         "country": "European Union",
         "index": 1,
         "share_of_total_consumption": 6,
         "w_per_capita_2019": 295
        },
        {
         "_2016_new": 14730,
         "_2016_total": 40300,
         "_2017_new": 10600,
         "_2017_total": 51000,
         "_2018_new": 10600,
         "_2018_total": 53184,
         "_2019_new": 13300,
         "_2019_total": 60682,
         "_2020_new": 14890,
         "_2020_total": 75572,
         "country": "United States",
         "index": 2,
         "share_of_total_consumption": 3.4,
         "w_per_capita_2019": 231
        },
        {
         "_2016_new": 8600,
         "_2016_total": 42750,
         "_2017_new": 7000,
         "_2017_total": 49000,
         "_2018_new": 6500,
         "_2018_total": 55500,
         "_2019_new": 7000,
         "_2019_total": 63000,
         "_2020_new": 4000,
         "_2020_total": 67000,
         "country": "Japan",
         "index": 3,
         "share_of_total_consumption": 8.3,
         "w_per_capita_2019": 498
        },
        {
         "_2016_new": 1520,
         "_2016_total": 41220,
         "_2017_new": 1800,
         "_2017_total": 42000,
         "_2018_new": 3000,
         "_2018_total": 45930,
         "_2019_new": 3900,
         "_2019_total": 49200,
         "_2020_new": 4583,
         "_2020_total": 53783,
         "country": "Germany",
         "index": 4,
         "share_of_total_consumption": 9.7,
         "w_per_capita_2019": 593
        }
       ],
       "schema": {
        "fields": [
         {
          "name": "index",
          "type": "integer"
         },
         {
          "name": "country",
          "type": "string"
         },
         {
          "name": "_2016_new",
          "type": "number"
         },
         {
          "name": "_2016_total",
          "type": "number"
         },
         {
          "name": "_2017_new",
          "type": "number"
         },
         {
          "name": "_2017_total",
          "type": "number"
         },
         {
          "name": "_2018_new",
          "type": "number"
         },
         {
          "name": "_2018_total",
          "type": "integer"
         },
         {
          "name": "_2019_new",
          "type": "number"
         },
         {
          "name": "_2019_total",
          "type": "integer"
         },
         {
          "name": "_2020_new",
          "type": "number"
         },
         {
          "name": "_2020_total",
          "type": "integer"
         },
         {
          "name": "w_per_capita_2019",
          "type": "number"
         },
         {
          "name": "share_of_total_consumption",
          "type": "number"
         }
        ],
        "pandas_version": "1.4.0",
        "primaryKey": [
         "index"
        ]
       }
      },
      "text/html": [
       "<div>\n",
       "<style scoped>\n",
       "    .dataframe tbody tr th:only-of-type {\n",
       "        vertical-align: middle;\n",
       "    }\n",
       "\n",
       "    .dataframe tbody tr th {\n",
       "        vertical-align: top;\n",
       "    }\n",
       "\n",
       "    .dataframe thead th {\n",
       "        text-align: right;\n",
       "    }\n",
       "</style>\n",
       "<table border=\"1\" class=\"dataframe\">\n",
       "  <thead>\n",
       "    <tr style=\"text-align: right;\">\n",
       "      <th></th>\n",
       "      <th>country</th>\n",
       "      <th>_2016_new</th>\n",
       "      <th>_2016_total</th>\n",
       "      <th>_2017_new</th>\n",
       "      <th>_2017_total</th>\n",
       "      <th>_2018_new</th>\n",
       "      <th>_2018_total</th>\n",
       "      <th>_2019_new</th>\n",
       "      <th>_2019_total</th>\n",
       "      <th>_2020_new</th>\n",
       "      <th>_2020_total</th>\n",
       "      <th>w_per_capita_2019</th>\n",
       "      <th>share_of_total_consumption</th>\n",
       "    </tr>\n",
       "  </thead>\n",
       "  <tbody>\n",
       "    <tr>\n",
       "      <th>0</th>\n",
       "      <td>China</td>\n",
       "      <td>34540.0</td>\n",
       "      <td>78070.0</td>\n",
       "      <td>53000.0</td>\n",
       "      <td>131000.0</td>\n",
       "      <td>45000.0</td>\n",
       "      <td>175018</td>\n",
       "      <td>30100.0</td>\n",
       "      <td>204700</td>\n",
       "      <td>49655.0</td>\n",
       "      <td>254355</td>\n",
       "      <td>147.0</td>\n",
       "      <td>6.2</td>\n",
       "    </tr>\n",
       "    <tr>\n",
       "      <th>1</th>\n",
       "      <td>European Union</td>\n",
       "      <td>NaN</td>\n",
       "      <td>101433.0</td>\n",
       "      <td>NaN</td>\n",
       "      <td>107150.0</td>\n",
       "      <td>8300.0</td>\n",
       "      <td>115234</td>\n",
       "      <td>16000.0</td>\n",
       "      <td>134129</td>\n",
       "      <td>18788.0</td>\n",
       "      <td>152917</td>\n",
       "      <td>295.0</td>\n",
       "      <td>6.0</td>\n",
       "    </tr>\n",
       "    <tr>\n",
       "      <th>2</th>\n",
       "      <td>United States</td>\n",
       "      <td>14730.0</td>\n",
       "      <td>40300.0</td>\n",
       "      <td>10600.0</td>\n",
       "      <td>51000.0</td>\n",
       "      <td>10600.0</td>\n",
       "      <td>53184</td>\n",
       "      <td>13300.0</td>\n",
       "      <td>60682</td>\n",
       "      <td>14890.0</td>\n",
       "      <td>75572</td>\n",
       "      <td>231.0</td>\n",
       "      <td>3.4</td>\n",
       "    </tr>\n",
       "    <tr>\n",
       "      <th>3</th>\n",
       "      <td>Japan</td>\n",
       "      <td>8600.0</td>\n",
       "      <td>42750.0</td>\n",
       "      <td>7000.0</td>\n",
       "      <td>49000.0</td>\n",
       "      <td>6500.0</td>\n",
       "      <td>55500</td>\n",
       "      <td>7000.0</td>\n",
       "      <td>63000</td>\n",
       "      <td>4000.0</td>\n",
       "      <td>67000</td>\n",
       "      <td>498.0</td>\n",
       "      <td>8.3</td>\n",
       "    </tr>\n",
       "    <tr>\n",
       "      <th>4</th>\n",
       "      <td>Germany</td>\n",
       "      <td>1520.0</td>\n",
       "      <td>41220.0</td>\n",
       "      <td>1800.0</td>\n",
       "      <td>42000.0</td>\n",
       "      <td>3000.0</td>\n",
       "      <td>45930</td>\n",
       "      <td>3900.0</td>\n",
       "      <td>49200</td>\n",
       "      <td>4583.0</td>\n",
       "      <td>53783</td>\n",
       "      <td>593.0</td>\n",
       "      <td>9.7</td>\n",
       "    </tr>\n",
       "  </tbody>\n",
       "</table>\n",
       "</div>"
      ],
      "text/plain": [
       "          country  _2016_new  _2016_total  _2017_new  _2017_total  _2018_new  \\\n",
       "0           China    34540.0      78070.0    53000.0     131000.0    45000.0   \n",
       "1  European Union        NaN     101433.0        NaN     107150.0     8300.0   \n",
       "2   United States    14730.0      40300.0    10600.0      51000.0    10600.0   \n",
       "3           Japan     8600.0      42750.0     7000.0      49000.0     6500.0   \n",
       "4         Germany     1520.0      41220.0     1800.0      42000.0     3000.0   \n",
       "\n",
       "   _2018_total  _2019_new  _2019_total  _2020_new  _2020_total  \\\n",
       "0       175018    30100.0       204700    49655.0       254355   \n",
       "1       115234    16000.0       134129    18788.0       152917   \n",
       "2        53184    13300.0        60682    14890.0        75572   \n",
       "3        55500     7000.0        63000     4000.0        67000   \n",
       "4        45930     3900.0        49200     4583.0        53783   \n",
       "\n",
       "   w_per_capita_2019  share_of_total_consumption  \n",
       "0              147.0                         6.2  \n",
       "1              295.0                         6.0  \n",
       "2              231.0                         3.4  \n",
       "3              498.0                         8.3  \n",
       "4              593.0                         9.7  "
      ]
     },
     "execution_count": 4,
     "metadata": {},
     "output_type": "execute_result"
    },
    {
     "name": "stdout",
     "output_type": "stream",
     "text": [
      "<class 'pandas.core.frame.DataFrame'>\n",
      "RangeIndex: 80 entries, 0 to 79\n",
      "Data columns (total 13 columns):\n",
      " #   Column                      Non-Null Count  Dtype  \n",
      "---  ------                      --------------  -----  \n",
      " 0   country                     80 non-null     object \n",
      " 1   _2016_new                   36 non-null     float64\n",
      " 2   _2016_total                 75 non-null     float64\n",
      " 3   _2017_new                   36 non-null     float64\n",
      " 4   _2017_total                 75 non-null     float64\n",
      " 5   _2018_new                   20 non-null     float64\n",
      " 6   _2018_total                 80 non-null     int64  \n",
      " 7   _2019_new                   14 non-null     float64\n",
      " 8   _2019_total                 80 non-null     int64  \n",
      " 9   _2020_new                   27 non-null     float64\n",
      " 10  _2020_total                 80 non-null     int64  \n",
      " 11  w_per_capita_2019           59 non-null     float64\n",
      " 12  share_of_total_consumption  42 non-null     float64\n",
      "dtypes: float64(9), int64(3), object(1)\n",
      "memory usage: 8.2+ KB\n",
      "None\n"
     ]
    }
   ],
   "source": [
    "print(solar_df.isnull().sum())\n",
    "display(solar_df.describe())\n",
    "solar_df.head(5)\n",
    "print(solar_df.info())"
   ]
  },
  {
   "cell_type": "markdown",
   "metadata": {},
   "source": [
    "Looks like I have a lot of missing values, by far most of them in the \"new\" categories. I can create a function to fill in many of the missing \"new\" values by subtracting the previous year from the following year."
   ]
  },
  {
   "cell_type": "code",
   "execution_count": 5,
   "metadata": {},
   "outputs": [
    {
     "name": "stdout",
     "output_type": "stream",
     "text": [
      "country                        0\n",
      "_2016_new                     44\n",
      "_2016_total                    5\n",
      "_2017_new                      5\n",
      "_2017_total                    5\n",
      "_2018_new                      5\n",
      "_2018_total                    0\n",
      "_2019_new                      0\n",
      "_2019_total                    0\n",
      "_2020_new                      0\n",
      "_2020_total                    0\n",
      "w_per_capita_2019             21\n",
      "share_of_total_consumption    38\n",
      "dtype: int64\n"
     ]
    },
    {
     "data": {
      "application/vnd.dataresource+json": {
       "data": [
        {
         "_2016_new": 34540,
         "_2016_total": 78070,
         "_2017_new": 53000,
         "_2017_total": 131000,
         "_2018_new": 45000,
         "_2018_total": 175018,
         "_2019_new": 30100,
         "_2019_total": 204700,
         "_2020_new": 49655,
         "_2020_total": 254355,
         "country": "China",
         "index": 0,
         "share_of_total_consumption": 6.2,
         "w_per_capita_2019": 147
        },
        {
         "_2016_new": null,
         "_2016_total": 101433,
         "_2017_new": 5717,
         "_2017_total": 107150,
         "_2018_new": 8300,
         "_2018_total": 115234,
         "_2019_new": 16000,
         "_2019_total": 134129,
         "_2020_new": 18788,
         "_2020_total": 152917,
         "country": "European Union",
         "index": 1,
         "share_of_total_consumption": 6,
         "w_per_capita_2019": 295
        }
       ],
       "schema": {
        "fields": [
         {
          "name": "index",
          "type": "integer"
         },
         {
          "name": "country",
          "type": "string"
         },
         {
          "name": "_2016_new",
          "type": "number"
         },
         {
          "name": "_2016_total",
          "type": "number"
         },
         {
          "name": "_2017_new",
          "type": "number"
         },
         {
          "name": "_2017_total",
          "type": "number"
         },
         {
          "name": "_2018_new",
          "type": "number"
         },
         {
          "name": "_2018_total",
          "type": "integer"
         },
         {
          "name": "_2019_new",
          "type": "number"
         },
         {
          "name": "_2019_total",
          "type": "integer"
         },
         {
          "name": "_2020_new",
          "type": "number"
         },
         {
          "name": "_2020_total",
          "type": "integer"
         },
         {
          "name": "w_per_capita_2019",
          "type": "number"
         },
         {
          "name": "share_of_total_consumption",
          "type": "number"
         }
        ],
        "pandas_version": "1.4.0",
        "primaryKey": [
         "index"
        ]
       }
      },
      "text/html": [
       "<div>\n",
       "<style scoped>\n",
       "    .dataframe tbody tr th:only-of-type {\n",
       "        vertical-align: middle;\n",
       "    }\n",
       "\n",
       "    .dataframe tbody tr th {\n",
       "        vertical-align: top;\n",
       "    }\n",
       "\n",
       "    .dataframe thead th {\n",
       "        text-align: right;\n",
       "    }\n",
       "</style>\n",
       "<table border=\"1\" class=\"dataframe\">\n",
       "  <thead>\n",
       "    <tr style=\"text-align: right;\">\n",
       "      <th></th>\n",
       "      <th>country</th>\n",
       "      <th>_2016_new</th>\n",
       "      <th>_2016_total</th>\n",
       "      <th>_2017_new</th>\n",
       "      <th>_2017_total</th>\n",
       "      <th>_2018_new</th>\n",
       "      <th>_2018_total</th>\n",
       "      <th>_2019_new</th>\n",
       "      <th>_2019_total</th>\n",
       "      <th>_2020_new</th>\n",
       "      <th>_2020_total</th>\n",
       "      <th>w_per_capita_2019</th>\n",
       "      <th>share_of_total_consumption</th>\n",
       "    </tr>\n",
       "  </thead>\n",
       "  <tbody>\n",
       "    <tr>\n",
       "      <th>0</th>\n",
       "      <td>China</td>\n",
       "      <td>34540.0</td>\n",
       "      <td>78070.0</td>\n",
       "      <td>53000.0</td>\n",
       "      <td>131000.0</td>\n",
       "      <td>45000.0</td>\n",
       "      <td>175018</td>\n",
       "      <td>30100.0</td>\n",
       "      <td>204700</td>\n",
       "      <td>49655.0</td>\n",
       "      <td>254355</td>\n",
       "      <td>147.0</td>\n",
       "      <td>6.2</td>\n",
       "    </tr>\n",
       "    <tr>\n",
       "      <th>1</th>\n",
       "      <td>European Union</td>\n",
       "      <td>NaN</td>\n",
       "      <td>101433.0</td>\n",
       "      <td>5717.0</td>\n",
       "      <td>107150.0</td>\n",
       "      <td>8300.0</td>\n",
       "      <td>115234</td>\n",
       "      <td>16000.0</td>\n",
       "      <td>134129</td>\n",
       "      <td>18788.0</td>\n",
       "      <td>152917</td>\n",
       "      <td>295.0</td>\n",
       "      <td>6.0</td>\n",
       "    </tr>\n",
       "  </tbody>\n",
       "</table>\n",
       "</div>"
      ],
      "text/plain": [
       "          country  _2016_new  _2016_total  _2017_new  _2017_total  _2018_new  \\\n",
       "0           China    34540.0      78070.0    53000.0     131000.0    45000.0   \n",
       "1  European Union        NaN     101433.0     5717.0     107150.0     8300.0   \n",
       "\n",
       "   _2018_total  _2019_new  _2019_total  _2020_new  _2020_total  \\\n",
       "0       175018    30100.0       204700    49655.0       254355   \n",
       "1       115234    16000.0       134129    18788.0       152917   \n",
       "\n",
       "   w_per_capita_2019  share_of_total_consumption  \n",
       "0              147.0                         6.2  \n",
       "1              295.0                         6.0  "
      ]
     },
     "execution_count": 5,
     "metadata": {},
     "output_type": "execute_result"
    }
   ],
   "source": [
    "def fill_new_generation(df):\n",
    "    for year in range(2017, 2021):\n",
    "        new_col = f\"_{year}_new\"\n",
    "        total_col = f\"_{year}_total\"\n",
    "        prev_total_col = f\"_{year-1}_total\"\n",
    "\n",
    "        df.loc[df[new_col].isna(), new_col] = df[total_col] - df[prev_total_col]\n",
    "    return df\n",
    "\n",
    "solar_df = fill_new_generation(solar_df)\n",
    "\n",
    "print(solar_df.isnull().sum())\n",
    "solar_df.head(2)\n",
    "\n",
    "# Successfully filled in missing \"new\" values."
   ]
  },
  {
   "cell_type": "markdown",
   "metadata": {},
   "source": [
    "The function greatly reduced the missing value count. While I could fill the _2016_new values with aggregation, let's find\n",
    "out if the column is even worth keeping."
   ]
  },
  {
   "cell_type": "code",
   "execution_count": 6,
   "metadata": {},
   "outputs": [
    {
     "name": "stdout",
     "output_type": "stream",
     "text": [
      "55.0\n"
     ]
    }
   ],
   "source": [
    "missing_2016_new = solar_df['_2016_new'].isnull().sum()\n",
    "total_rows = len(solar_df['_2016_new'])\n",
    "\n",
    "missing_percent = (missing_2016_new * 100) / total_rows\n",
    "print(missing_percent)"
   ]
  },
  {
   "cell_type": "markdown",
   "metadata": {},
   "source": [
    "As 55% of the _2016_new data is missing, and it is the first column in our data and we also have 2016 totals, it makes sense to drop the _2016_new column all together."
   ]
  },
  {
   "cell_type": "code",
   "execution_count": 7,
   "metadata": {},
   "outputs": [
    {
     "name": "stdout",
     "output_type": "stream",
     "text": [
      "<class 'pandas.core.frame.DataFrame'>\n",
      "RangeIndex: 80 entries, 0 to 79\n",
      "Data columns (total 12 columns):\n",
      " #   Column                      Non-Null Count  Dtype  \n",
      "---  ------                      --------------  -----  \n",
      " 0   country                     80 non-null     object \n",
      " 1   _2016_total                 75 non-null     float64\n",
      " 2   _2017_new                   75 non-null     float64\n",
      " 3   _2017_total                 75 non-null     float64\n",
      " 4   _2018_new                   75 non-null     float64\n",
      " 5   _2018_total                 80 non-null     int64  \n",
      " 6   _2019_new                   80 non-null     float64\n",
      " 7   _2019_total                 80 non-null     int64  \n",
      " 8   _2020_new                   80 non-null     float64\n",
      " 9   _2020_total                 80 non-null     int64  \n",
      " 10  w_per_capita_2019           59 non-null     float64\n",
      " 11  share_of_total_consumption  42 non-null     float64\n",
      "dtypes: float64(8), int64(3), object(1)\n",
      "memory usage: 7.6+ KB\n",
      "None\n"
     ]
    }
   ],
   "source": [
    "solar_df = solar_df.copy().drop(columns=['_2016_new'])\n",
    "print(solar_df.info())"
   ]
  },
  {
   "cell_type": "markdown",
   "metadata": {},
   "source": [
    "Thinking about how to extrapolate insights from my dataset, it would be nice to have a region column from which I could group my countries. "
   ]
  },
  {
   "cell_type": "code",
   "execution_count": 8,
   "metadata": {},
   "outputs": [
    {
     "name": "stdout",
     "output_type": "stream",
     "text": [
      "80\n"
     ]
    }
   ],
   "source": [
    "# Start by using AI to map each country name in my dataset to a region, as a list:\n",
    "\n",
    "north_america = ['United States', 'Mexico', 'Canada', \"Cuba\", \"Dominican Republic\", \"El Salvador\", \"Guatemala\", \"Honduras\", \"Panama\" ]\n",
    "south_america = ['Brazil', 'Chile', 'Argentina', 'Peru', 'Colombia', \"Bolivia\", \"Uruguay\"]\n",
    "europe = [\n",
    "    'Germany', 'Italy', 'Spain', 'United Kingdom', 'France', 'Netherlands',\n",
    "    'Belgium', 'Poland', 'Greece', 'Switzerland', 'Austria', 'Czech Republic',\n",
    "    'Hungary', 'Sweden', 'Romania', 'Denmark', 'Bulgaria', 'Portugal',\n",
    "    'Slovakia', 'Finland', 'Slovenia', 'Luxembourg', 'Belarus', 'Norway',\n",
    "    'Lithuania', 'Estonia', 'Croatia', \"Russia\", \"Ukraine\", \"Cyprus\", \"Malta\",\n",
    "]\n",
    "asia = [\n",
    "    'China', 'Japan', 'India', 'Vietnam', 'South Korea', 'Turkey', 'Taiwan',\n",
    "    'Thailand', 'United Arab Emirates', 'Israel', 'Malaysia', 'Philippines',\n",
    "    'Pakistan', 'Iran', 'Iraq', 'Jordan', 'Oman', 'Saudi Arabia', 'Bangladesh', 'Indonesia', 'Cambodia', 'Singapore', 'Yemen'\n",
    "]\n",
    "africa = ['South Africa', 'Egypt', 'Morocco', 'Algeria', 'Kenya', \"Namibia\", \"Senegal\"]\n",
    "australia = [\"Australia\", \"New Zealand\"]\n",
    "\n",
    "sum = north_america + south_america + europe + asia + africa + australia\n",
    "\n",
    "print(len(sum) + 1)\n",
    "# The length of sum is correct"
   ]
  },
  {
   "cell_type": "code",
   "execution_count": 9,
   "metadata": {},
   "outputs": [
    {
     "data": {
      "application/vnd.dataresource+json": {
       "data": [
        {
         "_2016_total": 78070,
         "_2017_new": 53000,
         "_2017_total": 131000,
         "_2018_new": 45000,
         "_2018_total": 175018,
         "_2019_new": 30100,
         "_2019_total": 204700,
         "_2020_new": 49655,
         "_2020_total": 254355,
         "country": "China",
         "index": 0,
         "region": "Asia",
         "share_of_total_consumption": 6.2,
         "w_per_capita_2019": 147
        },
        {
         "_2016_total": 101433,
         "_2017_new": 5717,
         "_2017_total": 107150,
         "_2018_new": 8300,
         "_2018_total": 115234,
         "_2019_new": 16000,
         "_2019_total": 134129,
         "_2020_new": 18788,
         "_2020_total": 152917,
         "country": "European Union",
         "index": 1,
         "region": null,
         "share_of_total_consumption": 6,
         "w_per_capita_2019": 295
        },
        {
         "_2016_total": 40300,
         "_2017_new": 10600,
         "_2017_total": 51000,
         "_2018_new": 10600,
         "_2018_total": 53184,
         "_2019_new": 13300,
         "_2019_total": 60682,
         "_2020_new": 14890,
         "_2020_total": 75572,
         "country": "United States",
         "index": 2,
         "region": "North America",
         "share_of_total_consumption": 3.4,
         "w_per_capita_2019": 231
        },
        {
         "_2016_total": 42750,
         "_2017_new": 7000,
         "_2017_total": 49000,
         "_2018_new": 6500,
         "_2018_total": 55500,
         "_2019_new": 7000,
         "_2019_total": 63000,
         "_2020_new": 4000,
         "_2020_total": 67000,
         "country": "Japan",
         "index": 3,
         "region": "Asia",
         "share_of_total_consumption": 8.3,
         "w_per_capita_2019": 498
        },
        {
         "_2016_total": 41220,
         "_2017_new": 1800,
         "_2017_total": 42000,
         "_2018_new": 3000,
         "_2018_total": 45930,
         "_2019_new": 3900,
         "_2019_total": 49200,
         "_2020_new": 4583,
         "_2020_total": 53783,
         "country": "Germany",
         "index": 4,
         "region": "Europe",
         "share_of_total_consumption": 9.7,
         "w_per_capita_2019": 593
        }
       ],
       "schema": {
        "fields": [
         {
          "name": "index",
          "type": "integer"
         },
         {
          "name": "country",
          "type": "string"
         },
         {
          "name": "_2016_total",
          "type": "number"
         },
         {
          "name": "_2017_new",
          "type": "number"
         },
         {
          "name": "_2017_total",
          "type": "number"
         },
         {
          "name": "_2018_new",
          "type": "number"
         },
         {
          "name": "_2018_total",
          "type": "integer"
         },
         {
          "name": "_2019_new",
          "type": "number"
         },
         {
          "name": "_2019_total",
          "type": "integer"
         },
         {
          "name": "_2020_new",
          "type": "number"
         },
         {
          "name": "_2020_total",
          "type": "integer"
         },
         {
          "name": "w_per_capita_2019",
          "type": "number"
         },
         {
          "name": "share_of_total_consumption",
          "type": "number"
         },
         {
          "name": "region",
          "type": "string"
         }
        ],
        "pandas_version": "1.4.0",
        "primaryKey": [
         "index"
        ]
       }
      },
      "text/html": [
       "<div>\n",
       "<style scoped>\n",
       "    .dataframe tbody tr th:only-of-type {\n",
       "        vertical-align: middle;\n",
       "    }\n",
       "\n",
       "    .dataframe tbody tr th {\n",
       "        vertical-align: top;\n",
       "    }\n",
       "\n",
       "    .dataframe thead th {\n",
       "        text-align: right;\n",
       "    }\n",
       "</style>\n",
       "<table border=\"1\" class=\"dataframe\">\n",
       "  <thead>\n",
       "    <tr style=\"text-align: right;\">\n",
       "      <th></th>\n",
       "      <th>country</th>\n",
       "      <th>_2016_total</th>\n",
       "      <th>_2017_new</th>\n",
       "      <th>_2017_total</th>\n",
       "      <th>_2018_new</th>\n",
       "      <th>_2018_total</th>\n",
       "      <th>_2019_new</th>\n",
       "      <th>_2019_total</th>\n",
       "      <th>_2020_new</th>\n",
       "      <th>_2020_total</th>\n",
       "      <th>w_per_capita_2019</th>\n",
       "      <th>share_of_total_consumption</th>\n",
       "      <th>region</th>\n",
       "    </tr>\n",
       "  </thead>\n",
       "  <tbody>\n",
       "    <tr>\n",
       "      <th>0</th>\n",
       "      <td>China</td>\n",
       "      <td>78070.0</td>\n",
       "      <td>53000.0</td>\n",
       "      <td>131000.0</td>\n",
       "      <td>45000.0</td>\n",
       "      <td>175018</td>\n",
       "      <td>30100.0</td>\n",
       "      <td>204700</td>\n",
       "      <td>49655.0</td>\n",
       "      <td>254355</td>\n",
       "      <td>147.0</td>\n",
       "      <td>6.2</td>\n",
       "      <td>Asia</td>\n",
       "    </tr>\n",
       "    <tr>\n",
       "      <th>1</th>\n",
       "      <td>European Union</td>\n",
       "      <td>101433.0</td>\n",
       "      <td>5717.0</td>\n",
       "      <td>107150.0</td>\n",
       "      <td>8300.0</td>\n",
       "      <td>115234</td>\n",
       "      <td>16000.0</td>\n",
       "      <td>134129</td>\n",
       "      <td>18788.0</td>\n",
       "      <td>152917</td>\n",
       "      <td>295.0</td>\n",
       "      <td>6.0</td>\n",
       "      <td>NaN</td>\n",
       "    </tr>\n",
       "    <tr>\n",
       "      <th>2</th>\n",
       "      <td>United States</td>\n",
       "      <td>40300.0</td>\n",
       "      <td>10600.0</td>\n",
       "      <td>51000.0</td>\n",
       "      <td>10600.0</td>\n",
       "      <td>53184</td>\n",
       "      <td>13300.0</td>\n",
       "      <td>60682</td>\n",
       "      <td>14890.0</td>\n",
       "      <td>75572</td>\n",
       "      <td>231.0</td>\n",
       "      <td>3.4</td>\n",
       "      <td>North America</td>\n",
       "    </tr>\n",
       "    <tr>\n",
       "      <th>3</th>\n",
       "      <td>Japan</td>\n",
       "      <td>42750.0</td>\n",
       "      <td>7000.0</td>\n",
       "      <td>49000.0</td>\n",
       "      <td>6500.0</td>\n",
       "      <td>55500</td>\n",
       "      <td>7000.0</td>\n",
       "      <td>63000</td>\n",
       "      <td>4000.0</td>\n",
       "      <td>67000</td>\n",
       "      <td>498.0</td>\n",
       "      <td>8.3</td>\n",
       "      <td>Asia</td>\n",
       "    </tr>\n",
       "    <tr>\n",
       "      <th>4</th>\n",
       "      <td>Germany</td>\n",
       "      <td>41220.0</td>\n",
       "      <td>1800.0</td>\n",
       "      <td>42000.0</td>\n",
       "      <td>3000.0</td>\n",
       "      <td>45930</td>\n",
       "      <td>3900.0</td>\n",
       "      <td>49200</td>\n",
       "      <td>4583.0</td>\n",
       "      <td>53783</td>\n",
       "      <td>593.0</td>\n",
       "      <td>9.7</td>\n",
       "      <td>Europe</td>\n",
       "    </tr>\n",
       "  </tbody>\n",
       "</table>\n",
       "</div>"
      ],
      "text/plain": [
       "          country  _2016_total  _2017_new  _2017_total  _2018_new  \\\n",
       "0           China      78070.0    53000.0     131000.0    45000.0   \n",
       "1  European Union     101433.0     5717.0     107150.0     8300.0   \n",
       "2   United States      40300.0    10600.0      51000.0    10600.0   \n",
       "3           Japan      42750.0     7000.0      49000.0     6500.0   \n",
       "4         Germany      41220.0     1800.0      42000.0     3000.0   \n",
       "\n",
       "   _2018_total  _2019_new  _2019_total  _2020_new  _2020_total  \\\n",
       "0       175018    30100.0       204700    49655.0       254355   \n",
       "1       115234    16000.0       134129    18788.0       152917   \n",
       "2        53184    13300.0        60682    14890.0        75572   \n",
       "3        55500     7000.0        63000     4000.0        67000   \n",
       "4        45930     3900.0        49200     4583.0        53783   \n",
       "\n",
       "   w_per_capita_2019  share_of_total_consumption         region  \n",
       "0              147.0                         6.2           Asia  \n",
       "1              295.0                         6.0            NaN  \n",
       "2              231.0                         3.4  North America  \n",
       "3              498.0                         8.3           Asia  \n",
       "4              593.0                         9.7         Europe  "
      ]
     },
     "execution_count": 9,
     "metadata": {},
     "output_type": "execute_result"
    }
   ],
   "source": [
    "# Now I'll create a function that loops through each list adding them to a dictionary, then adds those dictionaries to the region_mapping\n",
    "# dictionary. I then call it on my DataFrame, to add the new region column.\n",
    "\n",
    "def assign_region(df):\n",
    "    region_mapping = {}\n",
    "    region_mapping.update({country: \"North America\" for country in north_america})\n",
    "    region_mapping.update({country: \"South America\" for country in south_america})\n",
    "    region_mapping.update({country: \"Europe\" for country in europe})\n",
    "    region_mapping.update({country: \"Asia\" for country in asia})\n",
    "    region_mapping.update({country: \"Africa\" for country in africa})\n",
    "    region_mapping.update({country: \"Australia\" for country in australia})\n",
    "\n",
    "\n",
    "    # Map the \"region\" column based on \"country\" names\n",
    "    df[\"region\"] = df[\"country\"].map(region_mapping)\n",
    "\n",
    "    return df\n",
    "\n",
    "# Apply the function to the newly loaded DataFrame\n",
    "solar_df = assign_region(solar_df)\n",
    "\n",
    "solar_df.head(5)"
   ]
  },
  {
   "cell_type": "markdown",
   "metadata": {},
   "source": [
    "In order to maintain a nuanced understanding of the data, two DataFrames will be created, one that will maintain missing values (unless aggregates provide a very accurate picture of missing values), and one that fills in missing values when statistical reasoning is within an acceptable statistical threshold. That threshold is determined using coefficient variations primarily, but also applying common sense through summary statistics and looking at visual distributions."
   ]
  },
  {
   "cell_type": "code",
   "execution_count": 10,
   "metadata": {},
   "outputs": [],
   "source": [
    "# Start by preserving the non-aggregated DataFrame\n",
    "aggregated_solar_df = solar_df.copy()"
   ]
  },
  {
   "cell_type": "markdown",
   "metadata": {},
   "source": [
    "The next column that I will attempt to fill missing values in with aggregated values will be the share_of_total_consumption column. This next cell will analyze if aggregates should fill missing values, based on the above described statistical thresholds."
   ]
  },
  {
   "cell_type": "code",
   "execution_count": 11,
   "metadata": {},
   "outputs": [
    {
     "name": "stdout",
     "output_type": "stream",
     "text": [
      "\n",
      "Coefficient variations of each region's share_of_total_consumption columns: region\n",
      "Africa           0.299985\n",
      "Asia             0.617914\n",
      "Australia             NaN\n",
      "Europe           0.613389\n",
      "North America    1.064468\n",
      "South America    0.968998\n",
      "Name: share_of_total_consumption, dtype: float64\n",
      "\n",
      "Std to interquartile range ratio, for each region's consumption columns: region\n",
      "Africa           1.414214\n",
      "Asia             0.719183\n",
      "Australia             NaN\n",
      "Europe           0.893059\n",
      "North America    1.679863\n",
      "South America    1.414214\n",
      "Name: share_of_total_consumption, dtype: float64\n",
      "\n",
      "Summary Statistics:\n"
     ]
    },
    {
     "data": {
      "image/png": "[encoded data removed]",
      "text/plain": [
       "<Figure size 1400x600 with 2 Axes>"
      ]
     },
     "metadata": {},
     "output_type": "display_data"
    }
   ],
   "source": [
    "# Boxplot and violinplot for visual distributions\n",
    "\n",
    "plt.figure(figsize=(14, 6))\n",
    "\n",
    "ax1 = plt.subplot(1, 2, 1)\n",
    "sns.boxplot(\n",
    "    x='region',\n",
    "    y='share_of_total_consumption',\n",
    "    data=solar_df\n",
    ")\n",
    "plt.title('Boxplot of share_of_total_consumption column')\n",
    "\n",
    "ax2 = plt.subplot(1, 2, 2)\n",
    "sns.violinplot(\n",
    "    x='region',\n",
    "    y='share_of_total_consumption',\n",
    "    data=solar_df,\n",
    "    inner=\"quartile\"\n",
    "    )\n",
    "plt.title('Violinplot of share_of_total_consumption column')\n",
    "\n",
    "\n",
    "# Finding the coefficient variation by dividing the standard deviation of each region by each regions' mean.\n",
    "region_mean = solar_df.groupby('region')['share_of_total_consumption'].mean()\n",
    "std = solar_df.groupby('region')['share_of_total_consumption'].std()\n",
    "coefficient_variation_ttl_consumption = std / region_mean\n",
    "\n",
    "# I'll also divide the standard deviation by the middle quartile range, to see how outliers affect the std.\n",
    "q1 = solar_df.groupby('region')['share_of_total_consumption'].quantile(0.25)\n",
    "q3 = solar_df.groupby('region')['share_of_total_consumption'].quantile(0.75)\n",
    "iqr = q3 - q1\n",
    "std_quartile_ratio = std / iqr\n",
    "\n",
    "# Statistics to understand distributions, to help decide to aggregate missing values:\n",
    "print(f\"\\nCoefficient variations of each region's share_of_total_consumption columns: {coefficient_variation_ttl_consumption}\")\n",
    "print(f\"\\nStd to interquartile range ratio, for each region's consumption columns: {std_quartile_ratio}\")\n",
    "print('\\nSummary Statistics:')\n",
    "solar_df.groupby('region')['share_of_total_consumption'].describe()\n",
    "\n",
    "plt.show();"
   ]
  },
  {
   "cell_type": "markdown",
   "metadata": {},
   "source": [
    "Africa has a very small coefficient variation, so I will fill in missing values for solar_df and aggregated_df. Asia and Europe also have relatively small coefficient variations, so I will fill their missing values in the aggregated_df, but maintain them in solar_df to maintain the purity of that DataFrame.\n",
    "\n",
    "The first print statements are here to see the change in missing values after the fill."
   ]
  },
  {
   "cell_type": "code",
   "execution_count": 12,
   "metadata": {},
   "outputs": [
    {
     "name": "stdout",
     "output_type": "stream",
     "text": [
      "\n",
      " solar_df before filling: country                        0\n",
      "_2016_total                    5\n",
      "_2017_new                      5\n",
      "_2017_total                    5\n",
      "_2018_new                      5\n",
      "_2018_total                    0\n",
      "_2019_new                      0\n",
      "_2019_total                    0\n",
      "_2020_new                      0\n",
      "_2020_total                    0\n",
      "w_per_capita_2019             21\n",
      "share_of_total_consumption    38\n",
      "region                         1\n",
      "dtype: int64\n",
      "\n",
      " aggregate_df before filling: country                        0\n",
      "_2016_total                    5\n",
      "_2017_new                      5\n",
      "_2017_total                    5\n",
      "_2018_new                      5\n",
      "_2018_total                    0\n",
      "_2019_new                      0\n",
      "_2019_total                    0\n",
      "_2020_new                      0\n",
      "_2020_total                    0\n",
      "w_per_capita_2019             21\n",
      "share_of_total_consumption    38\n",
      "region                         1\n",
      "dtype: int64\n",
      "\n",
      " solar_df after filling: country                        0\n",
      "_2016_total                    5\n",
      "_2017_new                      5\n",
      "_2017_total                    5\n",
      "_2018_new                      5\n",
      "_2018_total                    0\n",
      "_2019_new                      0\n",
      "_2019_total                    0\n",
      "_2020_new                      0\n",
      "_2020_total                    0\n",
      "w_per_capita_2019             21\n",
      "share_of_total_consumption    33\n",
      "region                         1\n",
      "dtype: int64\n",
      "\n",
      " aggregate_df after filling: country                        0\n",
      "_2016_total                    5\n",
      "_2017_new                      5\n",
      "_2017_total                    5\n",
      "_2018_new                      5\n",
      "_2018_total                    0\n",
      "_2019_new                      0\n",
      "_2019_total                    0\n",
      "_2020_new                      0\n",
      "_2020_total                    0\n",
      "w_per_capita_2019             21\n",
      "share_of_total_consumption    11\n",
      "region                         1\n",
      "dtype: int64\n"
     ]
    }
   ],
   "source": [
    "# Missing values before filling:\n",
    "print(f\"\\n solar_df before filling: {solar_df.isna().sum()}\")\n",
    "print(f\"\\n aggregate_df before filling: {aggregated_solar_df.isna().sum()}\"    )\n",
    "\n",
    "\n",
    "# Aggregated values used to fill in missing values:\n",
    "mean_african_total_consumption = solar_df.loc[solar_df['region'] == 'Africa', 'share_of_total_consumption'].mean()\n",
    "median_asian_total_consumption = solar_df.loc[solar_df['region'] == 'Asia', 'share_of_total_consumption'].median()\n",
    "median_european_total_consumption = solar_df.loc[solar_df['region'] == 'Europe', 'share_of_total_consumption'].median()\n",
    "\n",
    "\n",
    "# Filling missing values:\n",
    "solar_df.loc[solar_df['region'] == 'Africa', 'share_of_total_consumption'] = \\\n",
    "    solar_df.loc[solar_df['region'] == 'Africa', 'share_of_total_consumption'].fillna(mean_african_total_consumption)\n",
    "\n",
    "aggregated_solar_df.loc[aggregated_solar_df['region'] == 'Asia', 'share_of_total_consumption'] = \\\n",
    "    aggregated_solar_df.loc[solar_df['region'] == 'Asia', 'share_of_total_consumption'].fillna(median_asian_total_consumption)\n",
    "\n",
    "aggregated_solar_df.loc[solar_df['region'] == 'Europe', 'share_of_total_consumption'] = \\\n",
    "    aggregated_solar_df.loc[solar_df['region'] == 'Europe', 'share_of_total_consumption'].fillna(median_european_total_consumption)\n",
    "\n",
    "aggregated_solar_df.loc[solar_df['region'] == 'Africa', 'share_of_total_consumption'] = \\\n",
    "    aggregated_solar_df.loc[solar_df['region'] == 'Africa', 'share_of_total_consumption'].fillna(mean_african_total_consumption)\n",
    "\n",
    "print(f\"\\n solar_df after filling: {solar_df.isna().sum()}\")\n",
    "print(f\"\\n aggregate_df after filling: {aggregated_solar_df.isna().sum()}\")"
   ]
  },
  {
   "cell_type": "markdown",
   "metadata": {},
   "source": [
    "I'll repeat the same process for the w_per_capita_2019 column."
   ]
  },
  {
   "cell_type": "code",
   "execution_count": 13,
   "metadata": {},
   "outputs": [
    {
     "name": "stdout",
     "output_type": "stream",
     "text": [
      "\n",
      "Coefficient variations of regions wats per capita: region\n",
      "Africa           0.895567\n",
      "Asia             1.190222\n",
      "Australia             NaN\n",
      "Europe           0.796131\n",
      "North America    0.874025\n",
      "South America    1.034790\n",
      "Name: w_per_capita_2019, dtype: float64\n",
      "\n",
      "Std to interquartile range ration to analyze outlier effects: region\n",
      "Africa           0.726837\n",
      "Asia             1.033134\n",
      "Australia             NaN\n",
      "Europe           0.784662\n",
      "North America    1.181822\n",
      "South America    1.414214\n",
      "Name: w_per_capita_2019, dtype: float64\n",
      "\n",
      "Summary Statistics:\n"
     ]
    },
    {
     "data": {
      "image/png": "[encoded data removed]",
      "text/plain": [
       "<Figure size 1200x800 with 2 Axes>"
      ]
     },
     "metadata": {},
     "output_type": "display_data"
    }
   ],
   "source": [
    "# boxplot and violin for visual distributions\n",
    "\n",
    "plt.figure(figsize=(12, 8))\n",
    "\n",
    "ax1 = plt.subplot(1, 2, 1)\n",
    "sns.boxplot(\n",
    "    x='region',\n",
    "    y='w_per_capita_2019',\n",
    "    data=solar_df\n",
    ")\n",
    "plt.title('Boxplot distribution of w_per_capita_2019')\n",
    "\n",
    "\n",
    "ax2 = plt.subplot(1, 2, 2)\n",
    "sns.violinplot(\n",
    "    x='region',\n",
    "    y='w_per_capita_2019',\n",
    "    data=solar_df,\n",
    "    inner=\"quartile\"\n",
    "    )\n",
    "plt.title('Violinplot distribution of w_per_capita_2019')\n",
    "\n",
    "\n",
    "# Finding the coefficient variation by dividing the standard deviation of each region by each regions' mean.\n",
    "mean_wats = solar_df.groupby('region')['w_per_capita_2019'].mean()\n",
    "std_wats = solar_df.groupby('region')['w_per_capita_2019'].std()\n",
    "coefficient_variation_wats = std_wats / mean_wats\n",
    "\n",
    "# I'll also divide the standard deviation by the middle quartile range, to see how outliers affect the std.\n",
    "q1 = solar_df.groupby('region')['w_per_capita_2019'].quantile(0.25)\n",
    "q3 = solar_df.groupby('region')['w_per_capita_2019'].quantile(0.75)\n",
    "iqr_wats = q3 - q1\n",
    "std_iqr_wats_ratio = std_wats / iqr_wats\n",
    "\n",
    "\n",
    "# Statistics to understand distributions, to help decide to aggregate missing values:\n",
    "print(f\"\\nCoefficient variations of regions wats per capita: {coefficient_variation_wats}\")\n",
    "print(f\"\\nStd to interquartile range ration to analyze outlier effects: {std_iqr_wats_ratio}\")\n",
    "print('\\nSummary Statistics:')\n",
    "solar_df.groupby('region')['w_per_capita_2019'].describe()\n",
    "\n",
    "plt.show();"
   ]
  },
  {
   "cell_type": "markdown",
   "metadata": {},
   "source": [
    "The same countries will receive the same treatment, as for total_consumption. While Europe has a very small coefficient variation and std/iqr ratio, it's spread is very large, and I don't want to fill in countries with data in solar_df that is too innacurate a representation."
   ]
  },
  {
   "cell_type": "code",
   "execution_count": 14,
   "metadata": {},
   "outputs": [
    {
     "name": "stdout",
     "output_type": "stream",
     "text": [
      "\n",
      " solar_df before filling: country                        0\n",
      "_2016_total                    5\n",
      "_2017_new                      5\n",
      "_2017_total                    5\n",
      "_2018_new                      5\n",
      "_2018_total                    0\n",
      "_2019_new                      0\n",
      "_2019_total                    0\n",
      "_2020_new                      0\n",
      "_2020_total                    0\n",
      "w_per_capita_2019             21\n",
      "share_of_total_consumption    33\n",
      "region                         1\n",
      "dtype: int64\n",
      "\n",
      " aggregate_df before filling: country                        0\n",
      "_2016_total                    5\n",
      "_2017_new                      5\n",
      "_2017_total                    5\n",
      "_2018_new                      5\n",
      "_2018_total                    0\n",
      "_2019_new                      0\n",
      "_2019_total                    0\n",
      "_2020_new                      0\n",
      "_2020_total                    0\n",
      "w_per_capita_2019             21\n",
      "share_of_total_consumption    11\n",
      "region                         1\n",
      "dtype: int64\n",
      "\n",
      " solar_df before filling: country                        0\n",
      "_2016_total                    5\n",
      "_2017_new                      5\n",
      "_2017_total                    5\n",
      "_2018_new                      5\n",
      "_2018_total                    0\n",
      "_2019_new                      0\n",
      "_2019_total                    0\n",
      "_2020_new                      0\n",
      "_2020_total                    0\n",
      "w_per_capita_2019             20\n",
      "share_of_total_consumption    33\n",
      "region                         1\n",
      "dtype: int64\n",
      "\n",
      " aggregate_df before filling: country                        0\n",
      "_2016_total                    5\n",
      "_2017_new                      5\n",
      "_2017_total                    5\n",
      "_2018_new                      5\n",
      "_2018_total                    0\n",
      "_2019_new                      0\n",
      "_2019_total                    0\n",
      "_2020_new                      0\n",
      "_2020_total                    0\n",
      "w_per_capita_2019             11\n",
      "share_of_total_consumption    11\n",
      "region                         1\n",
      "dtype: int64\n"
     ]
    }
   ],
   "source": [
    "# Missing values before filling:\n",
    "\n",
    "print(f\"\\n solar_df before filling: {solar_df.isna().sum()}\")\n",
    "print(f\"\\n aggregate_df before filling: {aggregated_solar_df.isna().sum()}\")\n",
    "\n",
    "# Aggregate values to fill in missing values:\n",
    "mean_african_wats= solar_df.loc[solar_df['region'] == 'Africa', 'w_per_capita_2019'].mean()\n",
    "median_asian_wats = solar_df.loc[solar_df['region'] == 'Asia', 'w_per_capita_2019'].median()\n",
    "median_european_wats= solar_df.loc[solar_df['region'] == 'Europe', 'w_per_capita_2019'].median()\n",
    "\n",
    "# Filling in missing values:\n",
    "solar_df.loc[solar_df['region'] == 'Africa', 'w_per_capita_2019'] = \\\n",
    "    solar_df.loc[solar_df['region'] == 'Africa', 'w_per_capita_2019'].fillna(mean_african_wats)\n",
    "\n",
    "aggregated_solar_df.loc[aggregated_solar_df['region'] == 'Asia', 'w_per_capita_2019'] = \\\n",
    "    aggregated_solar_df.loc[solar_df['region'] == 'Asia', 'w_per_capita_2019'].fillna(median_asian_wats)\n",
    "\n",
    "aggregated_solar_df.loc[solar_df['region'] == 'Europe', 'w_per_capita_2019'] = \\\n",
    "    aggregated_solar_df.loc[solar_df['region'] == 'Europe', 'w_per_capita_2019'].fillna(median_asian_wats)\n",
    "\n",
    "aggregated_solar_df.loc[solar_df['region'] == 'Africa', 'w_per_capita_2019'] = \\\n",
    "    aggregated_solar_df.loc[solar_df['region'] == 'Africa', 'w_per_capita_2019'].fillna(mean_african_wats)\n",
    "\n",
    "\n",
    "# Missing values after filling:\n",
    "print(f\"\\n solar_df before filling: {solar_df.isna().sum()}\")\n",
    "print(f\"\\n aggregate_df before filling: {aggregated_solar_df.isna().sum()}\")"
   ]
  },
  {
   "cell_type": "markdown",
   "metadata": {},
   "source": [
    "My DataFrames(s) have sigificantly fewer missing values than before I started cleaning. I'll take a closer look at where the missing values are, and if they can be filled."
   ]
  },
  {
   "cell_type": "code",
   "execution_count": 15,
   "metadata": {},
   "outputs": [
    {
     "data": {
      "application/vnd.dataresource+json": {
       "data": [
        {
         "_2016_total": 101433,
         "_2017_new": 5717,
         "_2017_total": 107150,
         "_2018_new": 8300,
         "_2018_total": 115234,
         "_2019_new": 16000,
         "_2019_total": 134129,
         "_2020_new": 18788,
         "_2020_total": 152917,
         "country": "European Union",
         "index": 1,
         "region": null,
         "share_of_total_consumption": 6,
         "w_per_capita_2019": 295
        },
        {
         "_2016_total": 6,
         "_2017_new": 3,
         "_2017_total": 9,
         "_2018_new": 97,
         "_2018_total": 106,
         "_2019_new": 4800,
         "_2019_total": 5695,
         "_2020_new": 10909,
         "_2020_total": 16504,
         "country": "Vietnam",
         "index": 8,
         "region": "Asia",
         "share_of_total_consumption": null,
         "w_per_capita_2019": 60
        },
        {
         "_2016_total": null,
         "_2017_new": 900,
         "_2017_total": 1100,
         "_2018_new": 1313,
         "_2018_total": 2413,
         "_2019_new": 2138,
         "_2019_total": 4595,
         "_2020_new": 3145,
         "_2020_total": 7881,
         "country": "Brazil",
         "index": 14,
         "region": "South America",
         "share_of_total_consumption": 1.7,
         "w_per_capita_2019": 22
        },
        {
         "_2016_total": null,
         "_2017_new": null,
         "_2017_total": null,
         "_2018_new": null,
         "_2018_total": 2618,
         "_2019_new": 1482,
         "_2019_total": 4100,
         "_2020_new": 1717,
         "_2020_total": 5817,
         "country": "Taiwan",
         "index": 17,
         "region": "Asia",
         "share_of_total_consumption": null,
         "w_per_capita_2019": 172
        },
        {
         "_2016_total": null,
         "_2017_new": null,
         "_2017_total": null,
         "_2018_new": null,
         "_2018_total": 487,
         "_2019_new": 813,
         "_2019_total": 1300,
         "_2020_new": 2636,
         "_2020_total": 3936,
         "country": "Poland",
         "index": 21,
         "region": "Europe",
         "share_of_total_consumption": null,
         "w_per_capita_2019": 34
        }
       ],
       "schema": {
        "fields": [
         {
          "name": "index",
          "type": "integer"
         },
         {
          "name": "country",
          "type": "string"
         },
         {
          "name": "_2016_total",
          "type": "number"
         },
         {
          "name": "_2017_new",
          "type": "number"
         },
         {
          "name": "_2017_total",
          "type": "number"
         },
         {
          "name": "_2018_new",
          "type": "number"
         },
         {
          "name": "_2018_total",
          "type": "integer"
         },
         {
          "name": "_2019_new",
          "type": "number"
         },
         {
          "name": "_2019_total",
          "type": "integer"
         },
         {
          "name": "_2020_new",
          "type": "number"
         },
         {
          "name": "_2020_total",
          "type": "integer"
         },
         {
          "name": "w_per_capita_2019",
          "type": "number"
         },
         {
          "name": "share_of_total_consumption",
          "type": "number"
         },
         {
          "name": "region",
          "type": "string"
         }
        ],
        "pandas_version": "1.4.0",
        "primaryKey": [
         "index"
        ]
       }
      },
      "text/html": [
       "<div>\n",
       "<style scoped>\n",
       "    .dataframe tbody tr th:only-of-type {\n",
       "        vertical-align: middle;\n",
       "    }\n",
       "\n",
       "    .dataframe tbody tr th {\n",
       "        vertical-align: top;\n",
       "    }\n",
       "\n",
       "    .dataframe thead th {\n",
       "        text-align: right;\n",
       "    }\n",
       "</style>\n",
       "<table border=\"1\" class=\"dataframe\">\n",
       "  <thead>\n",
       "    <tr style=\"text-align: right;\">\n",
       "      <th></th>\n",
       "      <th>country</th>\n",
       "      <th>_2016_total</th>\n",
       "      <th>_2017_new</th>\n",
       "      <th>_2017_total</th>\n",
       "      <th>_2018_new</th>\n",
       "      <th>_2018_total</th>\n",
       "      <th>_2019_new</th>\n",
       "      <th>_2019_total</th>\n",
       "      <th>_2020_new</th>\n",
       "      <th>_2020_total</th>\n",
       "      <th>w_per_capita_2019</th>\n",
       "      <th>share_of_total_consumption</th>\n",
       "      <th>region</th>\n",
       "    </tr>\n",
       "  </thead>\n",
       "  <tbody>\n",
       "    <tr>\n",
       "      <th>1</th>\n",
       "      <td>European Union</td>\n",
       "      <td>101433.0</td>\n",
       "      <td>5717.0</td>\n",
       "      <td>107150.0</td>\n",
       "      <td>8300.0</td>\n",
       "      <td>115234</td>\n",
       "      <td>16000.0</td>\n",
       "      <td>134129</td>\n",
       "      <td>18788.0</td>\n",
       "      <td>152917</td>\n",
       "      <td>295.0</td>\n",
       "      <td>6.0</td>\n",
       "      <td>NaN</td>\n",
       "    </tr>\n",
       "    <tr>\n",
       "      <th>8</th>\n",
       "      <td>Vietnam</td>\n",
       "      <td>6.0</td>\n",
       "      <td>3.0</td>\n",
       "      <td>9.0</td>\n",
       "      <td>97.0</td>\n",
       "      <td>106</td>\n",
       "      <td>4800.0</td>\n",
       "      <td>5695</td>\n",
       "      <td>10909.0</td>\n",
       "      <td>16504</td>\n",
       "      <td>60.0</td>\n",
       "      <td>NaN</td>\n",
       "      <td>Asia</td>\n",
       "    </tr>\n",
       "    <tr>\n",
       "      <th>14</th>\n",
       "      <td>Brazil</td>\n",
       "      <td>NaN</td>\n",
       "      <td>900.0</td>\n",
       "      <td>1100.0</td>\n",
       "      <td>1313.0</td>\n",
       "      <td>2413</td>\n",
       "      <td>2138.0</td>\n",
       "      <td>4595</td>\n",
       "      <td>3145.0</td>\n",
       "      <td>7881</td>\n",
       "      <td>22.0</td>\n",
       "      <td>1.7</td>\n",
       "      <td>South America</td>\n",
       "    </tr>\n",
       "    <tr>\n",
       "      <th>17</th>\n",
       "      <td>Taiwan</td>\n",
       "      <td>NaN</td>\n",
       "      <td>NaN</td>\n",
       "      <td>NaN</td>\n",
       "      <td>NaN</td>\n",
       "      <td>2618</td>\n",
       "      <td>1482.0</td>\n",
       "      <td>4100</td>\n",
       "      <td>1717.0</td>\n",
       "      <td>5817</td>\n",
       "      <td>172.0</td>\n",
       "      <td>NaN</td>\n",
       "      <td>Asia</td>\n",
       "    </tr>\n",
       "    <tr>\n",
       "      <th>21</th>\n",
       "      <td>Poland</td>\n",
       "      <td>NaN</td>\n",
       "      <td>NaN</td>\n",
       "      <td>NaN</td>\n",
       "      <td>NaN</td>\n",
       "      <td>487</td>\n",
       "      <td>813.0</td>\n",
       "      <td>1300</td>\n",
       "      <td>2636.0</td>\n",
       "      <td>3936</td>\n",
       "      <td>34.0</td>\n",
       "      <td>NaN</td>\n",
       "      <td>Europe</td>\n",
       "    </tr>\n",
       "  </tbody>\n",
       "</table>\n",
       "</div>"
      ],
      "text/plain": [
       "           country  _2016_total  _2017_new  _2017_total  _2018_new  \\\n",
       "1   European Union     101433.0     5717.0     107150.0     8300.0   \n",
       "8          Vietnam          6.0        3.0          9.0       97.0   \n",
       "14          Brazil          NaN      900.0       1100.0     1313.0   \n",
       "17          Taiwan          NaN        NaN          NaN        NaN   \n",
       "21          Poland          NaN        NaN          NaN        NaN   \n",
       "\n",
       "    _2018_total  _2019_new  _2019_total  _2020_new  _2020_total  \\\n",
       "1        115234    16000.0       134129    18788.0       152917   \n",
       "8           106     4800.0         5695    10909.0        16504   \n",
       "14         2413     2138.0         4595     3145.0         7881   \n",
       "17         2618     1482.0         4100     1717.0         5817   \n",
       "21          487      813.0         1300     2636.0         3936   \n",
       "\n",
       "    w_per_capita_2019  share_of_total_consumption         region  \n",
       "1               295.0                         6.0            NaN  \n",
       "8                60.0                         NaN           Asia  \n",
       "14               22.0                         1.7  South America  \n",
       "17              172.0                         NaN           Asia  \n",
       "21               34.0                         NaN         Europe  "
      ]
     },
     "execution_count": 15,
     "metadata": {},
     "output_type": "execute_result"
    },
    {
     "data": {
      "application/vnd.dataresource+json": {
       "data": [
        {
         "_2016_total": 101433,
         "_2017_new": 5717,
         "_2017_total": 107150,
         "_2018_new": 8300,
         "_2018_total": 115234,
         "_2019_new": 16000,
         "_2019_total": 134129,
         "_2020_new": 18788,
         "_2020_total": 152917,
         "country": "European Union",
         "index": 1,
         "region": null,
         "share_of_total_consumption": 6,
         "w_per_capita_2019": 295
        },
        {
         "_2016_total": null,
         "_2017_new": 900,
         "_2017_total": 1100,
         "_2018_new": 1313,
         "_2018_total": 2413,
         "_2019_new": 2138,
         "_2019_total": 4595,
         "_2020_new": 3145,
         "_2020_total": 7881,
         "country": "Brazil",
         "index": 14,
         "region": "South America",
         "share_of_total_consumption": 1.7,
         "w_per_capita_2019": 22
        },
        {
         "_2016_total": null,
         "_2017_new": null,
         "_2017_total": null,
         "_2018_new": null,
         "_2018_total": 2618,
         "_2019_new": 1482,
         "_2019_total": 4100,
         "_2020_new": 1717,
         "_2020_total": 5817,
         "country": "Taiwan",
         "index": 17,
         "region": "Asia",
         "share_of_total_consumption": 4.25,
         "w_per_capita_2019": 172
        },
        {
         "_2016_total": null,
         "_2017_new": null,
         "_2017_total": null,
         "_2018_new": null,
         "_2018_total": 487,
         "_2019_new": 813,
         "_2019_total": 1300,
         "_2020_new": 2636,
         "_2020_total": 3936,
         "country": "Poland",
         "index": 21,
         "region": "Europe",
         "share_of_total_consumption": 4.05,
         "w_per_capita_2019": 34
        },
        {
         "_2016_total": null,
         "_2017_new": null,
         "_2017_total": null,
         "_2018_new": null,
         "_2018_total": 2652,
         "_2019_new": 111,
         "_2019_total": 2763,
         "_2020_new": 484,
         "_2020_total": 3247,
         "country": "Greece",
         "index": 23,
         "region": "Europe",
         "share_of_total_consumption": 9.3,
         "w_per_capita_2019": 258
        }
       ],
       "schema": {
        "fields": [
         {
          "name": "index",
          "type": "integer"
         },
         {
          "name": "country",
          "type": "string"
         },
         {
          "name": "_2016_total",
          "type": "number"
         },
         {
          "name": "_2017_new",
          "type": "number"
         },
         {
          "name": "_2017_total",
          "type": "number"
         },
         {
          "name": "_2018_new",
          "type": "number"
         },
         {
          "name": "_2018_total",
          "type": "integer"
         },
         {
          "name": "_2019_new",
          "type": "number"
         },
         {
          "name": "_2019_total",
          "type": "integer"
         },
         {
          "name": "_2020_new",
          "type": "number"
         },
         {
          "name": "_2020_total",
          "type": "integer"
         },
         {
          "name": "w_per_capita_2019",
          "type": "number"
         },
         {
          "name": "share_of_total_consumption",
          "type": "number"
         },
         {
          "name": "region",
          "type": "string"
         }
        ],
        "pandas_version": "1.4.0",
        "primaryKey": [
         "index"
        ]
       }
      },
      "text/html": [
       "<div>\n",
       "<style scoped>\n",
       "    .dataframe tbody tr th:only-of-type {\n",
       "        vertical-align: middle;\n",
       "    }\n",
       "\n",
       "    .dataframe tbody tr th {\n",
       "        vertical-align: top;\n",
       "    }\n",
       "\n",
       "    .dataframe thead th {\n",
       "        text-align: right;\n",
       "    }\n",
       "</style>\n",
       "<table border=\"1\" class=\"dataframe\">\n",
       "  <thead>\n",
       "    <tr style=\"text-align: right;\">\n",
       "      <th></th>\n",
       "      <th>country</th>\n",
       "      <th>_2016_total</th>\n",
       "      <th>_2017_new</th>\n",
       "      <th>_2017_total</th>\n",
       "      <th>_2018_new</th>\n",
       "      <th>_2018_total</th>\n",
       "      <th>_2019_new</th>\n",
       "      <th>_2019_total</th>\n",
       "      <th>_2020_new</th>\n",
       "      <th>_2020_total</th>\n",
       "      <th>w_per_capita_2019</th>\n",
       "      <th>share_of_total_consumption</th>\n",
       "      <th>region</th>\n",
       "    </tr>\n",
       "  </thead>\n",
       "  <tbody>\n",
       "    <tr>\n",
       "      <th>1</th>\n",
       "      <td>European Union</td>\n",
       "      <td>101433.0</td>\n",
       "      <td>5717.0</td>\n",
       "      <td>107150.0</td>\n",
       "      <td>8300.0</td>\n",
       "      <td>115234</td>\n",
       "      <td>16000.0</td>\n",
       "      <td>134129</td>\n",
       "      <td>18788.0</td>\n",
       "      <td>152917</td>\n",
       "      <td>295.0</td>\n",
       "      <td>6.00</td>\n",
       "      <td>NaN</td>\n",
       "    </tr>\n",
       "    <tr>\n",
       "      <th>14</th>\n",
       "      <td>Brazil</td>\n",
       "      <td>NaN</td>\n",
       "      <td>900.0</td>\n",
       "      <td>1100.0</td>\n",
       "      <td>1313.0</td>\n",
       "      <td>2413</td>\n",
       "      <td>2138.0</td>\n",
       "      <td>4595</td>\n",
       "      <td>3145.0</td>\n",
       "      <td>7881</td>\n",
       "      <td>22.0</td>\n",
       "      <td>1.70</td>\n",
       "      <td>South America</td>\n",
       "    </tr>\n",
       "    <tr>\n",
       "      <th>17</th>\n",
       "      <td>Taiwan</td>\n",
       "      <td>NaN</td>\n",
       "      <td>NaN</td>\n",
       "      <td>NaN</td>\n",
       "      <td>NaN</td>\n",
       "      <td>2618</td>\n",
       "      <td>1482.0</td>\n",
       "      <td>4100</td>\n",
       "      <td>1717.0</td>\n",
       "      <td>5817</td>\n",
       "      <td>172.0</td>\n",
       "      <td>4.25</td>\n",
       "      <td>Asia</td>\n",
       "    </tr>\n",
       "    <tr>\n",
       "      <th>21</th>\n",
       "      <td>Poland</td>\n",
       "      <td>NaN</td>\n",
       "      <td>NaN</td>\n",
       "      <td>NaN</td>\n",
       "      <td>NaN</td>\n",
       "      <td>487</td>\n",
       "      <td>813.0</td>\n",
       "      <td>1300</td>\n",
       "      <td>2636.0</td>\n",
       "      <td>3936</td>\n",
       "      <td>34.0</td>\n",
       "      <td>4.05</td>\n",
       "      <td>Europe</td>\n",
       "    </tr>\n",
       "    <tr>\n",
       "      <th>23</th>\n",
       "      <td>Greece</td>\n",
       "      <td>NaN</td>\n",
       "      <td>NaN</td>\n",
       "      <td>NaN</td>\n",
       "      <td>NaN</td>\n",
       "      <td>2652</td>\n",
       "      <td>111.0</td>\n",
       "      <td>2763</td>\n",
       "      <td>484.0</td>\n",
       "      <td>3247</td>\n",
       "      <td>258.0</td>\n",
       "      <td>9.30</td>\n",
       "      <td>Europe</td>\n",
       "    </tr>\n",
       "  </tbody>\n",
       "</table>\n",
       "</div>"
      ],
      "text/plain": [
       "           country  _2016_total  _2017_new  _2017_total  _2018_new  \\\n",
       "1   European Union     101433.0     5717.0     107150.0     8300.0   \n",
       "14          Brazil          NaN      900.0       1100.0     1313.0   \n",
       "17          Taiwan          NaN        NaN          NaN        NaN   \n",
       "21          Poland          NaN        NaN          NaN        NaN   \n",
       "23          Greece          NaN        NaN          NaN        NaN   \n",
       "\n",
       "    _2018_total  _2019_new  _2019_total  _2020_new  _2020_total  \\\n",
       "1        115234    16000.0       134129    18788.0       152917   \n",
       "14         2413     2138.0         4595     3145.0         7881   \n",
       "17         2618     1482.0         4100     1717.0         5817   \n",
       "21          487      813.0         1300     2636.0         3936   \n",
       "23         2652      111.0         2763      484.0         3247   \n",
       "\n",
       "    w_per_capita_2019  share_of_total_consumption         region  \n",
       "1               295.0                        6.00            NaN  \n",
       "14               22.0                        1.70  South America  \n",
       "17              172.0                        4.25           Asia  \n",
       "21               34.0                        4.05         Europe  \n",
       "23              258.0                        9.30         Europe  "
      ]
     },
     "execution_count": 15,
     "metadata": {},
     "output_type": "execute_result"
    },
    {
     "name": "stdout",
     "output_type": "stream",
     "text": [
      "0     False\n",
      "1     False\n",
      "2     False\n",
      "3     False\n",
      "4     False\n",
      "      ...  \n",
      "75    False\n",
      "76    False\n",
      "77    False\n",
      "78    False\n",
      "79    False\n",
      "Length: 80, dtype: bool\n"
     ]
    }
   ],
   "source": [
    "missing_rows = aggregated_solar_df[aggregated_solar_df.isna().any(axis=1)]\n",
    "missing_rows2 = solar_df[solar_df.isna().any(axis=1)]\n",
    "duplicates = aggregated_solar_df.duplicated()\n",
    "\n",
    "missing_rows2.head(5)\n",
    "missing_rows.head(5)\n",
    "print(duplicates)"
   ]
  },
  {
   "cell_type": "markdown",
   "metadata": {},
   "source": [
    "Aggregation can't be performed on any of the existing missing values to fill them within a reasonable statistical threshold. This concludes my initial cleaning of the data.\n",
    "\n",
    "Now that the cleaning is done, I will save the final DataFrames as csv files, as well as load them into new tables within my solar.db SQLite database."
   ]
  },
  {
   "cell_type": "code",
   "execution_count": 16,
   "metadata": {},
   "outputs": [],
   "source": [
    "# Saving my dataframes as csvs:\n",
    "\n",
    "solar_df.to_csv('solar_cleaned.csv', index=False)\n",
    "aggregated_solar_df.to_csv('solar_cleaned_aggregated.csv', index=False)"
   ]
  },
  {
   "cell_type": "code",
   "execution_count": 17,
   "metadata": {},
   "outputs": [
    {
     "data": {
      "text/plain": [
       "80"
      ]
     },
     "execution_count": 17,
     "metadata": {},
     "output_type": "execute_result"
    },
    {
     "data": {
      "text/plain": [
       "80"
      ]
     },
     "execution_count": 17,
     "metadata": {},
     "output_type": "execute_result"
    }
   ],
   "source": [
    "# Adding the new DataFrames as tables to my database. See sql_files../schema.sql to see the table definitions.\n",
    "\n",
    "conn = sqlite3.connect('../solar.db')\n",
    "\n",
    "solar_df.to_sql('cleaned_solar', conn, if_exists='replace', index=False)\n",
    "aggregated_solar_df.to_sql('aggregated_solar', conn, if_exists='replace', index=False)\n",
    "\n",
    "conn.close()"
   ]
  },
  {
   "cell_type": "code",
   "execution_count": 18,
   "metadata": {},
   "outputs": [
    {
     "data": {
      "application/vnd.dataresource+json": {
       "data": [
        {
         "AVG(share_of_total_consumption)": 6,
         "index": 0,
         "region": null
        },
        {
         "AVG(share_of_total_consumption)": 1.65,
         "index": 1,
         "region": "Africa"
        },
        {
         "AVG(share_of_total_consumption)": 4.2239130435,
         "index": 2,
         "region": "Asia"
        },
        {
         "AVG(share_of_total_consumption)": 10.7,
         "index": 3,
         "region": "Australia"
        },
        {
         "AVG(share_of_total_consumption)": 4.5338709677,
         "index": 4,
         "region": "Europe"
        },
        {
         "AVG(share_of_total_consumption)": 5.05,
         "index": 5,
         "region": "North America"
        },
        {
         "AVG(share_of_total_consumption)": 5.4,
         "index": 6,
         "region": "South America"
        }
       ],
       "schema": {
        "fields": [
         {
          "name": "index",
          "type": "integer"
         },
         {
          "name": "region",
          "type": "string"
         },
         {
          "name": "AVG(share_of_total_consumption)",
          "type": "number"
         }
        ],
        "pandas_version": "1.4.0",
        "primaryKey": [
         "index"
        ]
       }
      },
      "text/html": [
       "<div>\n",
       "<style scoped>\n",
       "    .dataframe tbody tr th:only-of-type {\n",
       "        vertical-align: middle;\n",
       "    }\n",
       "\n",
       "    .dataframe tbody tr th {\n",
       "        vertical-align: top;\n",
       "    }\n",
       "\n",
       "    .dataframe thead th {\n",
       "        text-align: right;\n",
       "    }\n",
       "</style>\n",
       "<table border=\"1\" class=\"dataframe\">\n",
       "  <thead>\n",
       "    <tr style=\"text-align: right;\">\n",
       "      <th></th>\n",
       "      <th>region</th>\n",
       "      <th>AVG(share_of_total_consumption)</th>\n",
       "    </tr>\n",
       "  </thead>\n",
       "  <tbody>\n",
       "    <tr>\n",
       "      <th>0</th>\n",
       "      <td>None</td>\n",
       "      <td>6.000000</td>\n",
       "    </tr>\n",
       "    <tr>\n",
       "      <th>1</th>\n",
       "      <td>Africa</td>\n",
       "      <td>1.650000</td>\n",
       "    </tr>\n",
       "    <tr>\n",
       "      <th>2</th>\n",
       "      <td>Asia</td>\n",
       "      <td>4.223913</td>\n",
       "    </tr>\n",
       "    <tr>\n",
       "      <th>3</th>\n",
       "      <td>Australia</td>\n",
       "      <td>10.700000</td>\n",
       "    </tr>\n",
       "    <tr>\n",
       "      <th>4</th>\n",
       "      <td>Europe</td>\n",
       "      <td>4.533871</td>\n",
       "    </tr>\n",
       "    <tr>\n",
       "      <th>5</th>\n",
       "      <td>North America</td>\n",
       "      <td>5.050000</td>\n",
       "    </tr>\n",
       "    <tr>\n",
       "      <th>6</th>\n",
       "      <td>South America</td>\n",
       "      <td>5.400000</td>\n",
       "    </tr>\n",
       "  </tbody>\n",
       "</table>\n",
       "</div>"
      ],
      "text/plain": [
       "          region  AVG(share_of_total_consumption)\n",
       "0           None                         6.000000\n",
       "1         Africa                         1.650000\n",
       "2           Asia                         4.223913\n",
       "3      Australia                        10.700000\n",
       "4         Europe                         4.533871\n",
       "5  North America                         5.050000\n",
       "6  South America                         5.400000"
      ]
     },
     "metadata": {},
     "output_type": "display_data"
    }
   ],
   "source": [
    "# A simple query to make sure my DataFrame was successfully inserted into my table:\n",
    "\n",
    "conn = sqlite3.connect(\"../solar.db\")\n",
    "\n",
    "query = f\"\"\"\n",
    "SELECT region, AVG(share_of_total_consumption)\n",
    "FROM aggregated_solar\n",
    "GROUP BY region;\n",
    "\"\"\"\n",
    "\n",
    "avg_share_total_consumption_region = pd.read_sql(query, conn)\n",
    "\n",
    "conn.close()\n",
    "\n",
    "display(avg_share_total_consumption_region)"
   ]
  },
  {
   "cell_type": "markdown",
   "metadata": {},
   "source": [
    "Now let's really start exploring the data and global solar trends!"
   ]
  }
 ],
 "metadata": {
  "kernelspec": {
   "display_name": ".venv",
   "language": "python",
   "name": "python3"
  },
  "language_info": {
   "codemirror_mode": {
    "name": "ipython",
    "version": 3
   },
   "file_extension": ".py",
   "mimetype": "text/x-python",
   "name": "python",
   "nbconvert_exporter": "python",
   "pygments_lexer": "ipython3",
   "version": "3.10.2"
  }
 },
 "nbformat": 4,
 "nbformat_minor": 2
}
